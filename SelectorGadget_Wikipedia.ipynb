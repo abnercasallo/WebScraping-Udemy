{
 "cells": [
  {
   "cell_type": "markdown",
   "id": "f3f063ee",
   "metadata": {},
   "source": [
    "# Selector Gadget"
   ]
  },
  {
   "cell_type": "code",
   "execution_count": 1,
   "id": "0a15f343",
   "metadata": {},
   "outputs": [],
   "source": [
    "from bs4 import BeautifulSoup\n",
    "import requests"
   ]
  },
  {
   "cell_type": "code",
   "execution_count": 2,
   "id": "565d52b1",
   "metadata": {},
   "outputs": [],
   "source": [
    "url = \"https://es.wikipedia.org/wiki/Jazz\"\n",
    "res = requests.get(url)\n",
    "soup = BeautifulSoup(res.text)"
   ]
  },
  {
   "cell_type": "code",
   "execution_count": 3,
   "id": "15a6fcf0",
   "metadata": {},
   "outputs": [
    {
     "name": "stdout",
     "output_type": "stream",
     "text": [
      "[<p>A lo largo de su historia, el <i>jazz</i> ha pasado de ser una simple música de baile popular a una forma de arte reconocida en todo el mundo. Paralelamente a dicho progreso, han cambiado también las actitudes hacia esta música: en <a href=\"/wiki/1924\" title=\"1924\">1924</a> un periodista del <i><a class=\"mw-redirect\" href=\"/wiki/New_York_Times\" title=\"New York Times\">New York Times</a></i> se refería a ella como «el retorno de la música de los \"salvajes\"», mientras que en <a href=\"/wiki/1987\" title=\"1987\">1987</a> el <a class=\"mw-redirect\" href=\"/wiki/Congreso_de_los_Estados_Unidos_de_Am%C3%A9rica\" title=\"Congreso de los Estados Unidos de América\">Congreso de los Estados Unidos de América</a> declaraba al <i>jazz</i> como un «destacado modelo de expresión» y como un «excepcional tesoro nacional». Se ha señalado que el motor de dicho progreso ha sido la innovación, una particularidad que siempre ha estado presente en la historia de esta música, dirigiendo su evolución y caracterizando la obra de sus artistas más destacados al lado de una rama más tradicionalista. \n",
      "</p>]\n"
     ]
    }
   ],
   "source": [
    "movies = soup.select(\"p:nth-child(11)\")\n",
    "print(movies)"
   ]
  },
  {
   "cell_type": "code",
   "execution_count": null,
   "id": "643aa973",
   "metadata": {},
   "outputs": [],
   "source": []
  }
 ],
 "metadata": {
  "kernelspec": {
   "display_name": "Python 3 (ipykernel)",
   "language": "python",
   "name": "python3"
  },
  "language_info": {
   "codemirror_mode": {
    "name": "ipython",
    "version": 3
   },
   "file_extension": ".py",
   "mimetype": "text/x-python",
   "name": "python",
   "nbconvert_exporter": "python",
   "pygments_lexer": "ipython3",
   "version": "3.9.7"
  }
 },
 "nbformat": 4,
 "nbformat_minor": 5
}
