{
 "cells": [
  {
   "cell_type": "markdown",
   "id": "d033b888",
   "metadata": {},
   "source": [
    "# Proyecto con Selenium: AliExpress\n",
    "## Descargas\n",
    "1. Instalar Selenium en Anaconda Prompt: pip install selenium .\n",
    "2. Chrome Instalado. Trabajaremos con Chrome en este caso.\n",
    "3. Instalar Driver, en este caso chrome Driver: https://chromedriver.chromium.org/downloads\n"
   ]
  },
  {
   "cell_type": "markdown",
   "id": "a2df5f9a",
   "metadata": {},
   "source": [
    "## I. Paquetes"
   ]
  },
  {
   "cell_type": "code",
   "execution_count": 12,
   "id": "8e19c42a",
   "metadata": {},
   "outputs": [],
   "source": [
    "\n",
    "import requests\n",
    "import selenium \n",
    "from selenium import webdriver\n",
    "import pandas as pd\n",
    "from random import randint\n",
    "from time import sleep\n",
    "from selenium.webdriver.common.by import By\n",
    "from selenium.webdriver.common.keys import Keys\n"
   ]
  },
  {
   "cell_type": "markdown",
   "id": "e637f162",
   "metadata": {},
   "source": [
    "## II. Preparamos Driver"
   ]
  },
  {
   "cell_type": "code",
   "execution_count": 39,
   "id": "cf779beb",
   "metadata": {},
   "outputs": [
    {
     "name": "stderr",
     "output_type": "stream",
     "text": [
      "C:\\Users\\Usuario\\AppData\\Local\\Temp/ipykernel_10484/3666369621.py:2: DeprecationWarning: executable_path has been deprecated, please pass in a Service object\n",
      "  driver = webdriver.Chrome(executable_path=DRIVER_PATH)\n"
     ]
    }
   ],
   "source": [
    "#DRIVER_PATH = 'C:/chromedriver.exe'\n",
    "#driver = webdriver.Chrome(executable_path=DRIVER_PATH)\n",
    "#my_page = 'https://es.aliexpress.com/w/wholesale-laptop-gamer.html?catId=0&initiative_id=AS_20230830112958&SearchText=laptop+gamer&spm=a2g0o.home.1000002.0'\n",
    "#driver.get(my_page)\n"
   ]
  },
  {
   "cell_type": "code",
   "execution_count": 6,
   "id": "6269dd70",
   "metadata": {},
   "outputs": [],
   "source": [
    "########EN CASO TENGAN LA VERSIÓN Selenium mayor a la 4.6.0, no necesitan instalar el ChromeDriver. Les saldrá un error \n",
    "#executable_path. En ese caso, usen esto: \n",
    "\n",
    "\n",
    "driver=webdriver.Chrome()\n",
    "\n",
    "driver.get('https://es.aliexpress.com/w/wholesale-laptop-gamer.html?catId=0&initiative_id=AS_20230830112958&SearchText=laptop+gamer&spm=a2g0o.home.1000002.0') "
   ]
  },
  {
   "cell_type": "markdown",
   "id": "14654b53",
   "metadata": {},
   "source": [
    "## III. Método \"find_element\" y \"click\""
   ]
  },
  {
   "cell_type": "code",
   "execution_count": 7,
   "id": "44ab758c",
   "metadata": {},
   "outputs": [],
   "source": [
    "buscar=driver.find_element(By.XPATH, '//input[@type=\"submit\"]')\n",
    "buscar.click()\n"
   ]
  },
  {
   "cell_type": "code",
   "execution_count": 10,
   "id": "2c0d7ef3",
   "metadata": {},
   "outputs": [
    {
     "data": {
      "text/plain": [
       "'PEN5,808.11'"
      ]
     },
     "execution_count": 10,
     "metadata": {},
     "output_type": "execute_result"
    }
   ],
   "source": [
    "price=driver.find_element(By.XPATH, '//div[@class=\"manhattan--price--WvaUgDY\"]') #'//*[@id=\"card-list\"]/a[1]/div[2]/div[1]/div[1]'\n",
    "price.text\n"
   ]
  },
  {
   "cell_type": "markdown",
   "id": "1c4f0c7a",
   "metadata": {},
   "source": [
    "## IV. Scroll down (PAGE_DOWN)\n",
    "Esto nos ayudará a terminar de cargar la página"
   ]
  },
  {
   "cell_type": "code",
   "execution_count": 14,
   "id": "51e2b31e",
   "metadata": {},
   "outputs": [],
   "source": [
    "#from selenium.webdriver.common.keys import Keys\n",
    "for _ in range(4):  # Scroll 3 times (you can adjust the number)\n",
    "    driver.find_element(By.XPATH,'//body').send_keys(Keys.PAGE_DOWN)\n",
    "    sleep(randint(1,3))\n"
   ]
  },
  {
   "cell_type": "markdown",
   "id": "28718af7",
   "metadata": {},
   "source": [
    "## V. Método \"find_elements\" \n",
    "Este método nos permitirá encontrar todos los elementos de una referencia."
   ]
  },
  {
   "cell_type": "code",
   "execution_count": 21,
   "id": "6c5158df",
   "metadata": {},
   "outputs": [
    {
     "data": {
      "text/plain": [
       "60"
      ]
     },
     "execution_count": 21,
     "metadata": {},
     "output_type": "execute_result"
    }
   ],
   "source": [
    "prices_driver=driver.find_elements(By.XPATH, '//div[@class=\"manhattan--price-sale--1CCSZfK\"]')\n",
    "#prices_driver\n",
    "len(prices_driver)"
   ]
  },
  {
   "cell_type": "code",
   "execution_count": 22,
   "id": "96b5d8e9",
   "metadata": {},
   "outputs": [
    {
     "data": {
      "text/plain": [
       "[<selenium.webdriver.remote.webelement.WebElement (session=\"9c4713363de16a4bad36515af2f20842\", element=\"8F853B39B8E082E3B0D96447C0BA5DC0_element_563\")>,\n",
       " <selenium.webdriver.remote.webelement.WebElement (session=\"9c4713363de16a4bad36515af2f20842\", element=\"8F853B39B8E082E3B0D96447C0BA5DC0_element_581\")>,\n",
       " <selenium.webdriver.remote.webelement.WebElement (session=\"9c4713363de16a4bad36515af2f20842\", element=\"8F853B39B8E082E3B0D96447C0BA5DC0_element_736\")>,\n",
       " <selenium.webdriver.remote.webelement.WebElement (session=\"9c4713363de16a4bad36515af2f20842\", element=\"8F853B39B8E082E3B0D96447C0BA5DC0_element_740\")>,\n",
       " <selenium.webdriver.remote.webelement.WebElement (session=\"9c4713363de16a4bad36515af2f20842\", element=\"8F853B39B8E082E3B0D96447C0BA5DC0_element_745\")>,\n",
       " <selenium.webdriver.remote.webelement.WebElement (session=\"9c4713363de16a4bad36515af2f20842\", element=\"8F853B39B8E082E3B0D96447C0BA5DC0_element_746\")>,\n",
       " <selenium.webdriver.remote.webelement.WebElement (session=\"9c4713363de16a4bad36515af2f20842\", element=\"8F853B39B8E082E3B0D96447C0BA5DC0_element_747\")>,\n",
       " <selenium.webdriver.remote.webelement.WebElement (session=\"9c4713363de16a4bad36515af2f20842\", element=\"8F853B39B8E082E3B0D96447C0BA5DC0_element_748\")>,\n",
       " <selenium.webdriver.remote.webelement.WebElement (session=\"9c4713363de16a4bad36515af2f20842\", element=\"8F853B39B8E082E3B0D96447C0BA5DC0_element_749\")>,\n",
       " <selenium.webdriver.remote.webelement.WebElement (session=\"9c4713363de16a4bad36515af2f20842\", element=\"8F853B39B8E082E3B0D96447C0BA5DC0_element_750\")>,\n",
       " <selenium.webdriver.remote.webelement.WebElement (session=\"9c4713363de16a4bad36515af2f20842\", element=\"8F853B39B8E082E3B0D96447C0BA5DC0_element_751\")>,\n",
       " <selenium.webdriver.remote.webelement.WebElement (session=\"9c4713363de16a4bad36515af2f20842\", element=\"8F853B39B8E082E3B0D96447C0BA5DC0_element_752\")>,\n",
       " <selenium.webdriver.remote.webelement.WebElement (session=\"9c4713363de16a4bad36515af2f20842\", element=\"8F853B39B8E082E3B0D96447C0BA5DC0_element_753\")>,\n",
       " <selenium.webdriver.remote.webelement.WebElement (session=\"9c4713363de16a4bad36515af2f20842\", element=\"8F853B39B8E082E3B0D96447C0BA5DC0_element_754\")>,\n",
       " <selenium.webdriver.remote.webelement.WebElement (session=\"9c4713363de16a4bad36515af2f20842\", element=\"8F853B39B8E082E3B0D96447C0BA5DC0_element_755\")>,\n",
       " <selenium.webdriver.remote.webelement.WebElement (session=\"9c4713363de16a4bad36515af2f20842\", element=\"8F853B39B8E082E3B0D96447C0BA5DC0_element_756\")>,\n",
       " <selenium.webdriver.remote.webelement.WebElement (session=\"9c4713363de16a4bad36515af2f20842\", element=\"8F853B39B8E082E3B0D96447C0BA5DC0_element_757\")>,\n",
       " <selenium.webdriver.remote.webelement.WebElement (session=\"9c4713363de16a4bad36515af2f20842\", element=\"8F853B39B8E082E3B0D96447C0BA5DC0_element_758\")>,\n",
       " <selenium.webdriver.remote.webelement.WebElement (session=\"9c4713363de16a4bad36515af2f20842\", element=\"8F853B39B8E082E3B0D96447C0BA5DC0_element_759\")>,\n",
       " <selenium.webdriver.remote.webelement.WebElement (session=\"9c4713363de16a4bad36515af2f20842\", element=\"8F853B39B8E082E3B0D96447C0BA5DC0_element_760\")>,\n",
       " <selenium.webdriver.remote.webelement.WebElement (session=\"9c4713363de16a4bad36515af2f20842\", element=\"8F853B39B8E082E3B0D96447C0BA5DC0_element_761\")>,\n",
       " <selenium.webdriver.remote.webelement.WebElement (session=\"9c4713363de16a4bad36515af2f20842\", element=\"8F853B39B8E082E3B0D96447C0BA5DC0_element_762\")>,\n",
       " <selenium.webdriver.remote.webelement.WebElement (session=\"9c4713363de16a4bad36515af2f20842\", element=\"8F853B39B8E082E3B0D96447C0BA5DC0_element_763\")>,\n",
       " <selenium.webdriver.remote.webelement.WebElement (session=\"9c4713363de16a4bad36515af2f20842\", element=\"8F853B39B8E082E3B0D96447C0BA5DC0_element_764\")>,\n",
       " <selenium.webdriver.remote.webelement.WebElement (session=\"9c4713363de16a4bad36515af2f20842\", element=\"8F853B39B8E082E3B0D96447C0BA5DC0_element_765\")>,\n",
       " <selenium.webdriver.remote.webelement.WebElement (session=\"9c4713363de16a4bad36515af2f20842\", element=\"8F853B39B8E082E3B0D96447C0BA5DC0_element_766\")>,\n",
       " <selenium.webdriver.remote.webelement.WebElement (session=\"9c4713363de16a4bad36515af2f20842\", element=\"8F853B39B8E082E3B0D96447C0BA5DC0_element_767\")>,\n",
       " <selenium.webdriver.remote.webelement.WebElement (session=\"9c4713363de16a4bad36515af2f20842\", element=\"8F853B39B8E082E3B0D96447C0BA5DC0_element_768\")>,\n",
       " <selenium.webdriver.remote.webelement.WebElement (session=\"9c4713363de16a4bad36515af2f20842\", element=\"8F853B39B8E082E3B0D96447C0BA5DC0_element_769\")>,\n",
       " <selenium.webdriver.remote.webelement.WebElement (session=\"9c4713363de16a4bad36515af2f20842\", element=\"8F853B39B8E082E3B0D96447C0BA5DC0_element_721\")>,\n",
       " <selenium.webdriver.remote.webelement.WebElement (session=\"9c4713363de16a4bad36515af2f20842\", element=\"8F853B39B8E082E3B0D96447C0BA5DC0_element_770\")>,\n",
       " <selenium.webdriver.remote.webelement.WebElement (session=\"9c4713363de16a4bad36515af2f20842\", element=\"8F853B39B8E082E3B0D96447C0BA5DC0_element_771\")>,\n",
       " <selenium.webdriver.remote.webelement.WebElement (session=\"9c4713363de16a4bad36515af2f20842\", element=\"8F853B39B8E082E3B0D96447C0BA5DC0_element_772\")>,\n",
       " <selenium.webdriver.remote.webelement.WebElement (session=\"9c4713363de16a4bad36515af2f20842\", element=\"8F853B39B8E082E3B0D96447C0BA5DC0_element_773\")>,\n",
       " <selenium.webdriver.remote.webelement.WebElement (session=\"9c4713363de16a4bad36515af2f20842\", element=\"8F853B39B8E082E3B0D96447C0BA5DC0_element_774\")>,\n",
       " <selenium.webdriver.remote.webelement.WebElement (session=\"9c4713363de16a4bad36515af2f20842\", element=\"8F853B39B8E082E3B0D96447C0BA5DC0_element_775\")>,\n",
       " <selenium.webdriver.remote.webelement.WebElement (session=\"9c4713363de16a4bad36515af2f20842\", element=\"8F853B39B8E082E3B0D96447C0BA5DC0_element_776\")>,\n",
       " <selenium.webdriver.remote.webelement.WebElement (session=\"9c4713363de16a4bad36515af2f20842\", element=\"8F853B39B8E082E3B0D96447C0BA5DC0_element_777\")>,\n",
       " <selenium.webdriver.remote.webelement.WebElement (session=\"9c4713363de16a4bad36515af2f20842\", element=\"8F853B39B8E082E3B0D96447C0BA5DC0_element_778\")>,\n",
       " <selenium.webdriver.remote.webelement.WebElement (session=\"9c4713363de16a4bad36515af2f20842\", element=\"8F853B39B8E082E3B0D96447C0BA5DC0_element_779\")>,\n",
       " <selenium.webdriver.remote.webelement.WebElement (session=\"9c4713363de16a4bad36515af2f20842\", element=\"8F853B39B8E082E3B0D96447C0BA5DC0_element_780\")>,\n",
       " <selenium.webdriver.remote.webelement.WebElement (session=\"9c4713363de16a4bad36515af2f20842\", element=\"8F853B39B8E082E3B0D96447C0BA5DC0_element_781\")>,\n",
       " <selenium.webdriver.remote.webelement.WebElement (session=\"9c4713363de16a4bad36515af2f20842\", element=\"8F853B39B8E082E3B0D96447C0BA5DC0_element_782\")>,\n",
       " <selenium.webdriver.remote.webelement.WebElement (session=\"9c4713363de16a4bad36515af2f20842\", element=\"8F853B39B8E082E3B0D96447C0BA5DC0_element_783\")>,\n",
       " <selenium.webdriver.remote.webelement.WebElement (session=\"9c4713363de16a4bad36515af2f20842\", element=\"8F853B39B8E082E3B0D96447C0BA5DC0_element_784\")>,\n",
       " <selenium.webdriver.remote.webelement.WebElement (session=\"9c4713363de16a4bad36515af2f20842\", element=\"8F853B39B8E082E3B0D96447C0BA5DC0_element_785\")>,\n",
       " <selenium.webdriver.remote.webelement.WebElement (session=\"9c4713363de16a4bad36515af2f20842\", element=\"8F853B39B8E082E3B0D96447C0BA5DC0_element_786\")>,\n",
       " <selenium.webdriver.remote.webelement.WebElement (session=\"9c4713363de16a4bad36515af2f20842\", element=\"8F853B39B8E082E3B0D96447C0BA5DC0_element_787\")>,\n",
       " <selenium.webdriver.remote.webelement.WebElement (session=\"9c4713363de16a4bad36515af2f20842\", element=\"8F853B39B8E082E3B0D96447C0BA5DC0_element_788\")>,\n",
       " <selenium.webdriver.remote.webelement.WebElement (session=\"9c4713363de16a4bad36515af2f20842\", element=\"8F853B39B8E082E3B0D96447C0BA5DC0_element_789\")>,\n",
       " <selenium.webdriver.remote.webelement.WebElement (session=\"9c4713363de16a4bad36515af2f20842\", element=\"8F853B39B8E082E3B0D96447C0BA5DC0_element_790\")>,\n",
       " <selenium.webdriver.remote.webelement.WebElement (session=\"9c4713363de16a4bad36515af2f20842\", element=\"8F853B39B8E082E3B0D96447C0BA5DC0_element_791\")>,\n",
       " <selenium.webdriver.remote.webelement.WebElement (session=\"9c4713363de16a4bad36515af2f20842\", element=\"8F853B39B8E082E3B0D96447C0BA5DC0_element_792\")>,\n",
       " <selenium.webdriver.remote.webelement.WebElement (session=\"9c4713363de16a4bad36515af2f20842\", element=\"8F853B39B8E082E3B0D96447C0BA5DC0_element_793\")>,\n",
       " <selenium.webdriver.remote.webelement.WebElement (session=\"9c4713363de16a4bad36515af2f20842\", element=\"8F853B39B8E082E3B0D96447C0BA5DC0_element_794\")>,\n",
       " <selenium.webdriver.remote.webelement.WebElement (session=\"9c4713363de16a4bad36515af2f20842\", element=\"8F853B39B8E082E3B0D96447C0BA5DC0_element_795\")>,\n",
       " <selenium.webdriver.remote.webelement.WebElement (session=\"9c4713363de16a4bad36515af2f20842\", element=\"8F853B39B8E082E3B0D96447C0BA5DC0_element_796\")>,\n",
       " <selenium.webdriver.remote.webelement.WebElement (session=\"9c4713363de16a4bad36515af2f20842\", element=\"8F853B39B8E082E3B0D96447C0BA5DC0_element_797\")>,\n",
       " <selenium.webdriver.remote.webelement.WebElement (session=\"9c4713363de16a4bad36515af2f20842\", element=\"8F853B39B8E082E3B0D96447C0BA5DC0_element_798\")>,\n",
       " <selenium.webdriver.remote.webelement.WebElement (session=\"9c4713363de16a4bad36515af2f20842\", element=\"8F853B39B8E082E3B0D96447C0BA5DC0_element_799\")>]"
      ]
     },
     "execution_count": 22,
     "metadata": {},
     "output_type": "execute_result"
    }
   ],
   "source": [
    "prices_driver"
   ]
  },
  {
   "cell_type": "code",
   "execution_count": 23,
   "id": "44db7683",
   "metadata": {},
   "outputs": [
    {
     "name": "stdout",
     "output_type": "stream",
     "text": [
      "['5,808.11', '16,202.47', '8,788.3', '2,740.84', '1,651.51', '4,263.43', '4,646.37', '3,143.84', '1,245.61', '5,163.81', '3,251.21', '4,559.18', '2,682.76', '1,079.51', '1,579.03', '1,343.35', '697.14', '3,284.72', '3,162.04', '2,317.9', '8,944.73', '1,425.69', '2,894.75', '3,093.94', '2,797.81', '2,906.92', '4,089.16', '755.87', '3,963.47', '6,724.92', '1,176.91', '7,408.04', '1,543.68', '4,300.48', '1,257.71', '2,829.87', '3,794.83', '7,201.92', '1,967.82', '500.32', '4,063.9', '1,098.12', '2,609.44', '2,831.32', '4,125.78', '2,323.17', '3,228.44', '4,537.44', '4,022.83', '7,346.67', '3,107.47', '2,131.43', '1,684.53', '2,209.49', '3,222.06', '2,680.43', '4,126.68', '591.34', '1,091.66', '9,941.54']\n"
     ]
    }
   ],
   "source": [
    "\n",
    "prices=[]\n",
    "for i in range(0,len(prices_driver)):    \n",
    "    price=prices_driver[i].text\n",
    "    price=price.replace(\"PEN\", \"\")\n",
    "    prices.append(price)\n",
    "    \n",
    "print(prices)\n",
    "\n",
    "\n"
   ]
  },
  {
   "cell_type": "markdown",
   "id": "675d8c24",
   "metadata": {},
   "source": [
    "### Cambiamos de página\n"
   ]
  },
  {
   "cell_type": "code",
   "execution_count": 24,
   "id": "631cd8c2",
   "metadata": {},
   "outputs": [],
   "source": [
    "\n",
    "\n",
    "sgte=driver.find_element(By.XPATH, '//li[@class=\"pagination--paginationLink--2ucXUo6 next-next\"]')\n",
    "sgte.click()\n"
   ]
  },
  {
   "cell_type": "code",
   "execution_count": 25,
   "id": "033550df",
   "metadata": {},
   "outputs": [],
   "source": [
    "###Creamos una función\n",
    "\n",
    "def scrapear(): \n",
    "    prices=[]\n",
    "    for _ in range(6):  # Scroll 3 times (you can adjust the number)\n",
    "        driver.find_element(By.XPATH,'//body').send_keys(Keys.PAGE_DOWN)\n",
    "        sleep(randint(1,3))  \n",
    "        \n",
    "        \n",
    "    prices_driver=driver.find_elements(By.XPATH, '//div[@class=\"manhattan--price--WvaUgDY\"]')\n",
    "    for i in range(0,len(prices_driver)):    \n",
    "        price=prices_driver[i].text\n",
    "        price=price.replace(\"PEN\", \"\")\n",
    "        prices.append(price)\n",
    "\n",
    "    return(prices)\n"
   ]
  },
  {
   "cell_type": "code",
   "execution_count": 26,
   "id": "197143f7",
   "metadata": {},
   "outputs": [
    {
     "data": {
      "text/plain": [
       "['5,808.11',\n",
       " '16,202.47',\n",
       " '8,788.3',\n",
       " '2,740.84',\n",
       " '1,651.51',\n",
       " '4,263.43',\n",
       " '4,646.37',\n",
       " '3,143.84',\n",
       " '1,245.61',\n",
       " '5,163.81',\n",
       " '3,251.21',\n",
       " '4,559.18',\n",
       " '2,682.76',\n",
       " '1,079.51',\n",
       " '1,579.03',\n",
       " '1,343.35',\n",
       " '697.14',\n",
       " '3,284.72',\n",
       " '3,162.04',\n",
       " '2,317.9',\n",
       " '8,944.73',\n",
       " '1,425.69',\n",
       " '2,894.75',\n",
       " '3,093.94',\n",
       " '2,797.81',\n",
       " '2,906.92',\n",
       " '4,089.16',\n",
       " '755.87',\n",
       " '3,963.47',\n",
       " '6,724.92',\n",
       " '1,176.91',\n",
       " '7,408.04',\n",
       " '1,543.68',\n",
       " '4,300.48',\n",
       " '1,257.71',\n",
       " '2,829.87',\n",
       " '3,794.83',\n",
       " '7,201.92',\n",
       " '1,967.82',\n",
       " '500.32',\n",
       " '4,063.9',\n",
       " '1,098.12',\n",
       " '2,609.44',\n",
       " '2,831.32',\n",
       " '4,125.78',\n",
       " '2,323.17',\n",
       " '3,228.44',\n",
       " '4,537.44',\n",
       " '4,022.83',\n",
       " '7,346.67',\n",
       " '3,107.47',\n",
       " '2,131.43',\n",
       " '1,684.53',\n",
       " '2,209.49',\n",
       " '3,222.06',\n",
       " '2,680.43',\n",
       " '4,126.68',\n",
       " '591.34',\n",
       " '1,091.66',\n",
       " '9,941.54',\n",
       " '1,040.53',\n",
       " '2,894.75',\n",
       " '2,831.32',\n",
       " '1,543.68',\n",
       " '79.8',\n",
       " '1,701.15',\n",
       " '3,344.64',\n",
       " '1,433.1',\n",
       " '982.53',\n",
       " '2,576.49',\n",
       " '2,853.6',\n",
       " '1,361.27',\n",
       " '2,251.79',\n",
       " '2,368.71',\n",
       " '2,462.55',\n",
       " '1,045.43',\n",
       " '1,900.03',\n",
       " '1,582.58',\n",
       " '3,983.62',\n",
       " '3,905.86',\n",
       " '3,358.66',\n",
       " '2,646.35',\n",
       " '1,899.04',\n",
       " '557.87',\n",
       " '27.06\\n74.28',\n",
       " '4,982.97',\n",
       " '5,326.86',\n",
       " '590.54',\n",
       " '2,544.79',\n",
       " '1,069.84',\n",
       " '1,114.85',\n",
       " '3,699.65',\n",
       " '1,303.15',\n",
       " '1,361.27',\n",
       " '50.13\\n109.05',\n",
       " '3,544.21\\n6,598.75',\n",
       " '4,646.37',\n",
       " '4,331.87\\n7,017.73',\n",
       " '2,739.66',\n",
       " '570.5',\n",
       " '5,494.13',\n",
       " '3,802.12',\n",
       " '2,099.07',\n",
       " '1,154.71',\n",
       " '42.72\\n96.67',\n",
       " '100.03\\n313.47',\n",
       " '24.03\\n119.83',\n",
       " '14.83\\n75.43',\n",
       " '1.87\\n34.24',\n",
       " '2,869.49',\n",
       " '68.88\\n179.56',\n",
       " '1.87\\n24.99',\n",
       " '13.72\\n80.09',\n",
       " '3,552.84',\n",
       " '2,250.25',\n",
       " '79.42\\n175.56',\n",
       " '9.79',\n",
       " '74.89\\n261.05',\n",
       " '1.87\\n20.53',\n",
       " '2,342.2']"
      ]
     },
     "execution_count": 26,
     "metadata": {},
     "output_type": "execute_result"
    }
   ],
   "source": [
    "p=scrapear()\n",
    "prices+p"
   ]
  },
  {
   "cell_type": "markdown",
   "id": "d622880e",
   "metadata": {},
   "source": [
    "## Tarea 1: Crear Código para extraer los nombres de los productos"
   ]
  },
  {
   "cell_type": "markdown",
   "id": "2a52690a",
   "metadata": {},
   "source": [
    "## Tarea 2: Crear una función que extraiga los nombres y precios y me devuelva un data frame con 1 columna de nombres y otra de precios"
   ]
  },
  {
   "cell_type": "markdown",
   "id": "8cde2f77",
   "metadata": {},
   "source": [
    "## Tarea 3: Aplicar la función creada a todas las páginas"
   ]
  },
  {
   "cell_type": "code",
   "execution_count": null,
   "id": "3c17d941",
   "metadata": {},
   "outputs": [],
   "source": []
  }
 ],
 "metadata": {
  "kernelspec": {
   "display_name": "Python 3 (ipykernel)",
   "language": "python",
   "name": "python3"
  },
  "language_info": {
   "codemirror_mode": {
    "name": "ipython",
    "version": 3
   },
   "file_extension": ".py",
   "mimetype": "text/x-python",
   "name": "python",
   "nbconvert_exporter": "python",
   "pygments_lexer": "ipython3",
   "version": "3.9.7"
  }
 },
 "nbformat": 4,
 "nbformat_minor": 5
}
