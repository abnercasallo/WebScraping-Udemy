{
 "cells": [
  {
   "cell_type": "markdown",
   "id": "d4b4e6f6",
   "metadata": {},
   "source": [
    "# Repaso de Python\n"
   ]
  },
  {
   "cell_type": "markdown",
   "id": "39329568",
   "metadata": {},
   "source": [
    "## I. Tipo de Varibles"
   ]
  },
  {
   "cell_type": "code",
   "execution_count": 1,
   "id": "12debe2d",
   "metadata": {},
   "outputs": [
    {
     "name": "stdout",
     "output_type": "stream",
     "text": [
      "<class 'str'>\n"
     ]
    }
   ],
   "source": [
    "##Texto\n",
    "x=\"Hola Mundo\"\n",
    "print(type(x))"
   ]
  },
  {
   "cell_type": "code",
   "execution_count": 2,
   "id": "9f6620d7",
   "metadata": {},
   "outputs": [
    {
     "name": "stdout",
     "output_type": "stream",
     "text": [
      "<class 'int'>\n"
     ]
    }
   ],
   "source": [
    "##Numérico interger\n",
    "x=5\n",
    "print(type(x))"
   ]
  },
  {
   "cell_type": "code",
   "execution_count": 3,
   "id": "939c3d9a",
   "metadata": {},
   "outputs": [
    {
     "name": "stdout",
     "output_type": "stream",
     "text": [
      "<class 'float'>\n"
     ]
    }
   ],
   "source": [
    "## Numérico Float\n",
    "x=1.1\n",
    "print(type(x))"
   ]
  },
  {
   "cell_type": "code",
   "execution_count": 5,
   "id": "18eb6c77",
   "metadata": {},
   "outputs": [
    {
     "name": "stdout",
     "output_type": "stream",
     "text": [
      "<class 'list'>\n"
     ]
    }
   ],
   "source": [
    "###Listas\n",
    "x=[1,2,3]\n",
    "print(type(x))\n",
    "x.append(6)"
   ]
  },
  {
   "cell_type": "code",
   "execution_count": 7,
   "id": "f5b7b259",
   "metadata": {},
   "outputs": [
    {
     "name": "stdout",
     "output_type": "stream",
     "text": [
      "[1, 2, 3, 6, 6]\n"
     ]
    }
   ],
   "source": [
    "x.append(6)\n",
    "print(x)\n"
   ]
  },
  {
   "cell_type": "code",
   "execution_count": 8,
   "id": "fd2f0879",
   "metadata": {},
   "outputs": [
    {
     "name": "stdout",
     "output_type": "stream",
     "text": [
      "<class 'tuple'>\n"
     ]
    }
   ],
   "source": [
    "##Tupla (orden inmutable)\n",
    "x = (\"apple\", \"banana\", \"cherry\")\n",
    "print(type(x))\n"
   ]
  },
  {
   "cell_type": "code",
   "execution_count": 11,
   "id": "6321ec6d",
   "metadata": {},
   "outputs": [],
   "source": [
    "#x.append(\"A\")\n",
    "#x[4]=\"D\""
   ]
  },
  {
   "cell_type": "code",
   "execution_count": 12,
   "id": "ef1ce8d3",
   "metadata": {},
   "outputs": [
    {
     "name": "stdout",
     "output_type": "stream",
     "text": [
      "<class 'dict'>\n"
     ]
    }
   ],
   "source": [
    "##Dict\n",
    "x = {\"name\" : \"John\", \"age\" : 36}\n",
    "print(type(x))"
   ]
  },
  {
   "cell_type": "code",
   "execution_count": 13,
   "id": "03953ae9",
   "metadata": {},
   "outputs": [
    {
     "name": "stdout",
     "output_type": "stream",
     "text": [
      "{'name': 'John', 'age': 36, 'País': 'Perú'}\n"
     ]
    }
   ],
   "source": [
    "x[\"País\"]=\"Perú\"\n",
    "print(x)"
   ]
  },
  {
   "cell_type": "code",
   "execution_count": 14,
   "id": "75364a64",
   "metadata": {},
   "outputs": [
    {
     "name": "stdout",
     "output_type": "stream",
     "text": [
      "<class 'set'>\n"
     ]
    }
   ],
   "source": [
    "# Sets: Inmodificables\n",
    "x = {\"A\", \"B\", \"C\"}\n",
    "print(type(x))"
   ]
  },
  {
   "cell_type": "code",
   "execution_count": 17,
   "id": "e2983f9b",
   "metadata": {},
   "outputs": [],
   "source": [
    "#x.append(\"A\")\n",
    "#x[4]=\"D\""
   ]
  },
  {
   "cell_type": "code",
   "execution_count": 18,
   "id": "91a02171",
   "metadata": {},
   "outputs": [
    {
     "name": "stdout",
     "output_type": "stream",
     "text": [
      "<class 'range'>\n"
     ]
    }
   ],
   "source": [
    "###Range\n",
    "x=range(1,6)\n",
    "print(type(x))"
   ]
  },
  {
   "cell_type": "code",
   "execution_count": 19,
   "id": "4ac023eb",
   "metadata": {},
   "outputs": [
    {
     "name": "stdout",
     "output_type": "stream",
     "text": [
      "1\n",
      "2\n",
      "3\n",
      "4\n",
      "5\n"
     ]
    }
   ],
   "source": [
    "for i in range(1,6):\n",
    "    print(i)"
   ]
  },
  {
   "cell_type": "code",
   "execution_count": 20,
   "id": "ef694a7a",
   "metadata": {},
   "outputs": [
    {
     "name": "stdout",
     "output_type": "stream",
     "text": [
      "<class 'NoneType'>\n"
     ]
    }
   ],
   "source": [
    "##None (no hay valor)\n",
    "x = None\n",
    "print(type(x))\n"
   ]
  },
  {
   "cell_type": "code",
   "execution_count": 21,
   "id": "e493d973",
   "metadata": {},
   "outputs": [
    {
     "name": "stdout",
     "output_type": "stream",
     "text": [
      "3\n"
     ]
    }
   ],
   "source": [
    "##Operaciones\n",
    "x=1\n",
    "y=2\n",
    "print(x+y)"
   ]
  },
  {
   "cell_type": "code",
   "execution_count": 22,
   "id": "77794def",
   "metadata": {},
   "outputs": [
    {
     "name": "stdout",
     "output_type": "stream",
     "text": [
      "a B\n"
     ]
    }
   ],
   "source": [
    "x=\"a\"\n",
    "y=\"B\"\n",
    "print(x+\" \"+ y)"
   ]
  },
  {
   "cell_type": "code",
   "execution_count": 23,
   "id": "dde5660c",
   "metadata": {},
   "outputs": [
    {
     "name": "stdout",
     "output_type": "stream",
     "text": [
      "www.google.com\n"
     ]
    }
   ],
   "source": [
    "x=\"www.google.\"\n",
    "y=\"com\"\n",
    "print(x+y)"
   ]
  },
  {
   "cell_type": "code",
   "execution_count": 24,
   "id": "69036875",
   "metadata": {},
   "outputs": [
    {
     "name": "stdout",
     "output_type": "stream",
     "text": [
      "4\n"
     ]
    }
   ],
   "source": [
    "x=1\n",
    "y=4\n",
    "print(x*y)"
   ]
  },
  {
   "cell_type": "code",
   "execution_count": 25,
   "id": "2a953b9b",
   "metadata": {},
   "outputs": [
    {
     "name": "stdout",
     "output_type": "stream",
     "text": [
      "0.25\n"
     ]
    }
   ],
   "source": [
    "x=1\n",
    "y=4\n",
    "print(x/y)"
   ]
  },
  {
   "cell_type": "markdown",
   "id": "88dd1c66",
   "metadata": {},
   "source": [
    "# II. Condicionales y For"
   ]
  },
  {
   "cell_type": "markdown",
   "id": "46cd7740",
   "metadata": {},
   "source": [
    "### 2.1. IF"
   ]
  },
  {
   "cell_type": "code",
   "execution_count": 3,
   "id": "de1b303e",
   "metadata": {},
   "outputs": [
    {
     "name": "stdout",
     "output_type": "stream",
     "text": [
      "y es mayor que x\n"
     ]
    }
   ],
   "source": [
    "# If simple\n",
    "x = 2\n",
    "y = 3\n",
    "if y > x:\n",
    "    print(\"y es mayor que x\")"
   ]
  },
  {
   "cell_type": "code",
   "execution_count": 5,
   "id": "7799e8e7",
   "metadata": {},
   "outputs": [
    {
     "name": "stdout",
     "output_type": "stream",
     "text": [
      "y es mayor que x\n"
     ]
    }
   ],
   "source": [
    "##If+ Else\n",
    "x = 3\n",
    "y = 4\n",
    "if y > x:\n",
    "    print(\"y es mayor que x\")\n",
    "else:\n",
    "    print(\"x es mayor que y\")\n"
   ]
  },
  {
   "cell_type": "code",
   "execution_count": 8,
   "id": "9715b751",
   "metadata": {},
   "outputs": [],
   "source": [
    "# If anidado\n",
    "x = 5\n",
    "if x > 10:\n",
    "    print(\"x es mayor que 10\")\n",
    "    if x > 20:\n",
    "        print(\"además x es mayor que 20\")\n",
    "    else:\n",
    "        print(\"X no es mayor que 20\")"
   ]
  },
  {
   "cell_type": "code",
   "execution_count": null,
   "id": "52684e79",
   "metadata": {},
   "outputs": [],
   "source": [
    "##Identación"
   ]
  },
  {
   "cell_type": "markdown",
   "id": "138d565b",
   "metadata": {},
   "source": [
    "### 2.2. For"
   ]
  },
  {
   "cell_type": "code",
   "execution_count": 12,
   "id": "403e7a4a",
   "metadata": {},
   "outputs": [
    {
     "name": "stdout",
     "output_type": "stream",
     "text": [
      "1\n",
      "2\n",
      "3\n"
     ]
    }
   ],
   "source": [
    "for i in [1,2,3]:\n",
    "    print(i)"
   ]
  },
  {
   "cell_type": "code",
   "execution_count": 13,
   "id": "a37fb3b4",
   "metadata": {},
   "outputs": [
    {
     "name": "stdout",
     "output_type": "stream",
     "text": [
      "1\n",
      "2\n",
      "3\n"
     ]
    }
   ],
   "source": [
    "x=[1,2,3]\n",
    "for i in x:\n",
    "    print(i)"
   ]
  },
  {
   "cell_type": "code",
   "execution_count": 14,
   "id": "061e265b",
   "metadata": {},
   "outputs": [
    {
     "name": "stdout",
     "output_type": "stream",
     "text": [
      "H\n",
      "o\n",
      "l\n",
      "a\n"
     ]
    }
   ],
   "source": [
    "for x in \"Hola\":\n",
    "    print(x)"
   ]
  },
  {
   "cell_type": "code",
   "execution_count": 17,
   "id": "164fb2f1",
   "metadata": {},
   "outputs": [
    {
     "name": "stdout",
     "output_type": "stream",
     "text": [
      "A\n",
      "B\n",
      "C\n"
     ]
    }
   ],
   "source": [
    "letras= [\"A\", \"B\", \"C\", \"D\", \"E\"]\n",
    "for x in letras:\n",
    "    print(x)\n",
    "    if x == \"C\":\n",
    "        break"
   ]
  },
  {
   "cell_type": "code",
   "execution_count": 18,
   "id": "0f533d41",
   "metadata": {},
   "outputs": [
    {
     "name": "stdout",
     "output_type": "stream",
     "text": [
      "0\n",
      "1\n",
      "2\n",
      "3\n",
      "4\n",
      "Se llegó al valor 4\n"
     ]
    }
   ],
   "source": [
    "for x in range(5):\n",
    "    print(x)\n",
    "else:\n",
    "    print(\"Se llegó al valor 4\")"
   ]
  },
  {
   "cell_type": "code",
   "execution_count": 19,
   "id": "0325e225",
   "metadata": {},
   "outputs": [
    {
     "name": "stdout",
     "output_type": "stream",
     "text": [
      "1 A\n",
      "1 B\n",
      "1 C\n",
      "2 A\n",
      "2 B\n",
      "2 C\n",
      "3 A\n",
      "3 B\n",
      "3 C\n"
     ]
    }
   ],
   "source": [
    "##For Anidados\n",
    "números = [1,2,3]\n",
    "letras = [\"A\", \"B\", \"C\"]\n",
    "\n",
    "for i in números:\n",
    "    for j in letras:\n",
    "        print(i, j)"
   ]
  },
  {
   "cell_type": "code",
   "execution_count": 21,
   "id": "9ce55263",
   "metadata": {},
   "outputs": [
    {
     "name": "stdout",
     "output_type": "stream",
     "text": [
      "[2, 3, 4, 5, 6]\n"
     ]
    }
   ],
   "source": [
    "## For en comprensión de listas (list comprehensions)\n",
    "x=[1,2,3,4,5]\n",
    "print([i+1 for i in x])"
   ]
  },
  {
   "cell_type": "code",
   "execution_count": 22,
   "id": "37688373",
   "metadata": {},
   "outputs": [
    {
     "name": "stdout",
     "output_type": "stream",
     "text": [
      "[5, 6, 7]\n"
     ]
    }
   ],
   "source": [
    "print([i for i in range(1,8) if i>4])"
   ]
  },
  {
   "cell_type": "markdown",
   "id": "bfafe902",
   "metadata": {},
   "source": [
    "### III. Funciones"
   ]
  },
  {
   "cell_type": "code",
   "execution_count": 23,
   "id": "9880b344",
   "metadata": {},
   "outputs": [],
   "source": [
    "def my_function():\n",
    "    print(\"Hola Mundo\")"
   ]
  },
  {
   "cell_type": "code",
   "execution_count": 24,
   "id": "5c7975a6",
   "metadata": {},
   "outputs": [
    {
     "name": "stdout",
     "output_type": "stream",
     "text": [
      "Hola Mundo\n"
     ]
    }
   ],
   "source": [
    "my_function()"
   ]
  },
  {
   "cell_type": "code",
   "execution_count": 25,
   "id": "d5a7d893",
   "metadata": {},
   "outputs": [],
   "source": [
    "def opera(x,y):\n",
    "    print((x+y)/2)"
   ]
  },
  {
   "cell_type": "code",
   "execution_count": 27,
   "id": "134e50e7",
   "metadata": {},
   "outputs": [
    {
     "name": "stdout",
     "output_type": "stream",
     "text": [
      "5.0\n"
     ]
    }
   ],
   "source": [
    "opera(8,2)"
   ]
  },
  {
   "cell_type": "code",
   "execution_count": 28,
   "id": "cafbdd58",
   "metadata": {},
   "outputs": [],
   "source": [
    "def opera(x,y=10):\n",
    "    print((x+y)/2)"
   ]
  },
  {
   "cell_type": "code",
   "execution_count": 29,
   "id": "ff845928",
   "metadata": {},
   "outputs": [
    {
     "name": "stdout",
     "output_type": "stream",
     "text": [
      "7.5\n"
     ]
    }
   ],
   "source": [
    "opera(5)"
   ]
  },
  {
   "cell_type": "code",
   "execution_count": 30,
   "id": "8e3c6549",
   "metadata": {},
   "outputs": [
    {
     "name": "stdout",
     "output_type": "stream",
     "text": [
      "3.5\n"
     ]
    }
   ],
   "source": [
    "opera(5,2)"
   ]
  },
  {
   "cell_type": "code",
   "execution_count": 31,
   "id": "8a9b5f21",
   "metadata": {},
   "outputs": [],
   "source": [
    "def func(a,b):\n",
    "    n=a*2\n",
    "    m=b+2\n",
    "    return(n+m)\n",
    "    "
   ]
  },
  {
   "cell_type": "code",
   "execution_count": 32,
   "id": "57d9295a",
   "metadata": {},
   "outputs": [
    {
     "data": {
      "text/plain": [
       "6"
      ]
     },
     "execution_count": 32,
     "metadata": {},
     "output_type": "execute_result"
    }
   ],
   "source": [
    "func(1,2)"
   ]
  },
  {
   "cell_type": "code",
   "execution_count": 33,
   "id": "b0c8bb39",
   "metadata": {},
   "outputs": [],
   "source": [
    "opera= lambda a : a + 10\n"
   ]
  },
  {
   "cell_type": "code",
   "execution_count": 35,
   "id": "a082fc78",
   "metadata": {},
   "outputs": [
    {
     "name": "stdout",
     "output_type": "stream",
     "text": [
      "18\n"
     ]
    }
   ],
   "source": [
    "print(opera(8))"
   ]
  },
  {
   "cell_type": "code",
   "execution_count": 36,
   "id": "65925b70",
   "metadata": {},
   "outputs": [
    {
     "name": "stdout",
     "output_type": "stream",
     "text": [
      "31\n"
     ]
    }
   ],
   "source": [
    "t= lambda m, p, q : m * p + q\n",
    "print(t(5, 6,1))"
   ]
  },
  {
   "cell_type": "markdown",
   "id": "99f22d04",
   "metadata": {},
   "source": [
    "### IV. Clases\n",
    "Una clase puede entenderse como un molde dentro del cual se construyen los objetos."
   ]
  },
  {
   "cell_type": "code",
   "execution_count": 42,
   "id": "60b206aa",
   "metadata": {},
   "outputs": [],
   "source": [
    "class ClaseTest:\n",
    "     x = 5"
   ]
  },
  {
   "cell_type": "code",
   "execution_count": 43,
   "id": "61728404",
   "metadata": {},
   "outputs": [
    {
     "name": "stdout",
     "output_type": "stream",
     "text": [
      "5\n"
     ]
    }
   ],
   "source": [
    "print(ClaseTest.x)"
   ]
  },
  {
   "cell_type": "markdown",
   "id": "8ca0a5d0",
   "metadata": {},
   "source": [
    "### 4.1. Función __init__\n",
    "Se ejecuta al inicializar la clase. Permite asignar valores a la propiedad de los objetos creados "
   ]
  },
  {
   "cell_type": "code",
   "execution_count": 44,
   "id": "ec29dc13",
   "metadata": {},
   "outputs": [],
   "source": [
    "## Función Init\n",
    "class Persona:\n",
    "    def __init__(self, nombre, apellido):\n",
    "        self.nombre = nombre\n",
    "        self.apellido = apellido\n"
   ]
  },
  {
   "cell_type": "code",
   "execution_count": 46,
   "id": "6a7d0642",
   "metadata": {},
   "outputs": [
    {
     "name": "stdout",
     "output_type": "stream",
     "text": [
      "<__main__.Persona object at 0x0000018C4DA20520>\n"
     ]
    }
   ],
   "source": [
    "persona1 = Persona(\"John\", \"Gonzalo\")\n",
    "print(persona1)"
   ]
  },
  {
   "cell_type": "code",
   "execution_count": 48,
   "id": "6519caa2",
   "metadata": {},
   "outputs": [
    {
     "name": "stdout",
     "output_type": "stream",
     "text": [
      "Gonzalo\n"
     ]
    }
   ],
   "source": [
    "print(persona1.apellido)"
   ]
  },
  {
   "cell_type": "code",
   "execution_count": 50,
   "id": "dc78801e",
   "metadata": {},
   "outputs": [
    {
     "name": "stdout",
     "output_type": "stream",
     "text": [
      "Quispe\n"
     ]
    }
   ],
   "source": [
    "persona2 = Persona(\"Juan\", \"Quispe\")\n",
    "print(persona2.apellido)"
   ]
  },
  {
   "cell_type": "code",
   "execution_count": 51,
   "id": "0cc6d6f4",
   "metadata": {},
   "outputs": [],
   "source": [
    "class PersonaAlt:\n",
    "    def __init__(asfsf, nombre, apellido):\n",
    "        asfsf.nombre = nombre\n",
    "        asfsf.apellido = apellido\n"
   ]
  },
  {
   "cell_type": "code",
   "execution_count": 52,
   "id": "22411f66",
   "metadata": {},
   "outputs": [
    {
     "name": "stdout",
     "output_type": "stream",
     "text": [
      "Luis\n"
     ]
    }
   ],
   "source": [
    "persona2 = PersonaAlt(\"Luis\", \"Gonzalo\")\n",
    "print(persona2.nombre)"
   ]
  },
  {
   "cell_type": "markdown",
   "id": "79e04a8f",
   "metadata": {},
   "source": [
    "### 4.2. Métodos\n",
    "Son \"funciones\" que pertenecen a los objetos creados dentro de la clase. Es importante distinguir una función de un método. El primero hace referencia a objetos, el segundo a clases.\n",
    "1. Función: len(\"hola\")\n",
    "2. Método:  objeto.método()"
   ]
  },
  {
   "cell_type": "code",
   "execution_count": 53,
   "id": "fbdb3cb5",
   "metadata": {},
   "outputs": [
    {
     "data": {
      "text/plain": [
       "4"
      ]
     },
     "execution_count": 53,
     "metadata": {},
     "output_type": "execute_result"
    }
   ],
   "source": [
    "len(\"hola\")"
   ]
  },
  {
   "cell_type": "code",
   "execution_count": 54,
   "id": "9c0631c1",
   "metadata": {},
   "outputs": [],
   "source": [
    "\n",
    "class Persona:\n",
    "    def __init__(self, nombre, apellido):\n",
    "        self.nombre = nombre\n",
    "        self.apellido = apellido\n",
    "        \n",
    "    def presenta(self):\n",
    "        print(\"Soy \" + self.nombre +\" \"+ self.apellido )\n",
    "\n"
   ]
  },
  {
   "cell_type": "code",
   "execution_count": 55,
   "id": "99a4f43f",
   "metadata": {},
   "outputs": [
    {
     "name": "stdout",
     "output_type": "stream",
     "text": [
      "Soy John Gonzalo\n"
     ]
    }
   ],
   "source": [
    "persona1 = Persona(\"John\", \"Gonzalo\")\n",
    "persona1.presenta()"
   ]
  },
  {
   "cell_type": "code",
   "execution_count": 56,
   "id": "9d60a0a3",
   "metadata": {},
   "outputs": [
    {
     "ename": "AttributeError",
     "evalue": "'str' object has no attribute 'presenta'",
     "output_type": "error",
     "traceback": [
      "\u001b[1;31m---------------------------------------------------------------------------\u001b[0m",
      "\u001b[1;31mAttributeError\u001b[0m                            Traceback (most recent call last)",
      "\u001b[1;32m~\\AppData\\Local\\Temp/ipykernel_8284/725619084.py\u001b[0m in \u001b[0;36m<module>\u001b[1;34m\u001b[0m\n\u001b[0;32m      1\u001b[0m \u001b[0mx\u001b[0m\u001b[1;33m=\u001b[0m\u001b[1;34m\"Hola Soy Juan\"\u001b[0m\u001b[1;33m\u001b[0m\u001b[1;33m\u001b[0m\u001b[0m\n\u001b[1;32m----> 2\u001b[1;33m \u001b[0mx\u001b[0m\u001b[1;33m.\u001b[0m\u001b[0mpresenta\u001b[0m\u001b[1;33m(\u001b[0m\u001b[1;33m)\u001b[0m\u001b[1;33m\u001b[0m\u001b[1;33m\u001b[0m\u001b[0m\n\u001b[0m",
      "\u001b[1;31mAttributeError\u001b[0m: 'str' object has no attribute 'presenta'"
     ]
    }
   ],
   "source": [
    "#x=\"Hola Soy Juan\"\n",
    "#x.presenta()"
   ]
  },
  {
   "cell_type": "code",
   "execution_count": null,
   "id": "9b7ee1ca",
   "metadata": {},
   "outputs": [],
   "source": []
  }
 ],
 "metadata": {
  "kernelspec": {
   "display_name": "Python 3 (ipykernel)",
   "language": "python",
   "name": "python3"
  },
  "language_info": {
   "codemirror_mode": {
    "name": "ipython",
    "version": 3
   },
   "file_extension": ".py",
   "mimetype": "text/x-python",
   "name": "python",
   "nbconvert_exporter": "python",
   "pygments_lexer": "ipython3",
   "version": "3.9.7"
  }
 },
 "nbformat": 4,
 "nbformat_minor": 5
}
