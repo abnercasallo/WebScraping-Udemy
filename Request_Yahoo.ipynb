{
 "cells": [
  {
   "cell_type": "code",
   "execution_count": 5,
   "id": "f5eb4341",
   "metadata": {},
   "outputs": [],
   "source": [
    "import requests\n",
    "url= \"https://yahoo.com/\"\n"
   ]
  },
  {
   "cell_type": "code",
   "execution_count": 6,
   "id": "f6f59e6d",
   "metadata": {},
   "outputs": [
    {
     "name": "stdout",
     "output_type": "stream",
     "text": [
      "<Response [200]>\n"
     ]
    },
    {
     "data": {
      "text/plain": [
       "'200: Todo salió bien y se devolvió el resultado (si lo hubiera).\\n301: el servidor lo redirige a un punto final diferente. Esto puede suceder cuando una empresa cambia los nombres de dominio o se cambia el nombre de un punto final.\\n400: El servidor cree que realizó una solicitud incorrecta. Esto puede suceder cuando no envía los datos correctos, entre otras cosas.\\n401: el servidor cree que no está autenticado. Muchas API requieren credenciales de inicio de sesión, por lo que esto sucede cuando no envía las credenciales correctas para acceder a una API.\\n403: El recurso al que intentas acceder está prohibido: no tienes los permisos adecuados para verlo.\\n404: el recurso al que intentó acceder no se encontró en el servidor.\\n503: El servidor no está listo para manejar la solicitud'"
      ]
     },
     "execution_count": 6,
     "metadata": {},
     "output_type": "execute_result"
    }
   ],
   "source": [
    "response=requests.get(url)\n",
    "print(response)\n",
    "\n",
    "'''200: Todo salió bien y se devolvió el resultado (si lo hubiera).\n",
    "301: el servidor lo redirige a un punto final diferente. Esto puede suceder cuando una empresa cambia los nombres de dominio o se cambia el nombre de un punto final.\n",
    "400: El servidor cree que realizó una solicitud incorrecta. Esto puede suceder cuando no envía los datos correctos, entre otras cosas.\n",
    "401: el servidor cree que no está autenticado. Muchas API requieren credenciales de inicio de sesión, por lo que esto sucede cuando no envía las credenciales correctas para acceder a una API.\n",
    "403: El recurso al que intentas acceder está prohibido: no tienes los permisos adecuados para verlo.\n",
    "404: el recurso al que intentó acceder no se encontró en el servidor.\n",
    "503: El servidor no está listo para manejar la solicitud'''"
   ]
  },
  {
   "cell_type": "code",
   "execution_count": null,
   "id": "fa09d72f",
   "metadata": {},
   "outputs": [],
   "source": []
  }
 ],
 "metadata": {
  "kernelspec": {
   "display_name": "Python 3 (ipykernel)",
   "language": "python",
   "name": "python3"
  },
  "language_info": {
   "codemirror_mode": {
    "name": "ipython",
    "version": 3
   },
   "file_extension": ".py",
   "mimetype": "text/x-python",
   "name": "python",
   "nbconvert_exporter": "python",
   "pygments_lexer": "ipython3",
   "version": "3.9.7"
  }
 },
 "nbformat": 4,
 "nbformat_minor": 5
}
