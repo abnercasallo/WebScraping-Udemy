{
 "cells": [
  {
   "cell_type": "code",
   "execution_count": 105,
   "id": "5ac97918",
   "metadata": {},
   "outputs": [],
   "source": [
    "import requests\n",
    "from bs4 import BeautifulSoup\n",
    "import requests\n",
    "import re\n",
    "from datetime import datetime\n",
    "import pandas as pd\n"
   ]
  },
  {
   "cell_type": "code",
   "execution_count": 162,
   "id": "99cddc99",
   "metadata": {},
   "outputs": [
    {
     "name": "stdout",
     "output_type": "stream",
     "text": [
      "<Response [200]>\n"
     ]
    }
   ],
   "source": [
    "URL = 'https://hiraoka.com.pe/computo-y-tecnologia/computadoras/laptops'\n",
    "page = requests.get(URL)\n",
    "print(page)\n",
    "#page.status_code\n"
   ]
  },
  {
   "cell_type": "code",
   "execution_count": 107,
   "id": "a3dfac1a",
   "metadata": {},
   "outputs": [
    {
     "data": {
      "text/plain": [
       "[<span class=\"special-price\">\n",
       " <span class=\"price-container price-final_price tax weee\">\n",
       " <span class=\"price-label\">Precio especial</span>\n",
       " <span class=\"price-wrapper\" data-price-amount=\"6199\" data-price-type=\"finalPrice\" id=\"product-price-75992\"><span class=\"price\">S/  6,199.00</span></span>\n",
       " </span>\n",
       " </span>,\n",
       " <span class=\"special-price\">\n",
       " <span class=\"price-container price-final_price tax weee\">\n",
       " <span class=\"price-label\">Precio especial</span>\n",
       " <span class=\"price-wrapper\" data-price-amount=\"5799\" data-price-type=\"finalPrice\" id=\"product-price-75989\"><span class=\"price\">S/  5,799.00</span></span>\n",
       " </span>\n",
       " </span>,\n",
       " <span class=\"special-price\">\n",
       " <span class=\"price-container price-final_price tax weee\">\n",
       " <span class=\"price-label\">Precio especial</span>\n",
       " <span class=\"price-wrapper\" data-price-amount=\"3199\" data-price-type=\"finalPrice\" id=\"product-price-75455\"><span class=\"price\">S/  3,199.00</span></span>\n",
       " </span>\n",
       " </span>,\n",
       " <span class=\"special-price\">\n",
       " <span class=\"price-container price-final_price tax weee\">\n",
       " <span class=\"price-label\">Precio especial</span>\n",
       " <span class=\"price-wrapper\" data-price-amount=\"3599\" data-price-type=\"finalPrice\" id=\"product-price-69275\"><span class=\"price\">S/  3,599.00</span></span>\n",
       " </span>\n",
       " </span>,\n",
       " <span class=\"special-price\">\n",
       " <span class=\"price-container price-final_price tax weee\">\n",
       " <span class=\"price-label\">Precio especial</span>\n",
       " <span class=\"price-wrapper\" data-price-amount=\"2199\" data-price-type=\"finalPrice\" id=\"product-price-74117\"><span class=\"price\">S/  2,199.00</span></span>\n",
       " </span>\n",
       " </span>,\n",
       " <span class=\"special-price\">\n",
       " <span class=\"price-container price-final_price tax weee\">\n",
       " <span class=\"price-label\">Precio especial</span>\n",
       " <span class=\"price-wrapper\" data-price-amount=\"1399\" data-price-type=\"finalPrice\" id=\"product-price-69860\"><span class=\"price\">S/  1,399.00</span></span>\n",
       " </span>\n",
       " </span>,\n",
       " <span class=\"special-price\">\n",
       " <span class=\"price-container price-final_price tax weee\">\n",
       " <span class=\"price-label\">Precio especial</span>\n",
       " <span class=\"price-wrapper\" data-price-amount=\"1499\" data-price-type=\"finalPrice\" id=\"product-price-69242\"><span class=\"price\">S/  1,499.00</span></span>\n",
       " </span>\n",
       " </span>,\n",
       " <span class=\"special-price\">\n",
       " <span class=\"price-container price-final_price tax weee\">\n",
       " <span class=\"price-label\">Precio especial</span>\n",
       " <span class=\"price-wrapper\" data-price-amount=\"1999\" data-price-type=\"finalPrice\" id=\"product-price-69281\"><span class=\"price\">S/  1,999.00</span></span>\n",
       " </span>\n",
       " </span>,\n",
       " <span class=\"special-price\">\n",
       " <span class=\"price-container price-final_price tax weee\">\n",
       " <span class=\"price-label\">Precio especial</span>\n",
       " <span class=\"price-wrapper\" data-price-amount=\"2499\" data-price-type=\"finalPrice\" id=\"product-price-68360\"><span class=\"price\">S/  2,499.00</span></span>\n",
       " </span>\n",
       " </span>,\n",
       " <span class=\"special-price\">\n",
       " <span class=\"price-container price-final_price tax weee\">\n",
       " <span class=\"price-label\">Precio especial</span>\n",
       " <span class=\"price-wrapper\" data-price-amount=\"1699\" data-price-type=\"finalPrice\" id=\"product-price-68190\"><span class=\"price\">S/  1,699.00</span></span>\n",
       " </span>\n",
       " </span>,\n",
       " <span class=\"special-price\">\n",
       " <span class=\"price-container price-final_price tax weee\">\n",
       " <span class=\"price-label\">Precio especial</span>\n",
       " <span class=\"price-wrapper\" data-price-amount=\"1549\" data-price-type=\"finalPrice\" id=\"product-price-69842\"><span class=\"price\">S/  1,549.00</span></span>\n",
       " </span>\n",
       " </span>,\n",
       " <span class=\"special-price\">\n",
       " <span class=\"price-container price-final_price tax weee\">\n",
       " <span class=\"price-label\">Precio especial</span>\n",
       " <span class=\"price-wrapper\" data-price-amount=\"2199\" data-price-type=\"finalPrice\" id=\"product-price-65497\"><span class=\"price\">S/  2,199.00</span></span>\n",
       " </span>\n",
       " </span>,\n",
       " <span class=\"special-price\">\n",
       " <span class=\"price-container price-final_price tax weee\">\n",
       " <span class=\"price-label\">Precio especial</span>\n",
       " <span class=\"price-wrapper\" data-price-amount=\"2599\" data-price-type=\"finalPrice\" id=\"product-price-74120\"><span class=\"price\">S/  2,599.00</span></span>\n",
       " </span>\n",
       " </span>,\n",
       " <span class=\"special-price\">\n",
       " <span class=\"price-container price-final_price tax weee\">\n",
       " <span class=\"price-label\">Precio especial</span>\n",
       " <span class=\"price-wrapper\" data-price-amount=\"1599\" data-price-type=\"finalPrice\" id=\"product-price-74927\"><span class=\"price\">S/  1,599.00</span></span>\n",
       " </span>\n",
       " </span>,\n",
       " <span class=\"special-price\">\n",
       " <span class=\"price-container price-final_price tax weee\">\n",
       " <span class=\"price-label\">Precio especial</span>\n",
       " <span class=\"price-wrapper\" data-price-amount=\"4399\" data-price-type=\"finalPrice\" id=\"product-price-69314\"><span class=\"price\">S/  4,399.00</span></span>\n",
       " </span>\n",
       " </span>,\n",
       " <span class=\"special-price\">\n",
       " <span class=\"price-container price-final_price tax weee\">\n",
       " <span class=\"price-label\">Precio especial</span>\n",
       " <span class=\"price-wrapper\" data-price-amount=\"2149\" data-price-type=\"finalPrice\" id=\"product-price-70855\"><span class=\"price\">S/  2,149.00</span></span>\n",
       " </span>\n",
       " </span>,\n",
       " <span class=\"special-price\">\n",
       " <span class=\"price-container price-final_price tax weee\">\n",
       " <span class=\"price-label\">Precio especial</span>\n",
       " <span class=\"price-wrapper\" data-price-amount=\"2799\" data-price-type=\"finalPrice\" id=\"product-price-68199\"><span class=\"price\">S/  2,799.00</span></span>\n",
       " </span>\n",
       " </span>,\n",
       " <span class=\"special-price\">\n",
       " <span class=\"price-container price-final_price tax weee\">\n",
       " <span class=\"price-label\">Precio especial</span>\n",
       " <span class=\"price-wrapper\" data-price-amount=\"3599\" data-price-type=\"finalPrice\" id=\"product-price-69083\"><span class=\"price\">S/  3,599.00</span></span>\n",
       " </span>\n",
       " </span>,\n",
       " <span class=\"special-price\">\n",
       " <span class=\"price-container price-final_price tax weee\">\n",
       " <span class=\"price-label\">Precio especial</span>\n",
       " <span class=\"price-wrapper\" data-price-amount=\"2749\" data-price-type=\"finalPrice\" id=\"product-price-75578\"><span class=\"price\">S/  2,749.00</span></span>\n",
       " </span>\n",
       " </span>,\n",
       " <span class=\"special-price\">\n",
       " <span class=\"price-container price-final_price tax weee\">\n",
       " <span class=\"price-label\">Precio especial</span>\n",
       " <span class=\"price-wrapper\" data-price-amount=\"5099\" data-price-type=\"finalPrice\" id=\"product-price-52950\"><span class=\"price\">S/  5,099.00</span></span>\n",
       " </span>\n",
       " </span>]"
      ]
     },
     "execution_count": 107,
     "metadata": {},
     "output_type": "execute_result"
    }
   ],
   "source": [
    "soup = BeautifulSoup(page.content)\n",
    "#print(soup)\n",
    "prices_t = soup.find_all('span', {'class':\"special-price\"})\n",
    "(prices_t)\n"
   ]
  },
  {
   "cell_type": "code",
   "execution_count": 108,
   "id": "cd94185c",
   "metadata": {
    "scrolled": true
   },
   "outputs": [
    {
     "name": "stdout",
     "output_type": "stream",
     "text": [
      "['\\n\\nPrecio especial\\nS/ \\xa06,199.00\\n\\n', '\\n\\nPrecio especial\\nS/ \\xa05,799.00\\n\\n', '\\n\\nPrecio especial\\nS/ \\xa03,199.00\\n\\n', '\\n\\nPrecio especial\\nS/ \\xa03,599.00\\n\\n', '\\n\\nPrecio especial\\nS/ \\xa02,199.00\\n\\n', '\\n\\nPrecio especial\\nS/ \\xa01,399.00\\n\\n', '\\n\\nPrecio especial\\nS/ \\xa01,499.00\\n\\n', '\\n\\nPrecio especial\\nS/ \\xa01,999.00\\n\\n', '\\n\\nPrecio especial\\nS/ \\xa02,499.00\\n\\n', '\\n\\nPrecio especial\\nS/ \\xa01,699.00\\n\\n', '\\n\\nPrecio especial\\nS/ \\xa01,549.00\\n\\n', '\\n\\nPrecio especial\\nS/ \\xa02,199.00\\n\\n', '\\n\\nPrecio especial\\nS/ \\xa02,599.00\\n\\n', '\\n\\nPrecio especial\\nS/ \\xa01,599.00\\n\\n', '\\n\\nPrecio especial\\nS/ \\xa04,399.00\\n\\n', '\\n\\nPrecio especial\\nS/ \\xa02,149.00\\n\\n', '\\n\\nPrecio especial\\nS/ \\xa02,799.00\\n\\n', '\\n\\nPrecio especial\\nS/ \\xa03,599.00\\n\\n', '\\n\\nPrecio especial\\nS/ \\xa02,749.00\\n\\n', '\\n\\nPrecio especial\\nS/ \\xa05,099.00\\n\\n']\n"
     ]
    }
   ],
   "source": [
    "prices_text=[item.text for item in prices_t]\n",
    "print(prices_text)\n"
   ]
  },
  {
   "cell_type": "code",
   "execution_count": 109,
   "id": "ce5f4d2b",
   "metadata": {},
   "outputs": [
    {
     "name": "stdout",
     "output_type": "stream",
     "text": [
      "['6,199.00', '5,799.00', '3,199.00', '3,599.00', '2,199.00', '1,399.00', '1,499.00', '1,999.00', '2,499.00', '1,699.00', '1,549.00', '2,199.00', '2,599.00', '1,599.00', '4,399.00', '2,149.00', '2,799.00', '3,599.00', '2,749.00', '5,099.00']\n"
     ]
    }
   ],
   "source": [
    "\n",
    "pattern = r'[\\d,]+(?:\\.\\d+)?'\n",
    "\n",
    "prices = [re.search(pattern, item).group() for item in prices_text]\n",
    "print(prices)"
   ]
  },
  {
   "cell_type": "code",
   "execution_count": 110,
   "id": "5e4f0e6b",
   "metadata": {},
   "outputs": [],
   "source": [
    "# CHAT GPT\n",
    "#numeros = []\n",
    "\n",
    "#for elemento in prices_text:\n",
    "    #numeros.extend(re.findall(r'\\d+,\\d+\\.\\d+', elemento))\n",
    "\n",
    "#print(numeros)"
   ]
  },
  {
   "cell_type": "code",
   "execution_count": 111,
   "id": "8fe9f885",
   "metadata": {},
   "outputs": [
    {
     "name": "stdout",
     "output_type": "stream",
     "text": [
      "[6199.0, 5799.0, 3199.0, 3599.0, 2199.0, 1399.0, 1499.0, 1999.0, 2499.0, 1699.0, 1549.0, 2199.0, 2599.0, 1599.0, 4399.0, 2149.0, 2799.0, 3599.0, 2749.0, 5099.0]\n"
     ]
    }
   ],
   "source": [
    "prices= [float(item.replace(',', '')) for item in prices]\n",
    "print( prices)"
   ]
  },
  {
   "cell_type": "code",
   "execution_count": 112,
   "id": "9cca052f",
   "metadata": {},
   "outputs": [
    {
     "name": "stdout",
     "output_type": "stream",
     "text": [
      "2941.5\n"
     ]
    }
   ],
   "source": [
    "\n",
    "\n",
    "average = sum(prices) / len(prices)\n",
    "\n",
    "print(average)\n"
   ]
  },
  {
   "cell_type": "code",
   "execution_count": 113,
   "id": "bfbdf8eb",
   "metadata": {},
   "outputs": [],
   "source": [
    "#for parent in prices_t[1].parents:\n",
    "#   print(parent.name)\n"
   ]
  },
  {
   "cell_type": "code",
   "execution_count": 114,
   "id": "9adeda24",
   "metadata": {},
   "outputs": [
    {
     "name": "stdout",
     "output_type": "stream",
     "text": [
      "20\n",
      "20\n"
     ]
    }
   ],
   "source": [
    "name=soup.find_all('strong', {'class':\"product name product-item-name\"})\n",
    "names=[item.text for item in name]\n",
    "print(len(names))\n",
    "print(len(prices_t))\n"
   ]
  },
  {
   "cell_type": "markdown",
   "id": "6bf13372",
   "metadata": {},
   "source": [
    "# .parent y siblings (previous_siblings)"
   ]
  },
  {
   "cell_type": "code",
   "execution_count": 115,
   "id": "d30f39b7",
   "metadata": {},
   "outputs": [
    {
     "data": {
      "text/plain": [
       "<div class=\"price-box price-final_price\" data-price-box=\"product-id-75455\" data-product-id=\"75455\" data-role=\"priceBox\">\n",
       "<span class=\"special-price\">\n",
       "<span class=\"price-container price-final_price tax weee\">\n",
       "<span class=\"price-label\">Precio especial</span>\n",
       "<span class=\"price-wrapper\" data-price-amount=\"3199\" data-price-type=\"finalPrice\" id=\"product-price-75455\"><span class=\"price\">S/  3,199.00</span></span>\n",
       "</span>\n",
       "</span>\n",
       "<span class=\"old-price\">\n",
       "<span class=\"price-container price-final_price tax weee\">\n",
       "<span class=\"price-label\">Precio habitual</span>\n",
       "<span class=\"price-wrapper\" data-price-amount=\"4099\" data-price-type=\"oldPrice\" id=\"old-price-75455\"><span class=\"price\">S/  4,099.00</span></span>\n",
       "</span>\n",
       "</span>\n",
       "</div>"
      ]
     },
     "execution_count": 115,
     "metadata": {},
     "output_type": "execute_result"
    }
   ],
   "source": [
    "padre=prices_t[2].parent\n",
    "padre"
   ]
  },
  {
   "cell_type": "code",
   "execution_count": 116,
   "id": "e65cf3de",
   "metadata": {},
   "outputs": [
    {
     "name": "stdout",
     "output_type": "stream",
     "text": [
      "<generator object PageElement.previous_siblings at 0x00000144456F1A80>\n"
     ]
    }
   ],
   "source": [
    "print(padre.previous_siblings)"
   ]
  },
  {
   "cell_type": "code",
   "execution_count": 117,
   "id": "faf52c66",
   "metadata": {},
   "outputs": [
    {
     "name": "stdout",
     "output_type": "stream",
     "text": [
      "['\\n', <strong class=\"product sku product-item-sku\">\n",
      "                                                            Código 131934                                                    </strong>, '\\n', <strong class=\"product name product-item-name\">\n",
      "<a class=\"product-item-link\" href=\"https://hiraoka.com.pe/computo-y-tecnologia/computadoras/laptops/laptop-gamer-asus-tuf-de-15-6-modelo-fx507zc4-hn005w-tarjeta-grafica-geforce-rtx-3050-procesador-intel-core-i5-12500h-8gb-ram-512gb-de-disco-solido\" title='Laptop Gamer Asus TUF F15 de 15.6\", modelo FX507ZC4-HN005W, tarjeta gráfica GeForce RTX 3050, procesador Intel Core i5-12500H (12va generación), 8GB RAM, 512GB de disco sólido, cámara web 720p HD, entrada USB, HDMI, Windows 11, WiFi 6, Bluetooth v5.2'>\n",
      "                                Laptop Gamer Asus TUF F15 de 15.6\", modelo FX507ZC4-HN005W, tarjeta gráfica GeForce RTX 3050, procesador Intel Core i5-12500H (12va generación), 8GB RAM, 512GB de disco sólido, cámara web 720p HD, entrada USB, HDMI, Windows 11, WiFi 6, Bluetooth v5.2                            </a>\n",
      "</strong>, '\\n', <strong class=\"product brand product-item-brand\">\n",
      "<a class=\"product-item-link\" href=\"https://hiraoka.com.pe/computo-y-tecnologia/computadoras/laptops/laptop-gamer-asus-tuf-de-15-6-modelo-fx507zc4-hn005w-tarjeta-grafica-geforce-rtx-3050-procesador-intel-core-i5-12500h-8gb-ram-512gb-de-disco-solido\">\n",
      "                                    ASUS                                </a>\n",
      "</strong>, '\\n']\n"
     ]
    }
   ],
   "source": [
    "h=[]\n",
    "for sibling in padre.previous_siblings:\n",
    "    h.append(sibling)\n",
    "print(h)"
   ]
  },
  {
   "cell_type": "code",
   "execution_count": 118,
   "id": "7ec2c925",
   "metadata": {},
   "outputs": [
    {
     "name": "stdout",
     "output_type": "stream",
     "text": [
      "\n",
      "\n",
      "                                Laptop Gamer Asus TUF F15 de 15.6\", modelo FX507ZC4-HN005W, tarjeta gráfica GeForce RTX 3050, procesador Intel Core i5-12500H (12va generación), 8GB RAM, 512GB de disco sólido, cámara web 720p HD, entrada USB, HDMI, Windows 11, WiFi 6, Bluetooth v5.2                            \n",
      "\n"
     ]
    }
   ],
   "source": [
    "print(h[3].text)"
   ]
  },
  {
   "cell_type": "markdown",
   "id": "9bd34301",
   "metadata": {},
   "source": [
    "# Aplicamos para todos los nodos de precios especiales\n",
    "Con esto obtendremos solo lo nombres de los productos con precios especiales"
   ]
  },
  {
   "cell_type": "code",
   "execution_count": 119,
   "id": "f2cfc2a2",
   "metadata": {},
   "outputs": [
    {
     "name": "stdout",
     "output_type": "stream",
     "text": [
      "20\n"
     ]
    }
   ],
   "source": [
    "#padres=[]\n",
    "hermano_tercero=[]\n",
    "for price in prices_t:\n",
    "    padre=price.parent\n",
    "    #padres.append(padre)\n",
    "    hermanos=[]\n",
    "    for sibling in padre.previous_siblings:\n",
    "        hermanos.append(sibling)\n",
    "    hermano_tercero.append(hermanos[3].text)\n",
    "        \n",
    "    \n",
    "print(len(hermano_tercero))\n"
   ]
  },
  {
   "cell_type": "code",
   "execution_count": 120,
   "id": "ec7344a7",
   "metadata": {},
   "outputs": [
    {
     "name": "stdout",
     "output_type": "stream",
     "text": [
      "['\\n\\n                                Laptop Gamer MSI de 15.6\", modelo KATANA 15 B13VFK, tarjeta gráfica GeForce RTX 4060, procesador Intel Core i7-13620H (13° Generación), 16GB RAM, disco sólido de 512GB, cámara web 720p HD, entrada USB, HDMI y tipo C, Bluetooth v5.2, WiFi 6                            \\n', '\\n\\n                                Laptop Gamer MSI de 15.6\", modelo KATANA 15 B13VEK, tarjeta gráfica GeForce RTX 4050, procesador Intel Core i7-13620H (13° Generación), 16GB RAM, disco sólido de 512GB, cámara web 720p HD, entrada USB, HDMI y tipo C, Bluetooth v5.2, WiFi 6                            \\n', '\\n\\n                                Laptop Gamer Asus TUF F15 de 15.6\", modelo FX507ZC4-HN005W, tarjeta gráfica GeForce RTX 3050, procesador Intel Core i5-12500H (12va generación), 8GB RAM, 512GB de disco sólido, cámara web 720p HD, entrada USB, HDMI, Windows 11, WiFi 6, Bluetooth v5.2                            \\n', '\\n\\n                                Laptop Gamer HP Victus de 15.6\", modelo 15-fb0125la, tarjeta gráfica NVIDIA GeForce RTX 3050, procesador AMD Ryzen 7 5800H, 16GB RAM, disco sólido de 512GB, cámara web 720p HD, Bluetooth 5.3, entrada HDMI, USB, Wifi, Windows 11, para gamers.                            \\n', '\\n\\n                                Laptop Lenovo Ideapad Slim 3i de 15.6\", modelo 83ER0019LM, procesador Intel Core i5-12450H (12va generación), 16GB RAM, disco sólido de 512GB, cámara web 1080p FHD, entrada USB, HDMI y tipo C, Bluetooth v5.1, WiFi, Windows 11 Home                            \\n', '\\n\\n                                Laptop Asus Vivobook Go 15 de 15.6\", modelo E1504GA-NJ006W, procesador Intel Core i3-N305, 8GB RAM, 256GB de disco sólido, entrada USB, HDMI y tipo C, Windows 11, Bluetooth 5.3, cámara web 720p HD para oficina o estudiante.                            \\n', '\\n\\n                                Laptop HP de 15.6\", modelo 15-fd0002la, procesador Intel Core i3-N305, 8GB RAM, disco sólido de 256GB, cámara web 720p HD, Bluetooth 5.3, entrada HDMI, USB, Wifi, Windows 11, para oficina o estudiantes, Incluye Mochila HP Travel                            \\n', '\\n\\n                                Laptop HP de 15.6\", modelo 15-fc0002la, procesador AMD Ryzen 5 7520U, 16GB RAM, disco sólido de 512GB, cámara web 1080p FHD, Bluetooth 5.3, entrada HDMI, USB, Wifi, Windows 11, para oficina o estudiantes.                            \\n', '\\n\\n                                Laptop HP de 15.6\", modelo 15-fc0013la, procesador AMD Ryzen 7 7730U, 16GB RAM, disco sólido de 512GB, cámara web 1080p FHD, Bluetooth 5.3, entrada HDMI y tipo C, Wifi, Windows 11, para la oficina o estudiantes.                            \\n', '\\n\\n                                Laptop Asus Vivobook\\xa0Go 15\\xa0de 15.6\", modelo E1504FA-NJ403W, procesador AMD Ryzen 5 7520U, 8GB RAM, 256GB de disco sólido, pantalla FHD, entrada USB, HDMI y tipo C, Windows 11, Bluetooth 5.3, cámara web 720p HD para oficina o estudiante.                            \\n', '\\n\\n                                Laptop Acer de 15.6\", modelo A515-58P-34E5, procesador Intel Core i3-1315U (13va generación), 8GB RAM, 512GB de disco sólido, cámara web 720px HD, entrada USB, HDMI, Windows 11, Wifi, Bluetooth 5.0, para oficina o estudiante universitario.                            \\n', '\\n\\n                                Laptop Asus Vivobook de 16\", modelo X1605ZA-MB252W, procesador Intel Core i5 (12va generación), 8GB RAM, 512GB de disco sólido, cámara web 720HD, entrada USB, HDMI y tipo C, Windows 11, Wifi, Bluetooth 5.0, para oficina o estudiante universitario.                            \\n', '\\n\\n                                Laptop Lenovo Ideapad Slim 3i de 15.6\", modelo 83ER001BLM, procesador Intel Core i5-12450H (12va generación), 16GB RAM, disco sólido de 1TB, pantalla touch, cámara web 1080p FHD, entrada USB, HDMI y tipo C, Bluetooth v5.1, WiFi, Windows 11 Home                            \\n', '\\n\\n                                Laptop Lenovo IdeaPad Slim 3i de 15.6\", modelo 82XB0032LM, procesador Intel Core i3-N305, 8GB RAM, disco sólido de 512GB, cámara web 1080p FHD, entrada USB, HDMI y tipo C, Bluetooth v5.1, WiFi, Windows 11 Home                            \\n', '\\n\\n                                Laptop Gamer HP Victus de 16.1\", modelo 16-d1003la, tarjeta gráfica NVIDIA GeForce RTX 3060, procesador Intel Core i7 (12va generación), 16GB RAM, disco sólido de 512GB, cámara web 720p HD, Bluetooth 5.3, entrada HDMI, USB, Wifi, Windows 11, para gamers.                            \\n', '\\n\\n                                Laptop Acer Aspire Vero de 15.6\", modelo AV15-52-589W, procesador Intel Core i5-1235U, 8GB RAM, 512GB de disco sólido, cámara web 720p HD, entrada USB, HDMI, Windows 11, Wifi, Bluetooth 5.0, para oficina o estudiante universitario.                            \\n', '\\n\\n                                Laptop Asus Vivobook\\xa016\\xa0de 16\", modelo M1605YA-MB160W, procesador AMD Ryzen 7 7730U, 16GB RAM, 512GB de disco sólido, pantalla WUXGA, entrada USB, HDMI y tipo C, Windows 11, Bluetooth 5.3, cámara web 720p HD para oficina o estudiante.                            \\n', '\\n\\n                                Laptop Lenovo IdeaPad Gaming 3 de 15.6\", modelo 82SB00S7LM, tarjeta gráfica GeForce RTX 3050, procesador AMD Ryzen 7 6800H, 16GB RAM, disco sólido de 512GB, cámara web 720p HD, entrada USB y HDMI, Bluetooth 5.1, WiFi, Windows 11, para Gamers                            \\n', '\\n\\n                                COMPUTADORA PORT. HP - 15-EG2504LA Laptop HP Pavilion de 15.6\", modelo 15-EG2504LA, procesador Intel Core i5-1235U (12° generación), 12GB RAM, disco sólido de 1TB, cámara web 720p HD, Bluetooth v5.3, entrada HDMI, USB, WiFi 6, Windows 11                            \\n', '\\n\\n                                Laptop Gaming Asus ROG Strix G15 de 15.6\", modelo G513RC-HN097W, tarjeta gráfica GeForce RTX 3050, procesador AMD Ryzen 7 6800H, 16GB RAM, disco sólido de 512GB, cámara externa 1080p FHD, entrada USB, HDMI y tipo C, Windows 11, Wifi, para gamers.                            \\n']\n"
     ]
    }
   ],
   "source": [
    "print(hermano_tercero)"
   ]
  },
  {
   "cell_type": "code",
   "execution_count": 121,
   "id": "1d3f72fc",
   "metadata": {},
   "outputs": [
    {
     "name": "stdout",
     "output_type": "stream",
     "text": [
      "['Laptop Gamer MSI de 15.6\", modelo KATANA 15 B13VFK, tarjeta gráfica GeForce RTX 4060, procesador Intel Core i7-13620H (13° Generación), 16GB RAM, disco sólido de 512GB, cámara web 720p HD, entrada USB, HDMI y tipo C, Bluetooth v5.2, WiFi 6', 'Laptop Gamer MSI de 15.6\", modelo KATANA 15 B13VEK, tarjeta gráfica GeForce RTX 4050, procesador Intel Core i7-13620H (13° Generación), 16GB RAM, disco sólido de 512GB, cámara web 720p HD, entrada USB, HDMI y tipo C, Bluetooth v5.2, WiFi 6', 'Laptop Gamer Asus TUF F15 de 15.6\", modelo FX507ZC4-HN005W, tarjeta gráfica GeForce RTX 3050, procesador Intel Core i5-12500H (12va generación), 8GB RAM, 512GB de disco sólido, cámara web 720p HD, entrada USB, HDMI, Windows 11, WiFi 6, Bluetooth v5.2', 'Laptop Gamer HP Victus de 15.6\", modelo 15-fb0125la, tarjeta gráfica NVIDIA GeForce RTX 3050, procesador AMD Ryzen 7 5800H, 16GB RAM, disco sólido de 512GB, cámara web 720p HD, Bluetooth 5.3, entrada HDMI, USB, Wifi, Windows 11, para gamers.', 'Laptop Lenovo Ideapad Slim 3i de 15.6\", modelo 83ER0019LM, procesador Intel Core i5-12450H (12va generación), 16GB RAM, disco sólido de 512GB, cámara web 1080p FHD, entrada USB, HDMI y tipo C, Bluetooth v5.1, WiFi, Windows 11 Home', 'Laptop Asus Vivobook Go 15 de 15.6\", modelo E1504GA-NJ006W, procesador Intel Core i3-N305, 8GB RAM, 256GB de disco sólido, entrada USB, HDMI y tipo C, Windows 11, Bluetooth 5.3, cámara web 720p HD para oficina o estudiante.', 'Laptop HP de 15.6\", modelo 15-fd0002la, procesador Intel Core i3-N305, 8GB RAM, disco sólido de 256GB, cámara web 720p HD, Bluetooth 5.3, entrada HDMI, USB, Wifi, Windows 11, para oficina o estudiantes, Incluye Mochila HP Travel', 'Laptop HP de 15.6\", modelo 15-fc0002la, procesador AMD Ryzen 5 7520U, 16GB RAM, disco sólido de 512GB, cámara web 1080p FHD, Bluetooth 5.3, entrada HDMI, USB, Wifi, Windows 11, para oficina o estudiantes.', 'Laptop HP de 15.6\", modelo 15-fc0013la, procesador AMD Ryzen 7 7730U, 16GB RAM, disco sólido de 512GB, cámara web 1080p FHD, Bluetooth 5.3, entrada HDMI y tipo C, Wifi, Windows 11, para la oficina o estudiantes.', 'Laptop Asus Vivobook\\xa0Go 15\\xa0de 15.6\", modelo E1504FA-NJ403W, procesador AMD Ryzen 5 7520U, 8GB RAM, 256GB de disco sólido, pantalla FHD, entrada USB, HDMI y tipo C, Windows 11, Bluetooth 5.3, cámara web 720p HD para oficina o estudiante.', 'Laptop Acer de 15.6\", modelo A515-58P-34E5, procesador Intel Core i3-1315U (13va generación), 8GB RAM, 512GB de disco sólido, cámara web 720px HD, entrada USB, HDMI, Windows 11, Wifi, Bluetooth 5.0, para oficina o estudiante universitario.', 'Laptop Asus Vivobook de 16\", modelo X1605ZA-MB252W, procesador Intel Core i5 (12va generación), 8GB RAM, 512GB de disco sólido, cámara web 720HD, entrada USB, HDMI y tipo C, Windows 11, Wifi, Bluetooth 5.0, para oficina o estudiante universitario.', 'Laptop Lenovo Ideapad Slim 3i de 15.6\", modelo 83ER001BLM, procesador Intel Core i5-12450H (12va generación), 16GB RAM, disco sólido de 1TB, pantalla touch, cámara web 1080p FHD, entrada USB, HDMI y tipo C, Bluetooth v5.1, WiFi, Windows 11 Home', 'Laptop Lenovo IdeaPad Slim 3i de 15.6\", modelo 82XB0032LM, procesador Intel Core i3-N305, 8GB RAM, disco sólido de 512GB, cámara web 1080p FHD, entrada USB, HDMI y tipo C, Bluetooth v5.1, WiFi, Windows 11 Home', 'Laptop Gamer HP Victus de 16.1\", modelo 16-d1003la, tarjeta gráfica NVIDIA GeForce RTX 3060, procesador Intel Core i7 (12va generación), 16GB RAM, disco sólido de 512GB, cámara web 720p HD, Bluetooth 5.3, entrada HDMI, USB, Wifi, Windows 11, para gamers.', 'Laptop Acer Aspire Vero de 15.6\", modelo AV15-52-589W, procesador Intel Core i5-1235U, 8GB RAM, 512GB de disco sólido, cámara web 720p HD, entrada USB, HDMI, Windows 11, Wifi, Bluetooth 5.0, para oficina o estudiante universitario.', 'Laptop Asus Vivobook\\xa016\\xa0de 16\", modelo M1605YA-MB160W, procesador AMD Ryzen 7 7730U, 16GB RAM, 512GB de disco sólido, pantalla WUXGA, entrada USB, HDMI y tipo C, Windows 11, Bluetooth 5.3, cámara web 720p HD para oficina o estudiante.', 'Laptop Lenovo IdeaPad Gaming 3 de 15.6\", modelo 82SB00S7LM, tarjeta gráfica GeForce RTX 3050, procesador AMD Ryzen 7 6800H, 16GB RAM, disco sólido de 512GB, cámara web 720p HD, entrada USB y HDMI, Bluetooth 5.1, WiFi, Windows 11, para Gamers', 'COMPUTADORA PORT. HP - 15-EG2504LA Laptop HP Pavilion de 15.6\", modelo 15-EG2504LA, procesador Intel Core i5-1235U (12° generación), 12GB RAM, disco sólido de 1TB, cámara web 720p HD, Bluetooth v5.3, entrada HDMI, USB, WiFi 6, Windows 11', 'Laptop Gaming Asus ROG Strix G15 de 15.6\", modelo G513RC-HN097W, tarjeta gráfica GeForce RTX 3050, procesador AMD Ryzen 7 6800H, 16GB RAM, disco sólido de 512GB, cámara externa 1080p FHD, entrada USB, HDMI y tipo C, Windows 11, Wifi, para gamers.']\n"
     ]
    }
   ],
   "source": [
    "hermano_tercero = [t.strip() for t in hermano_tercero]\n",
    "names=hermano_tercero\n",
    "print(names)"
   ]
  },
  {
   "cell_type": "code",
   "execution_count": 133,
   "id": "273e2c53",
   "metadata": {},
   "outputs": [
    {
     "name": "stdout",
     "output_type": "stream",
     "text": [
      "                                               Nombre  Precio\n",
      "0   Laptop Gamer MSI de 15.6\", modelo KATANA 15 B1...  6199.0\n",
      "1   Laptop Gamer MSI de 15.6\", modelo KATANA 15 B1...  5799.0\n",
      "2   Laptop Gamer Asus TUF F15 de 15.6\", modelo FX5...  3199.0\n",
      "3   Laptop Gamer HP Victus de 15.6\", modelo 15-fb0...  3599.0\n",
      "4   Laptop Lenovo Ideapad Slim 3i de 15.6\", modelo...  2199.0\n",
      "5   Laptop Asus Vivobook Go 15 de 15.6\", modelo E1...  1399.0\n",
      "6   Laptop HP de 15.6\", modelo 15-fd0002la, proces...  1499.0\n",
      "7   Laptop HP de 15.6\", modelo 15-fc0002la, proces...  1999.0\n",
      "8   Laptop HP de 15.6\", modelo 15-fc0013la, proces...  2499.0\n",
      "9   Laptop Asus Vivobook Go 15 de 15.6\", modelo E1...  1699.0\n",
      "10  Laptop Acer de 15.6\", modelo A515-58P-34E5, pr...  1549.0\n",
      "11  Laptop Asus Vivobook de 16\", modelo X1605ZA-MB...  2199.0\n",
      "12  Laptop Lenovo Ideapad Slim 3i de 15.6\", modelo...  2599.0\n",
      "13  Laptop Lenovo IdeaPad Slim 3i de 15.6\", modelo...  1599.0\n",
      "14  Laptop Gamer HP Victus de 16.1\", modelo 16-d10...  4399.0\n",
      "15  Laptop Acer Aspire Vero de 15.6\", modelo AV15-...  2149.0\n",
      "16  Laptop Asus Vivobook 16 de 16\", modelo M1605YA...  2799.0\n",
      "17  Laptop Lenovo IdeaPad Gaming 3 de 15.6\", model...  3599.0\n",
      "18  COMPUTADORA PORT. HP - 15-EG2504LA Laptop HP P...  2749.0\n",
      "19  Laptop Gaming Asus ROG Strix G15 de 15.6\", mod...  5099.0\n"
     ]
    }
   ],
   "source": [
    "df = pd.DataFrame({'Nombre': names, 'Precio': prices})\n",
    "print(df)"
   ]
  },
  {
   "cell_type": "markdown",
   "id": "f5886974",
   "metadata": {},
   "source": [
    "## Aplicación para TODAS LAS PÁGINAS"
   ]
  },
  {
   "cell_type": "code",
   "execution_count": 142,
   "id": "d9c2ed4d",
   "metadata": {},
   "outputs": [],
   "source": [
    "#########AHORA HACER UN BUCLE PARA TODAS LAS PÁGINAS CON FOR\n",
    "pricesList=[]\n",
    "namesList=[]\n",
    "for i in range(2,6):#2,3,4,5\n",
    "        a=str(i)\n",
    "        URL = 'https://hiraoka.com.pe/tecnologia/computadoras/laptops?p='+a\n",
    "        #print(URL)\n",
    "        page = requests.get(URL)\n",
    "        soup = BeautifulSoup(page.content, 'html.parser')\n",
    "        prices_soup = soup.find_all('span', {'class':\"special-price\"})\n",
    "        prices_text=[item.text for item in prices_soup]\n",
    "        prices_for = [float(re.search(pattern, item).group().replace(',', '')) for item in prices_text]\n",
    "        #print(prices)\n",
    "        pricesList=pricesList+prices_for\n",
    "        \n",
    "        hermano_tercero=[]\n",
    "        for price in prices_soup:\n",
    "            padre=price.parent\n",
    "            hermanos=[]\n",
    "            for sibling in padre.previous_siblings:\n",
    "                hermanos.append(sibling)\n",
    "            hermano_tercero.append(hermanos[3].text)\n",
    "        hermano_tercero = [t.strip() for t in hermano_tercero]\n",
    "        namesList=namesList+ hermano_tercero\n",
    "        \n",
    "\n",
    "\n",
    "\n",
    "\n",
    "\n"
   ]
  },
  {
   "cell_type": "code",
   "execution_count": 143,
   "id": "c509e9a0",
   "metadata": {},
   "outputs": [
    {
     "name": "stdout",
     "output_type": "stream",
     "text": [
      "['Laptop Gamer Lenovo Legion 5 de 15.6\", modelo 82JW003TLM, tarjeta gráfica GeForce RTX 3050, procesador AMD Ryzen 7 5800H, 16GB RAM, disco sólido de 512GB, cámara web 720p HD, entrada HDMI, USB, Bluetooth 5.1, Windows 11, para gamers.', 'Laptop Acer de 15.6\", modelo A315-510P-355X, procesador Intel Core i3-N305 12va generación, 8GB RAM, 512GB de disco sólido, cámara web HD 720 px, entrada USB, HDMI, Windows 11, Wifi, Bluetooth 5.0, para oficina o estudiante universitario.', 'MacBook Pro 14.2\" M3 1TB 8GB RAM MR7K3E/A Plata', 'Laptop Gamer Asus TUF F15 de 15.6\", modelo FX506HC-HN111W, tarjeta gráfica GeForce RTX 3050, procesador Intel Core i5-11400H, 8GB RAM, 512GB de disco sólido, cámara web 720HD, entrada USB, HDMI, RJ45 y tipo C, Windows 11, Wifi, Bluetooth 5.3, para Gamers.', 'Laptop Asus Vivobook 16 de 16\", modelo M1605YA-MB105W, procesador AMD Ryzen 5 7530U, 8GB RAM, 512GB de disco sólido, cámara web 720p HD, entrada USB, HDMI y tipo C, Windows 11, Wifi, Bluetooth v5.3', 'Laptop HP de 14\", modelo 14-dq5014la, procesador Intel Core i5-1235U(12va generación), 8GB RAM, disco sólido de 256GB, cámara web 720p HD, Bluetooth v4.2, entrada HDMI, USB, WiFi, Windows 11', 'Laptop Lenovo Yoga Slim 6i de 14\", modelo 82WV002MLM, procesador Intel Core i7-1360P (13va generación), 16GB RAM, disco sólido de 512GB, cámara web 1080p FHD, entrada USB, HDMI y tipo C, Bluetooth v5.1, WiFi, Windows 11 Home, para oficina o estudiantes', 'Laptop Lenovo IdeaPad Gaming 3i de 15.6\", modelo 82S9012QLM, tarjeta gráfica GeForce RTX 3050, procesador Intel Core i5 (12va generación), 8GB RAM, disco sólido de 512GB, cámara web 720p HD, entrada USB y HDMI, Bluetooth 5.1, WiFi, Windows 11, para Gamers', 'Laptop HP Envy de 16\", modelo 16-h1000la, tarjeta gráfica GeForce RTX 4060, procesador Intel Core i7-13700H 13° generación, 16GB RAM, disco sólido de 1TB, cámara web 5MP, Bluetooth 5.3, entrada HDMI, USB, Wifi, Windows 11, para oficina o estudiantes.', 'Laptop HP de 15.6\", modelo 15-fd0008la, procesador Intel Core i7-1355U 13° generación, 8GB RAM, disco sólido de 512GB, cámara web 1080p FHD, Bluetooth 5.3, entrada HDMI, USB, Wifi, Windows 11, para oficina o estudiantes.', 'Laptop Asus\\xa0Vivobook 15X OLED\\xa0de 15.6\", modelo K3504VA-L1244W, procesador Intel Core i5 13va Gen, 8GB RAM, 512GB de disco sólido, cámara web 720p HD, entrada USB, HDMI y tipo C, Windows 11, Wifi, Bluetooth v5.3', 'Laptop Gamer Lenovo Legion Slim 5i de 16\", modelo 82YA005LLM, tarjeta gráfica GeForce RTX 4060, procesador Intel Core i7-13700H (13va generación), 16GB RAM, disco sólido de 512GB, cámara web 1080p FHD, entrada USB, HDMI y tipo C, Bluetooth v5.1, WiFi, Win', 'Laptop Acer de 15.6\", modelo A315-24P-R2M5, procesador AMD Ryzen 5 7520U, 8GB RAM, 512GB de disco sólido, cámara web 720px HD, entrada USB, HDMI, Windows 11, Wifi, Bluetooth 5.0, para oficina o estudiante universitario.', 'Laptop Gamer MSI de 15.6\", modelo THIN GF63 12VE - 1021, tarjeta gráfica GeForce RTX 4050, procesador Intel Core i7-12650H 12° Generación, 16GB RAM, disco sólido de 512GB, cámara web 720p HD, entrada USB, HDMI y tipo C, Bluetooth 5.2, Wifi, para gamers.', 'Laptop Gamer Asus ROG Zephyrus\\xa0Duo\\xa016 de 16\", modelo GX650PY-NM005W, tarjeta gráfica GeForce RTX 4090, procesador AMD Ryzen 9 7945HX, 32GB RAM, 2TB de disco sólido, pantalla QHD+, entrada USB, HDMI y tipo C, Windows 11, Bluetooth 5.3, cámara web 1080p.', 'Laptop Gamer Lenovo LOQ de 15.6\", modelo 82XT002PLM, tarjeta gráfica GeForce RTX 4050, procesador AMD Ryzen 7 7840HS, 16GB RAM, disco sólido de 512GB, cámara web 1080p FHD, entrada HDMI, USB, Bluetooth 5.1, Windows 11, para gamers.', 'Laptop MSI de 14\", Modern 14 C11M, procesador Intel Core i5-1155G7, 8GB RAM, 512GB de disco sólido, entrada USB, HDMI, Windows 11, Bluetooth 5.2, Wifi, cámara web, para oficina o estudiantes universitarios.', 'Laptop Gamer Acer Predator de 16\", modelo PHN16-71-77VH, tarjeta gráfica GeForce RTX 4060, procesador Intel Core i7 (13va generación), 16GB RAM, disco sólido de 1TB, cámara web 720HD, entrada USB, HDMI y tipo C, Windows 11, Wifi.', 'Laptop Gamer Asus\\xa0TUF F15\\xa0de 15.6\", modelo FX507VV4-LP049W, procesador Intel Core i9 13va Gen, 16GB RAM, 512GB de disco sólido, cámara web 720p HD, entrada USB, HDMI, RJ45 y tipo C, Windows 11, Wifi, Bluetooth v5.2, tarjeta gráfica GeForce RTX4060.', 'Laptop Acer de 15.6\", modelo A315-24P-R9JU, procesador AMD Ryzen 5 7520U, 16GB RAM, 512GB de disco sólido, cámara web 720px HD, entrada USB, HDMI, Windows 11, Wifi, Bluetooth 5.0, para oficina o estudiante universitario.', 'Laptop Acer de 15.6\", modelo A515-58MT-57LW, procesador Intel Core i5-1335U (13va Generación), 8GB RAM, 512GB de disco sólido, cámara web HD 720 px, entrada USB y USB-C, HDMI, Windows 11, Wifi, Bluetooth 5.1, para oficina o estudiante', 'Laptop HP Pavilion de 15.6\", modelo 15-EG2511LA, procesador Intel Core i5-1235U (12° generación), 8GB RAM, disco sólido de 256GB, cámara web 720p HD, Bluetooth v5.3, entrada HDMI, USB, USB-C, WiFi 6, Windows 11', 'Laptop Acer de 15.6\", modelo A515-57-72PZ, procesador Intel Core i7-1255U (12va Generación), 16GB RAM, 1TB de disco sólido, cámara web HD 720 px, entrada USB y USB-C, HDMI, Windows 11, Wifi, Bluetooth 5.1, para oficina o estudiante', 'Laptop HP Pavilion de 14\", modelo 14-eh1002la, procesador Intel Core i5 (13va generación), 16GB RAM, disco sólido de 512GB, cámara web 5MP, Bluetooth 5.3, entrada HDMI, USB, Wifi, Windows 11, para oficina o estudiantes.', 'Laptop Gamer Acer Nitro de 17.3\", modelo AN517-55-70AK, tarjeta gráfica GeForce RTX 4050, procesador Intel Core i7-12650H (12va Generación), 16GB RAM, disco sólido de 512GB, cámara web 720px HD, entrada USB, HDMI y tipo C, Windows 11, Wifi, Bluetooh v5.2', 'Laptop 2en1 Lenovo Yoga Book 9i de 2x 13.3\", modelo 82YQ000CLM, procesador Intel Core i7-1355U, 16GB RAM, disco sólido de 1TB, cámara web 5MP + IR, entrada USB tipo C, Bluetooth 5.1, WiFi, Windows 11 Home, para oficina o estudiantes.', 'Laptop Gamer Acer Predator de 18\", modelo PH18-71-72SW, tarjeta gráfica GeForce RTX 4070, procesador Intel Core i7 (13va generación), 16GB RAM, disco sólido de 1TB, cámara web 1080FHD, entrada USB, HDMI y tipo C, Windows 11, Wifi.', 'Laptop Lenovo IdeaPad 1 de 15.6\", modelo 82VG004CLM, procesador AMD Ryzen 5 7520U, 8GB RAM, disco sólido de 512GB, cámara web 720p HD, entrada HDMI y tipo C, Wifi, Bluetooth 5.1, Windows 11, para oficina o estudiantes.', 'Macbook Air 13\"  M1 256 GB SSD 8 GB RAM Plata', 'Laptop Lenovo IdeaPad 3i de 15.6\", modelo 82RK00PFLM, procesador Intel Core i5-1235U, 8GB RAM, disco sólido de 512GB, cámara web 720p HD, entrada USB, HDMI y tipo C, Bluetooth 5.1, WiFi, Windows 11 Home, para oficina o estudiantes', 'Laptop Acer de 15.6\", modelo A515-57-56YW, procesador Intel Core i5-12450H (12va Generación), 16GB RAM, 512GB de disco sólido, cámara web HD 720 px, entrada USB y USB-C, HDMI, Windows 11, Wifi, Bluetooth 5.1, para oficina o estudiante', 'MacBook Air 15.3\" M2 256GB 8GB RAM Gris Espacial', 'Laptop Gamer Lenovo Legion Pro 5 de 16\", modelo 82WM009LLM, tarjeta gráfica GeForce RTX 4070, procesador AMD Ryzen 7 7745HX, 32GB RAM, disco sólido de 1TB, cámara web 1080p FHD, entrada HDMI, USB, Bluetooth 5.1, Windows 11, para gamers.', 'Laptop Acer de 15.6\", modelo A315-24PT-R85K, procesador AMD Ryzen 5 7520U, 8GB RAM, 512GB de disco sólido, Pantalla Touch, cámara web 720px HD, entrada USB, HDMI, Windows 11, Wifi, Bluetooth 5.0, para oficina o estudiante universitario.', 'Laptop Lenovo Ideapad Slim 5i de 16\", modelo 82XF0071LM, procesador Intel Core  i7-13620H (13va generación), 16GB RAM, disco sólido de 512GB, cámara web 1080p FHD, entrada USB, HDMI y tipo C, Bluetooth v5.1, WiFi, Windows 11 Home', 'Laptop Acer de 15.6\", modelo A515-58P-503Z, procesador Intel Core i5-1335U (13va Generación), 8GB RAM, 512GB de disco sólido, cámara web HD 720 px, entrada USB y USB-C, HDMI, Windows 11, Wifi, Bluetooth 5.1, para oficina o estudiante', 'Laptop Asus Zenbook 14 OLED de 14\", modelo UX3402ZA-KM233W, procesador Intel Core i5-1240P, 8GB RAM, 512GB de disco sólido, entrada USB, HDMI y tipo C, Windows 11, Bluetooth 5.3, cámara web 1080p FHD para oficina o estudiante.', 'Laptop Gamer HP Victus de 15.6\", modelo 15-fb0126la, tarjeta gráfica NVIDIA GeForce RTX 3050, procesador AMD Ryzen 7 5800H, 8GB RAM, disco sólido de 512GB, Windows 11 Single Language + Audífonos Gamer HyperX + Mouse HyperX Black', 'Laptop Gamer Lenovo LOQ de 16\", modelo 82XW001SLM, tarjeta gráfica GeForce RTX 4060, procesador Intel Core i7-13620H (13va generación), 16GB RAM, disco sólido de 512GB, cámara web 1080p FHD, entrada USB, HDMI y tipo C, Bluetooth v5.1, WiFi, Windows 11 Hom', 'Laptop Lenovo IdeaPad 1 de 15.6\", modelo 82R400BELM, procesador AMD Ryzen 7 5700U, 16GB RAM, disco sólido de 1TB, cámara web 720p HD, entrada USB, HDMI y tipo C, Bluetooth v5.1, WiFi, Windows 11 Home', 'Laptop Gamer HP Victus de 15.6\", modelo 15-fa0000la, tarjeta gráfica NVIDIA GeForce RTX 3050, procesador Intel Core i5-12450H (12va generación), 16GB RAM, disco sólido de 512GB, cámara web 720p HD, Bluetooth v5.3, HDMI, USB, WiFi, Windows 11', 'Laptop Gamer Acer Nitro de 15.6\", modelo AN515-58-77GL, tarjeta gráfica GeForce RTX 3050, procesador Intel Core i7-12650H, 16GB RAM, disco sólido de 512GB, cámara web 720px HD, entrada USB, HDMI y tipo C, Windows 11, Wifi, para gamers.', 'Macbook Air 13\" M1 256 GB SSD 8 GB RAM Gris Espacial', 'Laptop HP de 13.5\", modelo Spectre x360 2-in-1 14-ef2000la, procesador Intel Core i7-1355U, 16GB RAM, disco sólido de 1TB, cámara web 5MP IR, Bluetooth 5.3, entrada USB, Wifi, Windows 11, para oficina o estudiantes.', 'Laptop Gamer Acer Predator de 18\", modelo PH18-71-958U, tarjeta gráfica GeForce RTX 4080, procesador Intel Core i9-13900HX, 32GB RAM, disco sólido de 1TB, cámara web 1080px FHD, entrada USB, HDMI y tipo C, Windows 11, Wifi, para gamers.', 'Laptop Lenovo Yoga Slim 6i de 14\", modelo 82WV002LLM, procesador Intel Core i5-1340P, 16GB RAM, disco sólido de 512GB, cámara web 1080p FHD, entrada USB, HDMI y tipo C, Bluetooth 5.1, WiFi, Windows 11 Home, para oficina o estudiantes', 'Laptop 2 en 1 HP Envy x360 de 15.6\", modelo 15-fh0001la, procesador AMD Ryzen 5 7530U, 8GB RAM, disco sólido de 512 GB, cámara web 5MP, Bluetooth 5.3, entrada HDMI, Wifi, Windows 11, para oficina o estudiantes.', 'Laptop Gamer Acer de 14.5\", modelo SFX14-71G-541B, tarjeta gráfica GeForce RTX 4050, procesador Intel Core i5-13500H (13va Generación), 16GB RAM, disco sólido de 512GB, cámara web 1080px FHD, entrada USB, HDMI y tipo C, Windows 11, Wifi, Bluetooh v5.2', 'Laptop 2en1 HP Envy x360 de 15.6\", modelo 15-fe0001la, tarjeta gráfica GeForce RTX 3050, procesador Intel Core i7-1355U, 16GB RAM, disco sólido de 1TB, cámara web 5MP, Bluetooth 5.3, entrada HDMI, USB, Wifi, Windows 11, para oficina o estudiantes.', 'Laptop Gamer Acer Nitro de 15.6\", modelo AN515-58-55NY, tarjeta gráfica GeForce RTX 4050, procesador Intel Core i5-12450H (12va Generación), 16GB RAM, disco sólido de 512GB, cámara web 720px HD, entrada USB, HDMI y tipo C, Windows 11, Wifi, Bluetooh v5.2', 'Laptop Gamer Acer Nitro de 16\", modelo AN16-41-R2H5, tarjeta gráfica GeForce RTX 4050, procesador AMD Ryzen 5 7640HS, 8GB RAM, disco sólido de 512GB, cámara web 720px HD, entrada USB, HDMI y tipo C, Windows 11, Wifi, para gamers.', 'Laptop HP Pavilion de 15.6\", modelo 15-eg2520la, procesador Intel Core i5-1235U (12va generación), 16GB RAM, disco sólido de 512GB, cámara web 720p HD, Bluetooth v5.3, entrada HDMI, USB, Wifi, Windows 11', 'Laptop Asus Vivobook\\xa016\\xa0de 16\", modelo X1605ZA-MB213W, procesador Intel Core i7-1255U, 12GB RAM, 512GB de disco sólido, pantalla WUXGA, entrada USB, HDMI y tipo C, Windows 11, Bluetooth 5.3, cámara web 720p HD para oficina o estudiante.', 'MacBook Pro 14.2\" M3 512GB 8GB RAM MTL73E/A Gris Espacial', 'MacBook Pro 14.2\" M3 512GB 8GB RAM MR7J3E/A Plata', 'Laptop Gamer Lenovo LOQ de 15.6\", modelo 82XV00T8LM, tarjeta gráfica GeForce RTX 3050, procesador Intel Core i5-12450H (12va generación), 8GB RAM, disco sólido de 512GB, cámara web 1080p FHD, entrada USB, HDMI y tipo C, Bluetooth v5.1, WiFi, Windows 11 Ho', 'MacBook Air 13.6\" M2 256GB SSD Gris Espacial', 'Laptop Asus de 15.6\", modelo E1504FA-L1112W, procesador AMD Ryzen 5 7520U, 8GB RAM, 512GB de disco sólido, cámara web 720p HD, entrada USB, HDMI y tipo C, Windows 11, Wifi, Bluetooth v5.3']\n"
     ]
    }
   ],
   "source": [
    "##Verificamos resultados de nombres\n",
    "\n",
    "print(namesList)"
   ]
  },
  {
   "cell_type": "code",
   "execution_count": 144,
   "id": "b39e16da",
   "metadata": {},
   "outputs": [
    {
     "name": "stdout",
     "output_type": "stream",
     "text": [
      "[3699.0, 1299.0, 8999.0, 3049.0, 2099.0, 1799.0, 4149.0, 2849.0, 8199.0, 2999.0, 2949.0, 6499.0, 1749.0, 4399.0, 17499.0, 4599.0, 2099.0, 7299.0, 6699.0, 2149.0, 2699.0, 1899.0, 2999.0, 3549.0, 5299.0, 8399.0, 9499.0, 1999.0, 4299.0, 1999.0, 2199.0, 6799.0, 7899.0, 1899.0, 3249.0, 2299.0, 3649.0, 3599.0, 5499.0, 2499.0, 3499.0, 4099.0, 4299.0, 6499.0, 12499.0, 3499.0, 3999.0, 4999.0, 6399.0, 3999.0, 4699.0, 2299.0, 3199.0, 7999.0, 7999.0, 3399.0, 5399.0, 2299.0]\n"
     ]
    }
   ],
   "source": [
    "###Verificamos resultados de precios\n",
    "print(pricesList)"
   ]
  },
  {
   "cell_type": "code",
   "execution_count": 148,
   "id": "3fa6ff16",
   "metadata": {},
   "outputs": [
    {
     "name": "stdout",
     "output_type": "stream",
     "text": [
      "(78, 78)\n"
     ]
    }
   ],
   "source": [
    "prices_final=prices+pricesList\n",
    "names_final= names+ namesList\n",
    "print((len(prices_final),len(names_final)))\n"
   ]
  },
  {
   "cell_type": "code",
   "execution_count": 149,
   "id": "0998aa19",
   "metadata": {},
   "outputs": [
    {
     "data": {
      "text/html": [
       "<div>\n",
       "<style scoped>\n",
       "    .dataframe tbody tr th:only-of-type {\n",
       "        vertical-align: middle;\n",
       "    }\n",
       "\n",
       "    .dataframe tbody tr th {\n",
       "        vertical-align: top;\n",
       "    }\n",
       "\n",
       "    .dataframe thead th {\n",
       "        text-align: right;\n",
       "    }\n",
       "</style>\n",
       "<table border=\"1\" class=\"dataframe\">\n",
       "  <thead>\n",
       "    <tr style=\"text-align: right;\">\n",
       "      <th></th>\n",
       "      <th>Nombres</th>\n",
       "      <th>Precios</th>\n",
       "    </tr>\n",
       "  </thead>\n",
       "  <tbody>\n",
       "    <tr>\n",
       "      <th>0</th>\n",
       "      <td>Laptop Gamer MSI de 15.6\", modelo KATANA 15 B1...</td>\n",
       "      <td>6199.0</td>\n",
       "    </tr>\n",
       "    <tr>\n",
       "      <th>1</th>\n",
       "      <td>Laptop Gamer MSI de 15.6\", modelo KATANA 15 B1...</td>\n",
       "      <td>5799.0</td>\n",
       "    </tr>\n",
       "    <tr>\n",
       "      <th>2</th>\n",
       "      <td>Laptop Gamer Asus TUF F15 de 15.6\", modelo FX5...</td>\n",
       "      <td>3199.0</td>\n",
       "    </tr>\n",
       "    <tr>\n",
       "      <th>3</th>\n",
       "      <td>Laptop Gamer HP Victus de 15.6\", modelo 15-fb0...</td>\n",
       "      <td>3599.0</td>\n",
       "    </tr>\n",
       "    <tr>\n",
       "      <th>4</th>\n",
       "      <td>Laptop Lenovo Ideapad Slim 3i de 15.6\", modelo...</td>\n",
       "      <td>2199.0</td>\n",
       "    </tr>\n",
       "    <tr>\n",
       "      <th>...</th>\n",
       "      <td>...</td>\n",
       "      <td>...</td>\n",
       "    </tr>\n",
       "    <tr>\n",
       "      <th>73</th>\n",
       "      <td>MacBook Pro 14.2\" M3 512GB 8GB RAM MTL73E/A Gr...</td>\n",
       "      <td>7999.0</td>\n",
       "    </tr>\n",
       "    <tr>\n",
       "      <th>74</th>\n",
       "      <td>MacBook Pro 14.2\" M3 512GB 8GB RAM MR7J3E/A Plata</td>\n",
       "      <td>7999.0</td>\n",
       "    </tr>\n",
       "    <tr>\n",
       "      <th>75</th>\n",
       "      <td>Laptop Gamer Lenovo LOQ de 15.6\", modelo 82XV0...</td>\n",
       "      <td>3399.0</td>\n",
       "    </tr>\n",
       "    <tr>\n",
       "      <th>76</th>\n",
       "      <td>MacBook Air 13.6\" M2 256GB SSD Gris Espacial</td>\n",
       "      <td>5399.0</td>\n",
       "    </tr>\n",
       "    <tr>\n",
       "      <th>77</th>\n",
       "      <td>Laptop Asus de 15.6\", modelo E1504FA-L1112W, p...</td>\n",
       "      <td>2299.0</td>\n",
       "    </tr>\n",
       "  </tbody>\n",
       "</table>\n",
       "<p>78 rows × 2 columns</p>\n",
       "</div>"
      ],
      "text/plain": [
       "                                              Nombres  Precios\n",
       "0   Laptop Gamer MSI de 15.6\", modelo KATANA 15 B1...   6199.0\n",
       "1   Laptop Gamer MSI de 15.6\", modelo KATANA 15 B1...   5799.0\n",
       "2   Laptop Gamer Asus TUF F15 de 15.6\", modelo FX5...   3199.0\n",
       "3   Laptop Gamer HP Victus de 15.6\", modelo 15-fb0...   3599.0\n",
       "4   Laptop Lenovo Ideapad Slim 3i de 15.6\", modelo...   2199.0\n",
       "..                                                ...      ...\n",
       "73  MacBook Pro 14.2\" M3 512GB 8GB RAM MTL73E/A Gr...   7999.0\n",
       "74  MacBook Pro 14.2\" M3 512GB 8GB RAM MR7J3E/A Plata   7999.0\n",
       "75  Laptop Gamer Lenovo LOQ de 15.6\", modelo 82XV0...   3399.0\n",
       "76       MacBook Air 13.6\" M2 256GB SSD Gris Espacial   5399.0\n",
       "77  Laptop Asus de 15.6\", modelo E1504FA-L1112W, p...   2299.0\n",
       "\n",
       "[78 rows x 2 columns]"
      ]
     },
     "execution_count": 149,
     "metadata": {},
     "output_type": "execute_result"
    }
   ],
   "source": [
    "df = pd.DataFrame({'Nombres': names_final, 'Precios': prices_final})\n",
    "df"
   ]
  },
  {
   "cell_type": "code",
   "execution_count": 150,
   "id": "01ae0379",
   "metadata": {},
   "outputs": [
    {
     "data": {
      "text/html": [
       "<div>\n",
       "<style scoped>\n",
       "    .dataframe tbody tr th:only-of-type {\n",
       "        vertical-align: middle;\n",
       "    }\n",
       "\n",
       "    .dataframe tbody tr th {\n",
       "        vertical-align: top;\n",
       "    }\n",
       "\n",
       "    .dataframe thead th {\n",
       "        text-align: right;\n",
       "    }\n",
       "</style>\n",
       "<table border=\"1\" class=\"dataframe\">\n",
       "  <thead>\n",
       "    <tr style=\"text-align: right;\">\n",
       "      <th></th>\n",
       "      <th>Nombres al 2024-02-02 01:36:23</th>\n",
       "      <th>Precio al 2024-02-02 01:36:23</th>\n",
       "    </tr>\n",
       "  </thead>\n",
       "  <tbody>\n",
       "    <tr>\n",
       "      <th>0</th>\n",
       "      <td>Laptop Gamer MSI de 15.6\", modelo KATANA 15 B1...</td>\n",
       "      <td>6199.0</td>\n",
       "    </tr>\n",
       "    <tr>\n",
       "      <th>1</th>\n",
       "      <td>Laptop Gamer MSI de 15.6\", modelo KATANA 15 B1...</td>\n",
       "      <td>5799.0</td>\n",
       "    </tr>\n",
       "    <tr>\n",
       "      <th>2</th>\n",
       "      <td>Laptop Gamer Asus TUF F15 de 15.6\", modelo FX5...</td>\n",
       "      <td>3199.0</td>\n",
       "    </tr>\n",
       "    <tr>\n",
       "      <th>3</th>\n",
       "      <td>Laptop Gamer HP Victus de 15.6\", modelo 15-fb0...</td>\n",
       "      <td>3599.0</td>\n",
       "    </tr>\n",
       "    <tr>\n",
       "      <th>4</th>\n",
       "      <td>Laptop Lenovo Ideapad Slim 3i de 15.6\", modelo...</td>\n",
       "      <td>2199.0</td>\n",
       "    </tr>\n",
       "    <tr>\n",
       "      <th>...</th>\n",
       "      <td>...</td>\n",
       "      <td>...</td>\n",
       "    </tr>\n",
       "    <tr>\n",
       "      <th>73</th>\n",
       "      <td>MacBook Pro 14.2\" M3 512GB 8GB RAM MTL73E/A Gr...</td>\n",
       "      <td>7999.0</td>\n",
       "    </tr>\n",
       "    <tr>\n",
       "      <th>74</th>\n",
       "      <td>MacBook Pro 14.2\" M3 512GB 8GB RAM MR7J3E/A Plata</td>\n",
       "      <td>7999.0</td>\n",
       "    </tr>\n",
       "    <tr>\n",
       "      <th>75</th>\n",
       "      <td>Laptop Gamer Lenovo LOQ de 15.6\", modelo 82XV0...</td>\n",
       "      <td>3399.0</td>\n",
       "    </tr>\n",
       "    <tr>\n",
       "      <th>76</th>\n",
       "      <td>MacBook Air 13.6\" M2 256GB SSD Gris Espacial</td>\n",
       "      <td>5399.0</td>\n",
       "    </tr>\n",
       "    <tr>\n",
       "      <th>77</th>\n",
       "      <td>Laptop Asus de 15.6\", modelo E1504FA-L1112W, p...</td>\n",
       "      <td>2299.0</td>\n",
       "    </tr>\n",
       "  </tbody>\n",
       "</table>\n",
       "<p>78 rows × 2 columns</p>\n",
       "</div>"
      ],
      "text/plain": [
       "                       Nombres al 2024-02-02 01:36:23  \\\n",
       "0   Laptop Gamer MSI de 15.6\", modelo KATANA 15 B1...   \n",
       "1   Laptop Gamer MSI de 15.6\", modelo KATANA 15 B1...   \n",
       "2   Laptop Gamer Asus TUF F15 de 15.6\", modelo FX5...   \n",
       "3   Laptop Gamer HP Victus de 15.6\", modelo 15-fb0...   \n",
       "4   Laptop Lenovo Ideapad Slim 3i de 15.6\", modelo...   \n",
       "..                                                ...   \n",
       "73  MacBook Pro 14.2\" M3 512GB 8GB RAM MTL73E/A Gr...   \n",
       "74  MacBook Pro 14.2\" M3 512GB 8GB RAM MR7J3E/A Plata   \n",
       "75  Laptop Gamer Lenovo LOQ de 15.6\", modelo 82XV0...   \n",
       "76       MacBook Air 13.6\" M2 256GB SSD Gris Espacial   \n",
       "77  Laptop Asus de 15.6\", modelo E1504FA-L1112W, p...   \n",
       "\n",
       "    Precio al 2024-02-02 01:36:23  \n",
       "0                          6199.0  \n",
       "1                          5799.0  \n",
       "2                          3199.0  \n",
       "3                          3599.0  \n",
       "4                          2199.0  \n",
       "..                            ...  \n",
       "73                         7999.0  \n",
       "74                         7999.0  \n",
       "75                         3399.0  \n",
       "76                         5399.0  \n",
       "77                         2299.0  \n",
       "\n",
       "[78 rows x 2 columns]"
      ]
     },
     "execution_count": 150,
     "metadata": {},
     "output_type": "execute_result"
    }
   ],
   "source": [
    "#ARMAMOS EL DATA FRAME\n",
    "fecha_actual = datetime.now().strftime(\"%Y-%m-%d %H:%M:%S\")\n",
    "fecha_actual_precios=\"Precio\"+\" al \" + fecha_actual\n",
    "fecha_actual_nombres=\"Nombres\"+ \" al \"+  fecha_actual\n",
    "#df_11nov = pd.DataFrame(prices, columns =['Precios al 12/11/2020']) \n",
    "df.rename(columns={'Nombres': fecha_actual_nombres, 'Precios': fecha_actual_precios }, inplace=True)\n",
    "df"
   ]
  },
  {
   "cell_type": "markdown",
   "id": "44520fe0",
   "metadata": {},
   "source": [
    "# Lo trabajamos como función"
   ]
  },
  {
   "cell_type": "code",
   "execution_count": 153,
   "id": "9a01144f",
   "metadata": {},
   "outputs": [],
   "source": [
    " def HiraokaScrap():\n",
    "        ##Página de entradad para precios\n",
    "        URL = 'https://hiraoka.com.pe/computo-y-tecnologia/computadoras/laptops'\n",
    "        page = requests.get(URL)\n",
    "        soup = BeautifulSoup(page.content)\n",
    "        prices_t = soup.find_all('span', {'class':\"special-price\"})\n",
    "        prices_text=[item.text for item in prices_t]\n",
    "        pattern = r'[\\d,]+(?:\\.\\d+)?'\n",
    "        prices = [float(re.search(pattern, item).group().replace(',', '')) for item in prices_text]\n",
    "        \n",
    "        ##Página de entrada para nombres\n",
    "        padres=[]\n",
    "        hermano_tercero=[]\n",
    "        for price in prices_t:\n",
    "            padre=price.parent\n",
    "            padres.append(padre)\n",
    "            hermanos=[]\n",
    "            for sibling in padre.previous_siblings:\n",
    "                 hermanos.append(sibling)\n",
    "            hermano_tercero.append(hermanos[3].text)\n",
    "        hermano_tercero = [t.strip() for t in hermano_tercero]\n",
    "        names=hermano_tercero\n",
    "\n",
    "        #### Páginas siguientes\n",
    "        pricesList=[]\n",
    "        namesList=[]\n",
    "        for i in range(2,6):#1,2,3,4\n",
    "            a=str(i)\n",
    "            URL = 'https://hiraoka.com.pe/tecnologia/computadoras/laptops'+'?p='+a\n",
    "            #print(URL)\n",
    "            page = requests.get(URL)\n",
    "            soup = BeautifulSoup(page.content, 'html.parser')\n",
    "            prices_soup = soup.find_all('span', {'class':\"special-price\"})\n",
    "            prices_text=[item.text for item in prices_soup]\n",
    "            prices_for = [float(re.search(pattern, item).group().replace(',', '')) for item in prices_text]\n",
    "        #print(prices)\n",
    "            pricesList= pricesList+ prices_for\n",
    "        \n",
    "            padres=[]\n",
    "            hermano_tercero=[]\n",
    "            for price in prices_soup:\n",
    "                padre=price.parent\n",
    "                padres.append(padre)\n",
    "                hermanos=[]\n",
    "                for sibling in padre.previous_siblings:\n",
    "                    hermanos.append(sibling)\n",
    "                hermano_tercero.append(hermanos[3].text)\n",
    "            hermano_tercero = [t.strip() for t in hermano_tercero]\n",
    "            namesList=namesList+ hermano_tercero\n",
    "            \n",
    "        prices_final=prices+pricesList\n",
    "        names_final= names+ namesList\n",
    "        \n",
    "        ###Dataframe\n",
    "        prices_final=prices+pricesList\n",
    "        names_final= names+ namesList\n",
    "        df = pd.DataFrame({'Nombres': names_final, 'Precios': prices_final})\n",
    "        fecha_actual = datetime.now().strftime(\"%Y-%m-%d %H:%M:%S\")\n",
    "        fecha_actual_precios=\"Precio\"+\" al \" + fecha_actual\n",
    "        fecha_actual_nombres=\"Nombres\"+ \" al \"+  fecha_actual\n",
    "        #df_11nov = pd.DataFrame(prices, columns =['Precios al 12/11/2020']) \n",
    "        df.rename(columns={'Nombres': fecha_actual_nombres, 'Precios': fecha_actual_precios }, inplace=True)\n",
    "        return df\n",
    "\n",
    "            \n"
   ]
  },
  {
   "cell_type": "code",
   "execution_count": 154,
   "id": "b2485597",
   "metadata": {},
   "outputs": [
    {
     "data": {
      "text/html": [
       "<div>\n",
       "<style scoped>\n",
       "    .dataframe tbody tr th:only-of-type {\n",
       "        vertical-align: middle;\n",
       "    }\n",
       "\n",
       "    .dataframe tbody tr th {\n",
       "        vertical-align: top;\n",
       "    }\n",
       "\n",
       "    .dataframe thead th {\n",
       "        text-align: right;\n",
       "    }\n",
       "</style>\n",
       "<table border=\"1\" class=\"dataframe\">\n",
       "  <thead>\n",
       "    <tr style=\"text-align: right;\">\n",
       "      <th></th>\n",
       "      <th>Nombres al 2024-02-02 02:42:52</th>\n",
       "      <th>Precio al 2024-02-02 02:42:52</th>\n",
       "    </tr>\n",
       "  </thead>\n",
       "  <tbody>\n",
       "    <tr>\n",
       "      <th>0</th>\n",
       "      <td>Laptop Gamer MSI de 15.6\", modelo KATANA 15 B1...</td>\n",
       "      <td>6199.0</td>\n",
       "    </tr>\n",
       "    <tr>\n",
       "      <th>1</th>\n",
       "      <td>Laptop Gamer MSI de 15.6\", modelo KATANA 15 B1...</td>\n",
       "      <td>5799.0</td>\n",
       "    </tr>\n",
       "    <tr>\n",
       "      <th>2</th>\n",
       "      <td>Laptop Gamer Asus TUF F15 de 15.6\", modelo FX5...</td>\n",
       "      <td>3199.0</td>\n",
       "    </tr>\n",
       "    <tr>\n",
       "      <th>3</th>\n",
       "      <td>Laptop Gamer HP Victus de 15.6\", modelo 15-fb0...</td>\n",
       "      <td>3599.0</td>\n",
       "    </tr>\n",
       "    <tr>\n",
       "      <th>4</th>\n",
       "      <td>Laptop Lenovo Ideapad Slim 3i de 15.6\", modelo...</td>\n",
       "      <td>2199.0</td>\n",
       "    </tr>\n",
       "    <tr>\n",
       "      <th>...</th>\n",
       "      <td>...</td>\n",
       "      <td>...</td>\n",
       "    </tr>\n",
       "    <tr>\n",
       "      <th>73</th>\n",
       "      <td>MacBook Pro 14.2\" M3 512GB 8GB RAM MTL73E/A Gr...</td>\n",
       "      <td>7999.0</td>\n",
       "    </tr>\n",
       "    <tr>\n",
       "      <th>74</th>\n",
       "      <td>MacBook Pro 14.2\" M3 512GB 8GB RAM MR7J3E/A Plata</td>\n",
       "      <td>7999.0</td>\n",
       "    </tr>\n",
       "    <tr>\n",
       "      <th>75</th>\n",
       "      <td>Laptop Gamer Lenovo LOQ de 15.6\", modelo 82XV0...</td>\n",
       "      <td>3399.0</td>\n",
       "    </tr>\n",
       "    <tr>\n",
       "      <th>76</th>\n",
       "      <td>MacBook Air 13.6\" M2 256GB SSD Gris Espacial</td>\n",
       "      <td>5399.0</td>\n",
       "    </tr>\n",
       "    <tr>\n",
       "      <th>77</th>\n",
       "      <td>Laptop Asus de 15.6\", modelo E1504FA-L1112W, p...</td>\n",
       "      <td>2299.0</td>\n",
       "    </tr>\n",
       "  </tbody>\n",
       "</table>\n",
       "<p>78 rows × 2 columns</p>\n",
       "</div>"
      ],
      "text/plain": [
       "                       Nombres al 2024-02-02 02:42:52  \\\n",
       "0   Laptop Gamer MSI de 15.6\", modelo KATANA 15 B1...   \n",
       "1   Laptop Gamer MSI de 15.6\", modelo KATANA 15 B1...   \n",
       "2   Laptop Gamer Asus TUF F15 de 15.6\", modelo FX5...   \n",
       "3   Laptop Gamer HP Victus de 15.6\", modelo 15-fb0...   \n",
       "4   Laptop Lenovo Ideapad Slim 3i de 15.6\", modelo...   \n",
       "..                                                ...   \n",
       "73  MacBook Pro 14.2\" M3 512GB 8GB RAM MTL73E/A Gr...   \n",
       "74  MacBook Pro 14.2\" M3 512GB 8GB RAM MR7J3E/A Plata   \n",
       "75  Laptop Gamer Lenovo LOQ de 15.6\", modelo 82XV0...   \n",
       "76       MacBook Air 13.6\" M2 256GB SSD Gris Espacial   \n",
       "77  Laptop Asus de 15.6\", modelo E1504FA-L1112W, p...   \n",
       "\n",
       "    Precio al 2024-02-02 02:42:52  \n",
       "0                          6199.0  \n",
       "1                          5799.0  \n",
       "2                          3199.0  \n",
       "3                          3599.0  \n",
       "4                          2199.0  \n",
       "..                            ...  \n",
       "73                         7999.0  \n",
       "74                         7999.0  \n",
       "75                         3399.0  \n",
       "76                         5399.0  \n",
       "77                         2299.0  \n",
       "\n",
       "[78 rows x 2 columns]"
      ]
     },
     "execution_count": 154,
     "metadata": {},
     "output_type": "execute_result"
    }
   ],
   "source": [
    "HiraokaScrap()"
   ]
  },
  {
   "cell_type": "code",
   "execution_count": 156,
   "id": "cb811348",
   "metadata": {},
   "outputs": [],
   "source": [
    "Scrap02012024=HiraokaScrap()"
   ]
  },
  {
   "cell_type": "code",
   "execution_count": 157,
   "id": "57eecafa",
   "metadata": {},
   "outputs": [],
   "source": [
    "Scrap02012024_2=HiraokaScrap()\n"
   ]
  },
  {
   "cell_type": "code",
   "execution_count": 159,
   "id": "4b262579",
   "metadata": {},
   "outputs": [
    {
     "data": {
      "text/html": [
       "<div>\n",
       "<style scoped>\n",
       "    .dataframe tbody tr th:only-of-type {\n",
       "        vertical-align: middle;\n",
       "    }\n",
       "\n",
       "    .dataframe tbody tr th {\n",
       "        vertical-align: top;\n",
       "    }\n",
       "\n",
       "    .dataframe thead th {\n",
       "        text-align: right;\n",
       "    }\n",
       "</style>\n",
       "<table border=\"1\" class=\"dataframe\">\n",
       "  <thead>\n",
       "    <tr style=\"text-align: right;\">\n",
       "      <th></th>\n",
       "      <th>Nombres al 2024-02-02 02:43:28</th>\n",
       "      <th>Precio al 2024-02-02 02:43:28</th>\n",
       "      <th>Nombres al 2024-02-02 02:43:24</th>\n",
       "      <th>Precio al 2024-02-02 02:43:24</th>\n",
       "    </tr>\n",
       "  </thead>\n",
       "  <tbody>\n",
       "    <tr>\n",
       "      <th>0</th>\n",
       "      <td>Laptop Gamer MSI de 15.6\", modelo KATANA 15 B1...</td>\n",
       "      <td>6199.0</td>\n",
       "      <td>Laptop Gamer MSI de 15.6\", modelo KATANA 15 B1...</td>\n",
       "      <td>6199.0</td>\n",
       "    </tr>\n",
       "    <tr>\n",
       "      <th>1</th>\n",
       "      <td>Laptop Gamer MSI de 15.6\", modelo KATANA 15 B1...</td>\n",
       "      <td>5799.0</td>\n",
       "      <td>Laptop Gamer MSI de 15.6\", modelo KATANA 15 B1...</td>\n",
       "      <td>5799.0</td>\n",
       "    </tr>\n",
       "    <tr>\n",
       "      <th>2</th>\n",
       "      <td>Laptop Gamer Asus TUF F15 de 15.6\", modelo FX5...</td>\n",
       "      <td>3199.0</td>\n",
       "      <td>Laptop Gamer Asus TUF F15 de 15.6\", modelo FX5...</td>\n",
       "      <td>3199.0</td>\n",
       "    </tr>\n",
       "    <tr>\n",
       "      <th>3</th>\n",
       "      <td>Laptop Gamer HP Victus de 15.6\", modelo 15-fb0...</td>\n",
       "      <td>3599.0</td>\n",
       "      <td>Laptop Gamer HP Victus de 15.6\", modelo 15-fb0...</td>\n",
       "      <td>3599.0</td>\n",
       "    </tr>\n",
       "    <tr>\n",
       "      <th>4</th>\n",
       "      <td>Laptop Lenovo Ideapad Slim 3i de 15.6\", modelo...</td>\n",
       "      <td>2199.0</td>\n",
       "      <td>Laptop Lenovo Ideapad Slim 3i de 15.6\", modelo...</td>\n",
       "      <td>2199.0</td>\n",
       "    </tr>\n",
       "    <tr>\n",
       "      <th>...</th>\n",
       "      <td>...</td>\n",
       "      <td>...</td>\n",
       "      <td>...</td>\n",
       "      <td>...</td>\n",
       "    </tr>\n",
       "    <tr>\n",
       "      <th>73</th>\n",
       "      <td>MacBook Pro 14.2\" M3 512GB 8GB RAM MTL73E/A Gr...</td>\n",
       "      <td>7999.0</td>\n",
       "      <td>MacBook Pro 14.2\" M3 512GB 8GB RAM MTL73E/A Gr...</td>\n",
       "      <td>7999.0</td>\n",
       "    </tr>\n",
       "    <tr>\n",
       "      <th>74</th>\n",
       "      <td>MacBook Pro 14.2\" M3 512GB 8GB RAM MR7J3E/A Plata</td>\n",
       "      <td>7999.0</td>\n",
       "      <td>MacBook Pro 14.2\" M3 512GB 8GB RAM MR7J3E/A Plata</td>\n",
       "      <td>7999.0</td>\n",
       "    </tr>\n",
       "    <tr>\n",
       "      <th>75</th>\n",
       "      <td>Laptop Gamer Lenovo LOQ de 15.6\", modelo 82XV0...</td>\n",
       "      <td>3399.0</td>\n",
       "      <td>Laptop Gamer Lenovo LOQ de 15.6\", modelo 82XV0...</td>\n",
       "      <td>3399.0</td>\n",
       "    </tr>\n",
       "    <tr>\n",
       "      <th>76</th>\n",
       "      <td>MacBook Air 13.6\" M2 256GB SSD Gris Espacial</td>\n",
       "      <td>5399.0</td>\n",
       "      <td>MacBook Air 13.6\" M2 256GB SSD Gris Espacial</td>\n",
       "      <td>5399.0</td>\n",
       "    </tr>\n",
       "    <tr>\n",
       "      <th>77</th>\n",
       "      <td>Laptop Asus de 15.6\", modelo E1504FA-L1112W, p...</td>\n",
       "      <td>2299.0</td>\n",
       "      <td>Laptop Asus de 15.6\", modelo E1504FA-L1112W, p...</td>\n",
       "      <td>2299.0</td>\n",
       "    </tr>\n",
       "  </tbody>\n",
       "</table>\n",
       "<p>78 rows × 4 columns</p>\n",
       "</div>"
      ],
      "text/plain": [
       "                       Nombres al 2024-02-02 02:43:28  \\\n",
       "0   Laptop Gamer MSI de 15.6\", modelo KATANA 15 B1...   \n",
       "1   Laptop Gamer MSI de 15.6\", modelo KATANA 15 B1...   \n",
       "2   Laptop Gamer Asus TUF F15 de 15.6\", modelo FX5...   \n",
       "3   Laptop Gamer HP Victus de 15.6\", modelo 15-fb0...   \n",
       "4   Laptop Lenovo Ideapad Slim 3i de 15.6\", modelo...   \n",
       "..                                                ...   \n",
       "73  MacBook Pro 14.2\" M3 512GB 8GB RAM MTL73E/A Gr...   \n",
       "74  MacBook Pro 14.2\" M3 512GB 8GB RAM MR7J3E/A Plata   \n",
       "75  Laptop Gamer Lenovo LOQ de 15.6\", modelo 82XV0...   \n",
       "76       MacBook Air 13.6\" M2 256GB SSD Gris Espacial   \n",
       "77  Laptop Asus de 15.6\", modelo E1504FA-L1112W, p...   \n",
       "\n",
       "    Precio al 2024-02-02 02:43:28  \\\n",
       "0                          6199.0   \n",
       "1                          5799.0   \n",
       "2                          3199.0   \n",
       "3                          3599.0   \n",
       "4                          2199.0   \n",
       "..                            ...   \n",
       "73                         7999.0   \n",
       "74                         7999.0   \n",
       "75                         3399.0   \n",
       "76                         5399.0   \n",
       "77                         2299.0   \n",
       "\n",
       "                       Nombres al 2024-02-02 02:43:24  \\\n",
       "0   Laptop Gamer MSI de 15.6\", modelo KATANA 15 B1...   \n",
       "1   Laptop Gamer MSI de 15.6\", modelo KATANA 15 B1...   \n",
       "2   Laptop Gamer Asus TUF F15 de 15.6\", modelo FX5...   \n",
       "3   Laptop Gamer HP Victus de 15.6\", modelo 15-fb0...   \n",
       "4   Laptop Lenovo Ideapad Slim 3i de 15.6\", modelo...   \n",
       "..                                                ...   \n",
       "73  MacBook Pro 14.2\" M3 512GB 8GB RAM MTL73E/A Gr...   \n",
       "74  MacBook Pro 14.2\" M3 512GB 8GB RAM MR7J3E/A Plata   \n",
       "75  Laptop Gamer Lenovo LOQ de 15.6\", modelo 82XV0...   \n",
       "76       MacBook Air 13.6\" M2 256GB SSD Gris Espacial   \n",
       "77  Laptop Asus de 15.6\", modelo E1504FA-L1112W, p...   \n",
       "\n",
       "    Precio al 2024-02-02 02:43:24  \n",
       "0                          6199.0  \n",
       "1                          5799.0  \n",
       "2                          3199.0  \n",
       "3                          3599.0  \n",
       "4                          2199.0  \n",
       "..                            ...  \n",
       "73                         7999.0  \n",
       "74                         7999.0  \n",
       "75                         3399.0  \n",
       "76                         5399.0  \n",
       "77                         2299.0  \n",
       "\n",
       "[78 rows x 4 columns]"
      ]
     },
     "execution_count": 159,
     "metadata": {},
     "output_type": "execute_result"
    }
   ],
   "source": [
    "combined_df = pd.concat([Scrap02012024_2, Scrap02012024], axis=1)\n",
    "combined_df"
   ]
  },
  {
   "cell_type": "markdown",
   "id": "a155ebc7",
   "metadata": {},
   "source": [
    "# CHAT GPT"
   ]
  },
  {
   "cell_type": "code",
   "execution_count": 160,
   "id": "634a122a",
   "metadata": {},
   "outputs": [
    {
     "name": "stdout",
     "output_type": "stream",
     "text": [
      "Precio especial\n",
      "S/  6,199.00\n",
      "Precio especial\n",
      "S/  5,799.00\n",
      "Precio especial\n",
      "S/  3,199.00\n",
      "Precio especial\n",
      "S/  3,599.00\n",
      "Precio especial\n",
      "S/  2,199.00\n",
      "Precio especial\n",
      "S/  1,399.00\n",
      "Precio especial\n",
      "S/  1,499.00\n",
      "Precio especial\n",
      "S/  1,999.00\n",
      "Precio especial\n",
      "S/  2,499.00\n",
      "Precio especial\n",
      "S/  1,699.00\n",
      "Precio especial\n",
      "S/  1,549.00\n",
      "Precio especial\n",
      "S/  2,199.00\n",
      "Precio especial\n",
      "S/  2,599.00\n",
      "Precio especial\n",
      "S/  1,599.00\n",
      "Precio especial\n",
      "S/  4,399.00\n",
      "Precio especial\n",
      "S/  2,149.00\n",
      "Precio especial\n",
      "S/  2,799.00\n",
      "Precio especial\n",
      "S/  3,599.00\n",
      "Precio especial\n",
      "S/  2,749.00\n",
      "Precio especial\n",
      "S/  5,099.00\n"
     ]
    }
   ],
   "source": [
    "import requests\n",
    "from bs4 import BeautifulSoup\n",
    "\n",
    "# URL de la página a scrapear\n",
    "url = 'https://hiraoka.com.pe/computo-y-tecnologia/computadoras/laptops'\n",
    "\n",
    "# Realizamos la solicitud GET a la página\n",
    "response = requests.get(url)\n",
    "\n",
    "# Verificamos si la solicitud fue exitosa (código de estado 200)\n",
    "if response.status_code == 200:\n",
    "    # Parseamos el contenido HTML de la página\n",
    "    soup = BeautifulSoup(response.content, 'html.parser')\n",
    "    \n",
    "    # Encontramos todos los nodos span con la clase 'special-price'\n",
    "    special_prices = soup.find_all('span', class_='special-price')\n",
    "    \n",
    "    # Extraemos y mostramos los precios especiales\n",
    "    for price in special_prices:\n",
    "        print(price.text.strip())\n",
    "else:\n",
    "    print('Error al realizar la solicitud:', response.status_code)\n"
   ]
  },
  {
   "cell_type": "code",
   "execution_count": null,
   "id": "396943ca",
   "metadata": {},
   "outputs": [],
   "source": []
  }
 ],
 "metadata": {
  "kernelspec": {
   "display_name": "Python 3 (ipykernel)",
   "language": "python",
   "name": "python3"
  },
  "language_info": {
   "codemirror_mode": {
    "name": "ipython",
    "version": 3
   },
   "file_extension": ".py",
   "mimetype": "text/x-python",
   "name": "python",
   "nbconvert_exporter": "python",
   "pygments_lexer": "ipython3",
   "version": "3.11.5"
  }
 },
 "nbformat": 4,
 "nbformat_minor": 5
}
