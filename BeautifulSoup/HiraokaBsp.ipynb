{
 "cells": [
  {
   "cell_type": "code",
   "execution_count": null,
   "id": "5ac97918",
   "metadata": {},
   "outputs": [],
   "source": [
    "import requests\n",
    "from bs4 import BeautifulSoup\n"
   ]
  },
  {
   "cell_type": "code",
   "execution_count": 391,
   "id": "99cddc99",
   "metadata": {},
   "outputs": [
    {
     "name": "stdout",
     "output_type": "stream",
     "text": [
      "<Response [200]>\n"
     ]
    }
   ],
   "source": [
    "URL = 'https://hiraoka.com.pe/computo-y-tecnologia/computadoras/laptops'\n",
    "page = requests.get(URL)\n",
    "print(page)\n"
   ]
  },
  {
   "cell_type": "code",
   "execution_count": 394,
   "id": "a3dfac1a",
   "metadata": {},
   "outputs": [
    {
     "data": {
      "text/plain": [
       "[<span class=\"special-price\">\n",
       " <span class=\"price-container price-final_price tax weee\">\n",
       " <span class=\"price-label\">Precio especial</span>\n",
       " <span class=\"price-wrapper\" data-price-amount=\"1849\" data-price-type=\"finalPrice\" id=\"product-price-64481\"><span class=\"price\">S/  1,849.00</span></span>\n",
       " </span>\n",
       " </span>,\n",
       " <span class=\"special-price\">\n",
       " <span class=\"price-container price-final_price tax weee\">\n",
       " <span class=\"price-label\">Precio especial</span>\n",
       " <span class=\"price-wrapper\" data-price-amount=\"2999\" data-price-type=\"finalPrice\" id=\"product-price-54393\"><span class=\"price\">S/  2,999.00</span></span>\n",
       " </span>\n",
       " </span>,\n",
       " <span class=\"special-price\">\n",
       " <span class=\"price-container price-final_price tax weee\">\n",
       " <span class=\"price-label\">Precio especial</span>\n",
       " <span class=\"price-wrapper\" data-price-amount=\"3299\" data-price-type=\"finalPrice\" id=\"product-price-69248\"><span class=\"price\">S/  3,299.00</span></span>\n",
       " </span>\n",
       " </span>,\n",
       " <span class=\"special-price\">\n",
       " <span class=\"price-container price-final_price tax weee\">\n",
       " <span class=\"price-label\">Precio especial</span>\n",
       " <span class=\"price-wrapper\" data-price-amount=\"9999\" data-price-type=\"finalPrice\" id=\"product-price-68720\"><span class=\"price\">S/  9,999.00</span></span>\n",
       " </span>\n",
       " </span>,\n",
       " <span class=\"special-price\">\n",
       " <span class=\"price-container price-final_price tax weee\">\n",
       " <span class=\"price-label\">Precio especial</span>\n",
       " <span class=\"price-wrapper\" data-price-amount=\"1599\" data-price-type=\"finalPrice\" id=\"product-price-62785\"><span class=\"price\">S/  1,599.00</span></span>\n",
       " </span>\n",
       " </span>,\n",
       " <span class=\"special-price\">\n",
       " <span class=\"price-container price-final_price tax weee\">\n",
       " <span class=\"price-label\">Precio especial</span>\n",
       " <span class=\"price-wrapper\" data-price-amount=\"10999\" data-price-type=\"finalPrice\" id=\"product-price-67641\"><span class=\"price\">S/  10,999.00</span></span>\n",
       " </span>\n",
       " </span>,\n",
       " <span class=\"special-price\">\n",
       " <span class=\"price-container price-final_price tax weee\">\n",
       " <span class=\"price-label\">Precio especial</span>\n",
       " <span class=\"price-wrapper\" data-price-amount=\"2399\" data-price-type=\"finalPrice\" id=\"product-price-66599\"><span class=\"price\">S/  2,399.00</span></span>\n",
       " </span>\n",
       " </span>,\n",
       " <span class=\"special-price\">\n",
       " <span class=\"price-container price-final_price tax weee\">\n",
       " <span class=\"price-label\">Precio especial</span>\n",
       " <span class=\"price-wrapper\" data-price-amount=\"3899\" data-price-type=\"finalPrice\" id=\"product-price-57662\"><span class=\"price\">S/  3,899.00</span></span>\n",
       " </span>\n",
       " </span>,\n",
       " <span class=\"special-price\">\n",
       " <span class=\"price-container price-final_price tax weee\">\n",
       " <span class=\"price-label\">Precio especial</span>\n",
       " <span class=\"price-wrapper\" data-price-amount=\"4899\" data-price-type=\"finalPrice\" id=\"product-price-69041\"><span class=\"price\">S/  4,899.00</span></span>\n",
       " </span>\n",
       " </span>,\n",
       " <span class=\"special-price\">\n",
       " <span class=\"price-container price-final_price tax weee\">\n",
       " <span class=\"price-label\">Precio especial</span>\n",
       " <span class=\"price-wrapper\" data-price-amount=\"2499\" data-price-type=\"finalPrice\" id=\"product-price-66596\"><span class=\"price\">S/  2,499.00</span></span>\n",
       " </span>\n",
       " </span>,\n",
       " <span class=\"special-price\">\n",
       " <span class=\"price-container price-final_price tax weee\">\n",
       " <span class=\"price-label\">Precio especial</span>\n",
       " <span class=\"price-wrapper\" data-price-amount=\"4599\" data-price-type=\"finalPrice\" id=\"product-price-67635\"><span class=\"price\">S/  4,599.00</span></span>\n",
       " </span>\n",
       " </span>,\n",
       " <span class=\"special-price\">\n",
       " <span class=\"price-container price-final_price tax weee\">\n",
       " <span class=\"price-label\">Precio especial</span>\n",
       " <span class=\"price-wrapper\" data-price-amount=\"5999\" data-price-type=\"finalPrice\" id=\"product-price-63172\"><span class=\"price\">S/  5,999.00</span></span>\n",
       " </span>\n",
       " </span>,\n",
       " <span class=\"special-price\">\n",
       " <span class=\"price-container price-final_price tax weee\">\n",
       " <span class=\"price-label\">Precio especial</span>\n",
       " <span class=\"price-wrapper\" data-price-amount=\"2299\" data-price-type=\"finalPrice\" id=\"product-price-57254\"><span class=\"price\">S/  2,299.00</span></span>\n",
       " </span>\n",
       " </span>,\n",
       " <span class=\"special-price\">\n",
       " <span class=\"price-container price-final_price tax weee\">\n",
       " <span class=\"price-label\">Precio especial</span>\n",
       " <span class=\"price-wrapper\" data-price-amount=\"2099\" data-price-type=\"finalPrice\" id=\"product-price-64628\"><span class=\"price\">S/  2,099.00</span></span>\n",
       " </span>\n",
       " </span>,\n",
       " <span class=\"special-price\">\n",
       " <span class=\"price-container price-final_price tax weee\">\n",
       " <span class=\"price-label\">Precio especial</span>\n",
       " <span class=\"price-wrapper\" data-price-amount=\"2599\" data-price-type=\"finalPrice\" id=\"product-price-69269\"><span class=\"price\">S/  2,599.00</span></span>\n",
       " </span>\n",
       " </span>,\n",
       " <span class=\"special-price\">\n",
       " <span class=\"price-container price-final_price tax weee\">\n",
       " <span class=\"price-label\">Precio especial</span>\n",
       " <span class=\"price-wrapper\" data-price-amount=\"4199\" data-price-type=\"finalPrice\" id=\"product-price-64318\"><span class=\"price\">S/  4,199.00</span></span>\n",
       " </span>\n",
       " </span>,\n",
       " <span class=\"special-price\">\n",
       " <span class=\"price-container price-final_price tax weee\">\n",
       " <span class=\"price-label\">Precio especial</span>\n",
       " <span class=\"price-wrapper\" data-price-amount=\"1699\" data-price-type=\"finalPrice\" id=\"product-price-69272\"><span class=\"price\">S/  1,699.00</span></span>\n",
       " </span>\n",
       " </span>,\n",
       " <span class=\"special-price\">\n",
       " <span class=\"price-container price-final_price tax weee\">\n",
       " <span class=\"price-label\">Precio especial</span>\n",
       " <span class=\"price-wrapper\" data-price-amount=\"5499\" data-price-type=\"finalPrice\" id=\"product-price-61357\"><span class=\"price\">S/  5,499.00</span></span>\n",
       " </span>\n",
       " </span>,\n",
       " <span class=\"special-price\">\n",
       " <span class=\"price-container price-final_price tax weee\">\n",
       " <span class=\"price-label\">Precio especial</span>\n",
       " <span class=\"price-wrapper\" data-price-amount=\"4299\" data-price-type=\"finalPrice\" id=\"product-price-34676\"><span class=\"price\">S/  4,299.00</span></span>\n",
       " </span>\n",
       " </span>]"
      ]
     },
     "execution_count": 394,
     "metadata": {},
     "output_type": "execute_result"
    }
   ],
   "source": [
    "soup = BeautifulSoup(page.content)\n",
    "#print(soup)\n",
    "prices_t = soup.find_all('span', {'class':\"special-price\"})\n",
    "(prices_t)\n"
   ]
  },
  {
   "cell_type": "code",
   "execution_count": 395,
   "id": "cd94185c",
   "metadata": {
    "scrolled": true
   },
   "outputs": [
    {
     "name": "stdout",
     "output_type": "stream",
     "text": [
      "['\\n\\nPrecio especial\\nS/ \\xa01,849.00\\n\\n', '\\n\\nPrecio especial\\nS/ \\xa02,999.00\\n\\n', '\\n\\nPrecio especial\\nS/ \\xa03,299.00\\n\\n', '\\n\\nPrecio especial\\nS/ \\xa09,999.00\\n\\n', '\\n\\nPrecio especial\\nS/ \\xa01,599.00\\n\\n', '\\n\\nPrecio especial\\nS/ \\xa010,999.00\\n\\n', '\\n\\nPrecio especial\\nS/ \\xa02,399.00\\n\\n', '\\n\\nPrecio especial\\nS/ \\xa03,899.00\\n\\n', '\\n\\nPrecio especial\\nS/ \\xa04,899.00\\n\\n', '\\n\\nPrecio especial\\nS/ \\xa02,499.00\\n\\n', '\\n\\nPrecio especial\\nS/ \\xa04,599.00\\n\\n', '\\n\\nPrecio especial\\nS/ \\xa05,999.00\\n\\n', '\\n\\nPrecio especial\\nS/ \\xa02,299.00\\n\\n', '\\n\\nPrecio especial\\nS/ \\xa02,099.00\\n\\n', '\\n\\nPrecio especial\\nS/ \\xa02,599.00\\n\\n', '\\n\\nPrecio especial\\nS/ \\xa04,199.00\\n\\n', '\\n\\nPrecio especial\\nS/ \\xa01,699.00\\n\\n', '\\n\\nPrecio especial\\nS/ \\xa05,499.00\\n\\n', '\\n\\nPrecio especial\\nS/ \\xa04,299.00\\n\\n']\n"
     ]
    }
   ],
   "source": [
    "prices_text=[item.text for item in prices_t]\n",
    "print(prices_text)\n"
   ]
  },
  {
   "cell_type": "code",
   "execution_count": 396,
   "id": "ce5f4d2b",
   "metadata": {},
   "outputs": [
    {
     "name": "stdout",
     "output_type": "stream",
     "text": [
      "[1849.0, 2999.0, 3299.0, 9999.0, 1599.0, 10999.0, 2399.0, 3899.0, 4899.0, 2499.0, 4599.0, 5999.0, 2299.0, 2099.0, 2599.0, 4199.0, 1699.0, 5499.0, 4299.0]\n"
     ]
    }
   ],
   "source": [
    "\n",
    "pattern = r'[\\d,]+(?:\\.\\d+)?'\n",
    "\n",
    "prices = [float(re.search(pattern, item).group().replace(',', '')) for item in prices_text]\n",
    "print(prices)"
   ]
  },
  {
   "cell_type": "code",
   "execution_count": 397,
   "id": "9cca052f",
   "metadata": {},
   "outputs": [
    {
     "name": "stdout",
     "output_type": "stream",
     "text": [
      "4091.1052631578946\n"
     ]
    }
   ],
   "source": [
    "\n",
    "\n",
    "average = sum(prices) / len(prices)\n",
    "\n",
    "print(average)\n"
   ]
  },
  {
   "cell_type": "code",
   "execution_count": 303,
   "id": "bfbdf8eb",
   "metadata": {},
   "outputs": [],
   "source": [
    "#for parent in prices_t[1].parents:\n",
    "#   print(parent.name)\n"
   ]
  },
  {
   "cell_type": "code",
   "execution_count": 399,
   "id": "9adeda24",
   "metadata": {},
   "outputs": [
    {
     "name": "stdout",
     "output_type": "stream",
     "text": [
      "20\n",
      "19\n"
     ]
    }
   ],
   "source": [
    "name=soup.find_all('strong', {'class':\"product name product-item-name\"})\n",
    "names=[item.text for item in name]\n",
    "print(len(names))\n",
    "print(len(prices_t))\n"
   ]
  },
  {
   "cell_type": "markdown",
   "id": "6bf13372",
   "metadata": {},
   "source": [
    "# .parent y siblings (previous_siblings)"
   ]
  },
  {
   "cell_type": "code",
   "execution_count": 402,
   "id": "d30f39b7",
   "metadata": {},
   "outputs": [
    {
     "data": {
      "text/plain": [
       "<div class=\"price-box price-final_price\" data-price-box=\"product-id-69248\" data-product-id=\"69248\" data-role=\"priceBox\">\n",
       "<span class=\"special-price\">\n",
       "<span class=\"price-container price-final_price tax weee\">\n",
       "<span class=\"price-label\">Precio especial</span>\n",
       "<span class=\"price-wrapper\" data-price-amount=\"3299\" data-price-type=\"finalPrice\" id=\"product-price-69248\"><span class=\"price\">S/  3,299.00</span></span>\n",
       "</span>\n",
       "</span>\n",
       "<span class=\"old-price\">\n",
       "<span class=\"price-container price-final_price tax weee\">\n",
       "<span class=\"price-label\">Precio habitual</span>\n",
       "<span class=\"price-wrapper\" data-price-amount=\"3599\" data-price-type=\"oldPrice\" id=\"old-price-69248\"><span class=\"price\">S/  3,599.00</span></span>\n",
       "</span>\n",
       "</span>\n",
       "</div>"
      ]
     },
     "execution_count": 402,
     "metadata": {},
     "output_type": "execute_result"
    }
   ],
   "source": [
    "padre=prices_t[2].parent\n",
    "padre"
   ]
  },
  {
   "cell_type": "code",
   "execution_count": 403,
   "id": "faf52c66",
   "metadata": {},
   "outputs": [
    {
     "name": "stdout",
     "output_type": "stream",
     "text": [
      "['\\n', <strong class=\"product sku product-item-sku\">\n",
      "                                                            Código 130072                                                    </strong>, '\\n', <strong class=\"product name product-item-name\">\n",
      "<a class=\"product-item-link\" href=\"https://hiraoka.com.pe/computo-y-tecnologia/computadoras/laptops/laptop-hp-de-15-6-modelo-15-fd0008la-procesador-intel-core-i7-1355u-8gb-ram-disco-solido-de-512gb-camara-web-1080p-fhd-bluetooth-5-3-entrada-hdmi-usb-wifi-windows-11-para-oficina-o-estudiantes\" title='Laptop HP de 15.6\", modelo 15-fd0008la, procesador Intel Core i7-1355U, 8GB RAM, disco sólido de 512GB, cámara web 1080p FHD, Bluetooth 5.3, entrada HDMI, USB, Wifi, Windows 11, para oficina o estudiantes.'>\n",
      "                                Laptop HP de 15.6\", modelo 15-fd0008la, procesador Intel Core i7-1355U, 8GB RAM, disco sólido de 512GB, cámara web 1080p FHD, Bluetooth 5.3, entrada HDMI, USB, Wifi, Windows 11, para oficina o estudiantes.                            </a>\n",
      "</strong>, '\\n', <strong class=\"product brand product-item-brand\">\n",
      "<a class=\"product-item-link\" href=\"https://hiraoka.com.pe/computo-y-tecnologia/computadoras/laptops/laptop-hp-de-15-6-modelo-15-fd0008la-procesador-intel-core-i7-1355u-8gb-ram-disco-solido-de-512gb-camara-web-1080p-fhd-bluetooth-5-3-entrada-hdmi-usb-wifi-windows-11-para-oficina-o-estudiantes\">\n",
      "                                    HP                                </a>\n",
      "</strong>, '\\n']\n"
     ]
    }
   ],
   "source": [
    "h=[]\n",
    "for sibling in padre.previous_siblings:\n",
    "    h.append(sibling)\n",
    "print(h)"
   ]
  },
  {
   "cell_type": "code",
   "execution_count": 404,
   "id": "7ec2c925",
   "metadata": {},
   "outputs": [
    {
     "name": "stdout",
     "output_type": "stream",
     "text": [
      "\n",
      "\n",
      "                                Laptop HP de 15.6\", modelo 15-fd0008la, procesador Intel Core i7-1355U, 8GB RAM, disco sólido de 512GB, cámara web 1080p FHD, Bluetooth 5.3, entrada HDMI, USB, Wifi, Windows 11, para oficina o estudiantes.                            \n",
      "\n"
     ]
    }
   ],
   "source": [
    "print(h[3].text)"
   ]
  },
  {
   "cell_type": "markdown",
   "id": "9bd34301",
   "metadata": {},
   "source": [
    "# Aplicamos para todos los nodos de precios especiales\n",
    "Con esto obtendremos solo lo nombres de los productos con precios especiales"
   ]
  },
  {
   "cell_type": "code",
   "execution_count": 418,
   "id": "f2cfc2a2",
   "metadata": {},
   "outputs": [
    {
     "name": "stdout",
     "output_type": "stream",
     "text": [
      "19\n"
     ]
    }
   ],
   "source": [
    "padres=[]\n",
    "hermano_tercero=[]\n",
    "for price in prices_t:\n",
    "    padre=price.parent\n",
    "    padres.append(padre)\n",
    "    hermanos=[]\n",
    "    for sibling in padre.previous_siblings:\n",
    "        hermanos.append(sibling)\n",
    "    hermano_tercero.append(hermanos[3].text)\n",
    "        \n",
    "    \n",
    "print(len(hermano_tercero))\n"
   ]
  },
  {
   "cell_type": "code",
   "execution_count": 309,
   "id": "ec7344a7",
   "metadata": {},
   "outputs": [
    {
     "name": "stdout",
     "output_type": "stream",
     "text": [
      "['\\n\\n                                Laptop HP de 15.6\", modelo 15-dy5000la, procesador intel core i5 (12th generación), 8GB RAM, disco sólido de 512 GB, cámara web 720HD, Bluetooth 5.2, carga rápida, entrada HDMI , Wifi, Windows 11, para oficina o estudiantes.                            \\n', '\\n\\n                                Laptop Gamer HP Victus de 15.6\", modelo 15-fb0104la, tarjeta gráfica NVIDIA GeForce RTX 3050, procesador AMD Ryzen 5 5600H, 16GB RAM, disco sólido de 512GB, cámara web 720HD, Bluetooth 5.2, entrada HDMI, Wifi, Windows 11, para gamers.                            \\n', '\\n\\n                                Laptop HP de 15.6\", modelo 15-fd0008la, procesador Intel Core i7-1355U, 8GB RAM, disco sólido de 512GB, cámara web 1080p FHD, Bluetooth 5.3, entrada HDMI, USB, Wifi, Windows 11, para oficina o estudiantes.                            \\n', '\\n\\n                                Laptop Gamer Acer de 18\", modelo PH18-71-72SW, tarjeta gráfica GeForce RTX 4070, procesador Intel Core i7 (13va generación), 16GB RAM, disco sólido de 1TB, cámara web 1080FHD, entrada USB, HDMI y tipo C, Windows 11, Wifi.                            \\n', '\\n\\n                                Laptop Lenovo IdeaPad 1 15.6\" AMD Ryzen 3 7320U 512GB SSD 8GB RAM Abyss Blue                            \\n', '\\n\\n                                Laptop Gamer MSI de 17.3\", modelo STEALTH 17 STUDIO A13VG, tarjeta gráfica GeForce RTX 4070, procesador Intel Core i7-13700H, 16GB RAM, disco sólido de 1TB, cámara web 1080p FHD, entrada USB, HDMI y tipo C, Bluetooth 5.3, Wifi, para gamers.                            \\n', '\\n\\n                                Laptop Lenovo IdeaPad 3 de 15.6\", modelo 82KU023RLM, procesador AMD Ryzen 7 5700U, 16GB RAM, disco sólido de 512GB, cámara web 720p HD, entrada USB, HDMI y tipo C, Bluetooth 5.0, WiFi, Windows 11 Home, para oficina o estudiantes                            \\n', '\\n\\n                                Laptop Gamer Acer Nitro 5 de 15.6\", modelo AN515-57-79F8, tarjeta gráfica GeForce RTX 3050, procesador Intel Core i7 (11va generación), 8GB RAM, disco sólido de 512GB, cámara web 720HD, entrada USB, HDMI y tipo C, Windows 11, Bluetooth 5.2, Wifi.                            \\n', '\\n\\n                                Laptop Gamer Lenovo LOQ de 15.6\", modelo 82XT002PLM, tarjeta gráfica GeForce RTX 4050, procesador AMD Ryzen 7 7840HS, 16GB RAM, disco sólido de 512GB, cámara web 1080p FHD, entrada HDMI, USB, Bluetooth 5.1, Windows 11, para gamers.                            \\n', '\\n\\n                                Laptop Lenovo IdeaPad 3i de 15.6\", modelo 82H802WQLM, procesador Intel Core i5 (11va generación), 16GB RAM, disco sólido de 256GB, Pantalla Touch IPS FHD, cámara web 720p HD, entrada USB, HDMI y tipo C, Bluetooth 5.0, WiFi, Windows 11 Home.                            \\n', '\\n\\n                                Laptop Gamer MSI de 15.6\", modelo THIN GF63 12VE 408, tarjeta gráfica GeForce RTX 4050, procesador Intel Core i7-12650H, 8GB RAM, disco sólido de 512GB, cámara web 720p HD, entrada USB, HDMI y tipo C, Bluetooth 5.2, Wifi, para gamers.                            \\n', '\\n\\n                                Laptop Gamer Acer Nitro 5 de 15.6\", modelo AN515-58-75G4, tarjeta gráfica GeForce RTX 3060, procesador Intel Core i7 (12va generación), 16GB RAM, disco sólido de 512GB, cámara web 720HD, entrada USB, HDMI y tipo C, Windows 11, Wifi.                            \\n', '\\n\\n                                Laptop HP de 15.6\", modelo 15-ef2526la, procesador AMD Ryzen 7 5700U, 12GB RAM, disco sólido de 512GB, cámara web 720HD, Bluetooth 5.2, entrada HDMI y tipo C, carga rápida, Wifi, Windows 11, para la oficina o estudiantes universitarios.                            \\n', '\\n\\n                                Laptop Acer Aspire 3 de 15.6\", modelo A315-24P-R3DN, procesador AMD Ryzen 5 7520U, 8GB RAM, 512GB de disco sólido, cámara web 720HD, entrada USB, HDMI, Windows 11, Wifi, Bluetooth 5.0, para oficina o estudiante universitario.                            \\n', '\\n\\n                                Laptop HP Pavilion de 15.6\", modelo 15-eg0516la, procesador Intel Core i5 (11va generación), 16GB RAM, disco sólido de 512GB, cámara web 720p HD, Bluetooth 5.3, entrada HDMI, USB, Wifi, Windows 11, para oficina o estudiantes.                            \\n', '\\n\\n                                Laptop Lenovo IdeaPad 5i Pro de 16\", modelo 82SK009GLM, procesador Intel Core i9 (12va generación), 16GB RAM, disco sólido de 512GB, cámara web 1080FHD, entrada HDMI y tipo C, Wifi, Bluetooth 5.1, carga rápida, Windows 11, para oficina o estudiantes.                            \\n', '\\n\\n                                Laptop HP Pavilion de 15.6\", modelo 15-eg0517la, procesador Intel Core i5 (11va generación), 8GB RAM, disco sólido de 256GB, cámara web 720p HD, Bluetooth 5.3, entrada HDMI, USB, Wifi, Windows 11, para oficina o estudiantes.                            \\n', '\\n\\n                                Laptop Gamer Acer Nitro 5 de 15.6\", modelo AN515-46-R294, tarjeta gráfica GeForce RTX 3060, procesador AMD Ryzen 7 6800H, 16GB RAM, disco sólido de 512GB, cámara web 720HD, entrada USB, HDMI y tipo C, Windows 11, Bluetooth 5.2.                            \\n', '\\n\\n                                Macbook Air 13\" M1 256 GB SSD 8 GB RAM Gris Espacial                            \\n']\n"
     ]
    }
   ],
   "source": [
    "print(hermano_tercero)"
   ]
  },
  {
   "cell_type": "code",
   "execution_count": 420,
   "id": "1d3f72fc",
   "metadata": {},
   "outputs": [],
   "source": [
    "hermano_tercero = [t.strip() for t in hermano_tercero]\n",
    "names=hermano_tercero\n"
   ]
  },
  {
   "cell_type": "code",
   "execution_count": 421,
   "id": "273e2c53",
   "metadata": {},
   "outputs": [
    {
     "name": "stdout",
     "output_type": "stream",
     "text": [
      "                                               Nombre   Precio\n",
      "0   Laptop HP de 15.6\", modelo 15-dy5000la, proces...   1849.0\n",
      "1   Laptop Gamer HP Victus de 15.6\", modelo 15-fb0...   2999.0\n",
      "2   Laptop HP de 15.6\", modelo 15-fd0008la, proces...   3299.0\n",
      "3   Laptop Gamer Acer de 18\", modelo PH18-71-72SW,...   9999.0\n",
      "4   Laptop Lenovo IdeaPad 1 15.6\" AMD Ryzen 3 7320...   1599.0\n",
      "5   Laptop Gamer MSI de 17.3\", modelo STEALTH 17 S...  10999.0\n",
      "6   Laptop Lenovo IdeaPad 3 de 15.6\", modelo 82KU0...   2399.0\n",
      "7   Laptop Gamer Acer Nitro 5 de 15.6\", modelo AN5...   3899.0\n",
      "8   Laptop Gamer Lenovo LOQ de 15.6\", modelo 82XT0...   4899.0\n",
      "9   Laptop Lenovo IdeaPad 3i de 15.6\", modelo 82H8...   2499.0\n",
      "10  Laptop Gamer MSI de 15.6\", modelo THIN GF63 12...   4599.0\n",
      "11  Laptop Gamer Acer Nitro 5 de 15.6\", modelo AN5...   5999.0\n",
      "12  Laptop HP de 15.6\", modelo 15-ef2526la, proces...   2299.0\n",
      "13  Laptop Acer Aspire 3 de 15.6\", modelo A315-24P...   2099.0\n",
      "14  Laptop HP Pavilion de 15.6\", modelo 15-eg0516l...   2599.0\n",
      "15  Laptop Lenovo IdeaPad 5i Pro de 16\", modelo 82...   4199.0\n",
      "16  Laptop HP Pavilion de 15.6\", modelo 15-eg0517l...   1699.0\n",
      "17  Laptop Gamer Acer Nitro 5 de 15.6\", modelo AN5...   5499.0\n",
      "18  Macbook Air 13\" M1 256 GB SSD 8 GB RAM Gris Es...   4299.0\n"
     ]
    }
   ],
   "source": [
    "df = pd.DataFrame({'Nombre': names, 'Precio': prices})\n",
    "print(df)"
   ]
  },
  {
   "cell_type": "markdown",
   "id": "f5886974",
   "metadata": {},
   "source": [
    "## Aplicación para TODAS LAS PÁGINAS"
   ]
  },
  {
   "cell_type": "code",
   "execution_count": 424,
   "id": "d9c2ed4d",
   "metadata": {},
   "outputs": [],
   "source": [
    "#########AHORA HACER UN BUCLE PARA TODAS LAS PÁGINAS CON FOR\n",
    "pricesList=[]\n",
    "namesList=[]\n",
    "for i in range(2,6):#2,3,4,5\n",
    "        a=str(i)\n",
    "        URL = 'https://hiraoka.com.pe/tecnologia/computadoras/laptops?p='+a\n",
    "        #print(URL)\n",
    "        page = requests.get(URL)\n",
    "        soup = BeautifulSoup(page.content, 'html.parser')\n",
    "        prices_soup = soup.find_all('span', {'class':\"special-price\"})\n",
    "        prices_text=[item.text for item in prices_soup]\n",
    "        prices_for = [float(re.search(pattern, item).group().replace(',', '')) for item in prices_text]\n",
    "        #print(prices)\n",
    "        pricesList.append(prices_for)\n",
    "        \n",
    "        padres=[]\n",
    "        hermano_tercero=[]\n",
    "        for price in prices_soup:\n",
    "            padre=price.parent\n",
    "            padres.append(padre)\n",
    "            hermanos=[]\n",
    "            for sibling in padre.previous_siblings:\n",
    "                hermanos.append(sibling)\n",
    "            hermano_tercero.append(hermanos[3].text)\n",
    "        hermano_tercero = [t.strip() for t in hermano_tercero]\n",
    "        names_for=hermano_tercero\n",
    "        namesList=namesList+ names_for\n",
    "        \n",
    "\n",
    "\n",
    "\n",
    "\n",
    "\n"
   ]
  },
  {
   "cell_type": "code",
   "execution_count": 425,
   "id": "c509e9a0",
   "metadata": {},
   "outputs": [
    {
     "name": "stdout",
     "output_type": "stream",
     "text": [
      "['Laptop HP de 15.6\", modelo 15-fd0002la, procesador Intel Core i3-N305, 8GB RAM, disco sólido de 256GB, cámara web 720p HD, Bluetooth 5.3, entrada HDMI, USB, Wifi, Windows 11, para oficina o estudiantes.', 'Laptop Gamer Lenovo Legion 5 de 15.6\", modelo 82JW003TLM, tarjeta gráfica GeForce RTX 3050, procesador AMD Ryzen 7 5800H, 16GB RAM, disco sólido de 512GB, cámara web 720p HD, entrada HDMI, USB, Bluetooth 5.1, Windows 11, para gamers.', 'Laptop Gamer Acer Nitro 5 de 15.6\", modelo AN515-58-54ZF, tarjeta gráfica GeForce RTX 3050, procesador Intel Core i5 (12va generación), 8GB RAM, disco sólido de 512GB, cámara web 720HD, entrada USB, HDMI y tipo C, Windows 11, Wifi, para gamers.', 'Laptop Gamer Asus ROG Strix SCAR 18 de 18\", modelo G834JY-N6013W, tarjeta gráfica GeForce RTX 4090, procesador Intel Core i9 13va Gen, 32GB RAM, 2TB de disco sólido, cámara web 720p HD, entrada USB, HDMI, RJ45 y tipo C, Windows 11, Wifi, Bluetooth 5.3.', 'Laptop Gamer Asus ROG Zephyrus\\xa0Duo\\xa016 de 16\", modelo GX650PY-NM005W, tarjeta gráfica GeForce RTX 4090, procesador AMD Ryzen 9 7945HX, 32GB RAM, 2TB de disco sólido, pantalla QHD+, entrada USB, HDMI y tipo C, Windows 11, Bluetooth 5.3, cámara web 1080p.', 'Laptop 2en1 Lenovo Yoga Book 9i de 2x 13.3\", modelo 82YQ000CLM, procesador Intel Core i7-1355U, 16GB RAM, disco sólido de 1TB, cámara web 5MP + IR, entrada USB tipo C, Bluetooth 5.1, WiFi, Windows 11, Incluye Microsoft 365 Personal (ESD) - 15 meses', 'Laptop HP de 15.6\", modelo 15-dy2059la, procesador intel core i3 (11th generación), 8GB RAM, disco sólido de 256 GB, cámara web 720HD, Bluetooth 4.2, carga rápida, entrada HDMI , Wifi, Windows 10, para estudiantes, color plateado.', 'Laptop Lenovo IdeaPad 3i de 15.6\", modelo 82RK00PFLM, procesador Intel Core i5-1235U, 8GB RAM, disco sólido de 512GB, cámara web 720p HD, entrada USB, HDMI y tipo C, Bluetooth 5.1, WiFi, Windows 11 Home, para oficina o estudiantes', 'Laptop Gamer MSI de 15.6\", modelo BRAVO 15 C7VF, tarjeta gráfica GeForce RTX 4060, procesador AMD Ryzen 7 7735HS, 16GB RAM, disco sólido de 512GB, cámara web 720HD, entrada USB, HDMI y tipo C, Bluetooth 5.2, Wifi, para gamers.', 'Macbook Air 13\"  M1 256 GB SSD 8 GB RAM Plata', 'Laptop Acer de 15.6\", modelo A515-58P-34E5, procesador Intel Core i3-1315U, 8GB RAM, 512GB de disco sólido, cámara web 720px HD, entrada USB, HDMI, Windows 11, Wifi, Bluetooth 5.0, para oficina o estudiante universitario.', 'Laptop HP de 15.6\", modelo 15-fc0013la, procesador AMD Ryzen 7 7730U, 16GB RAM, disco sólido de 512GB, cámara web 1080p FHD, Bluetooth 5.3, entrada HDMI y tipo C, Wifi, Windows 11, para la oficina o estudiantes.', 'Laptop Asus de 14\", modelo B1400CEAE-EK0853R, procesador Intel Core i5-1135G7, 8GB RAM, 512GB de disco sólido, cámara web 720p HD, entrada USB, HDMI, RJ45, Windows 11 Pro, Wifi, Bluetooth 5.1, Microsoft 365 Familia (ESD) - 15 meses', 'Laptop HP Pavilion de 14\", modelo 14-dy2002la, procesador Intel Core i5 (12va generación), 8GB RAM, disco sólido de 256GB, cámara web 720HD, entrada HDMI y tipo C, Wifi, Bluetooth 5.2, Windows 11, pantalla touch, convertible, para oficina o estudiantes.', 'Laptop Lenovo IdeaPad Gaming 3 de 15.6\", modelo 82SB00HPLM, tarjeta gráfica GeForce RTX 3050, procesador AMD Ryzen 5 6600H, 16GB RAM, disco sólido de 512GB, cámara web 720p HD, entrada USB, HDMI y tipo C, Bluetooth 5.1, WiFi, Windows 11, para Gamers.', 'Laptop Gamer Lenovo Legion Pro 5 de 16\", modelo 82WM009LLM, tarjeta gráfica GeForce RTX 4070, procesador AMD Ryzen 7 7745HX, 32GB RAM, disco sólido de 1TB, cámara web 1080p FHD, entrada HDMI, USB, Bluetooth 5.1, Windows 11, para gamers.', 'Laptop Acer Aspire 5 de 14\", modelo A514-54-50J1, procesador Intel Core i5 (11va generación), 12GB RAM, 512GB de disco sólido, cámara web 720HD, entrada USB, HDMI y tipo C, Windows 11, Wifi, Bluetooth 5.0, para oficina o estudiante universitario.', 'Laptop Honor MagicBook 14 de 14\", modelo NIR-WAQ9AHNR, procesador AMD Ryzen 5 3500U, 8GB RAM, disco sólido de 256GB con cámara web 720HD, Bluetooth 5.0, Wifi, Windows 10', 'Laptop Gamer Acer de 16\", modelo PHN16-71-77VH, tarjeta gráfica GeForce RTX 4060, procesador Intel Core i7 (13va generación), 16GB RAM, disco sólido de 1TB, cámara web 720HD, entrada USB, HDMI y tipo C, Windows 11, Wifi.', 'Laptop Lenovo IdeaPad 1 de 15.6\", modelo 82VG004CLM, procesador AMD Ryzen 5 7520U, 8GB RAM, disco sólido de 512GB, cámara web 720p HD, entrada HDMI y tipo C, Wifi, Bluetooth 5.1, Windows 11, para oficina o estudiantes.', 'Laptop Asus Vivobook\\xa0Go 15\\xa0de 15.6\", modelo E1504FA-NJ403W, procesador AMD Ryzen 5 7520U, 8GB RAM, 256GB de disco sólido, pantalla FHD, entrada USB, HDMI y tipo C, Windows 11, Bluetooth 5.3, cámara web 720p HD para oficina o estudiante.', 'Laptop Lenovo IdeaPad Gaming 3i de 15.6\", modelo 82K101MVLM, tarjeta gráfica GeForce GTX 1650, procesador Intel Core i5-11320H, 16GB RAM, disco sólido de 512GB, cámara web 720p HD, entrada USB y HDMI, Bluetooth 5.1, WiFi, Windows 11, para Gamers', 'Laptop Asus Vivobook de 16\", modelo X1605ZA-MB252W, procesador Intel Core i5 (12va generación), 8GB RAM, 512GB de disco sólido, cámara web 720HD, entrada USB, HDMI y tipo C, Windows 11, Wifi, Bluetooth 5.0, para oficina o estudiante universitario.', 'Laptop Gamer Acer de 15.6\", modelo AN515-58-77GL, tarjeta gráfica GeForce RTX 3050, procesador Intel Core i7-12650H, 16GB RAM, disco sólido de 512GB, cámara web 720px HD, entrada USB, HDMI y tipo C, Windows 11, Wifi, para gamers.', 'Laptop Acer de 15.6\", modelo A315-24P-R2M5, procesador AMD Ryzen 5 7520U, 8GB RAM, 512GB de disco sólido, cámara web 720px HD, entrada USB, HDMI, Windows 11, Wifi, Bluetooth 5.0, para oficina o estudiante universitario.', 'Laptop HP de 15.6\", modelo 15-fc0002la, procesador AMD Ryzen 5 7520U, 16GB RAM, disco sólido de 512GB, cámara web 1080p FHD, Bluetooth 5.3, entrada HDMI, USB, Wifi, Windows 11, para oficina o estudiantes.', 'Laptop Acer de 15.6\", modelo A315-24PT-R85K, procesador AMD Ryzen 5 7520U, 8GB RAM, 512GB de disco sólido, Pantalla Touch, cámara web 720px HD, entrada USB, HDMI, Windows 11, Wifi, Bluetooth 5.0, para oficina o estudiante universitario.', 'Laptop Asus Vivobook\\xa016\\xa0de 16\", modelo X1605ZA-MB213W, procesador Intel Core i7-1255U, 12GB RAM, 512GB de disco sólido, pantalla WUXGA, entrada USB, HDMI y tipo C, Windows 11, Bluetooth 5.3, cámara web 720p HD para oficina o estudiante.', 'Laptop HP de 15.6\", modelo Pavilion 15-eg0520la, procesador Intel Core i7-1165G7, 16GB RAM, disco sólido de 512GB, cámara web 720p HD, Bluetooth 5.3, entrada HDMI, USB, Wifi, Windows 11, para oficina o estudiantes.', 'Laptop Asus Vivobook\\xa016\\xa0de 16\", modelo M1605YA-MB160W, procesador AMD Ryzen 7 7730U, 16GB RAM, 512GB de disco sólido, pantalla WUXGA, entrada USB, HDMI y tipo C, Windows 11, Bluetooth 5.3, cámara web 720p HD para oficina o estudiante.', 'Laptop Gamer HP Victus de 15.6\", modelo 15-fb0125la, tarjeta gráfica NVIDIA GeForce RTX 3050, procesador AMD Ryzen 7 5800H, 16GB RAM, disco sólido de 512GB, cámara web 720p HD, Bluetooth 5.3, entrada HDMI, USB, Wifi, Windows 11, para gamers.', 'Laptop Gamer Acer Nitro 5 15.6\", modelo AN515-57-5323, tarjeta gráfica GeForce RTX 3050, procesador Intel Core i5 (11va generación), 8GB RAM, disco sólido de 512GB, cámara web 720HD, entrada USB, HDMI y tipo C, Windows 11, Wifi, Bluetooth 5.2.', 'Laptop Lenovo IdeaPad Gaming 3 de 15.6\", modelo 82SB00S7LM, tarjeta gráfica GeForce RTX 3050, procesador AMD Ryzen 7 6800H, 16GB RAM, disco sólido de 512GB, cámara web 720p HD, entrada USB y HDMI, Bluetooth 5.1, WiFi, Windows 11, para Gamers', 'Laptop Asus Zenbook\\xa0S 13 OLED\\xa0de 13.3\", modelo UX5304VA-NQ021W, procesador Intel Core i7-1355U, 16GB RAM, 1TB de disco sólido, pantalla 3K, entrada USB, HDMI y tipo C, Windows 11, Bluetooth 5.3, Incluye Microsoft 365 Personal (ESD) - 15 meses', 'Laptop LG Gram Ultraligera de 17\", modelo 17Z90Q-G.AH76B4, procesador Intel Core i7 (12va generación), 16GB RAM, 512GB de disco sólido, entrada USB, HDMI y tipo C, Windows 11, Bluetooth 5.1, Wifi, cámara web FHD, para oficina o estudiante universitario.', 'Laptop Acer de 15.6\", modelo A315-24P-R9JU, procesador AMD Ryzen 5 7520U, 16GB RAM, 512GB de disco sólido, cámara web 720px HD, entrada USB, HDMI, Windows 11, Wifi, Bluetooth 5.0, para oficina o estudiante universitario.', 'Laptop Gamer Asus TUF F15 de 15.6\", modelo FX506HC-HN111W, tarjeta gráfica GeForce RTX 3050, procesador Intel Core i5-11400H, 8GB RAM, 512GB de disco sólido, cámara web 720HD, entrada USB, HDMI, RJ45 y tipo C, Windows 11, Wifi, Bluetooth 5.3, para Gamers.', 'Laptop Huawei MateBook D16 de 16\", modelo RolleF-W5851, procesador Intel Core i5 (12va generación), 8GB RAM, 512GB de disco sólido, entrada USB, HDMI y tipo C, Windows 11, Bluetooth 5.1, Wifi, cámara web 1080 FHD, para oficina o estudiantes.', 'Laptop Lenovo IdeaPad 3i de 15.6\", modelo 82H8031YLM, procesador Intel Core i7 (11va generación), 16GB RAM, disco sólido de 512GB, cámara web 720p HD, entrada USB, HDMI y tipo C, Bluetooth 5.1, WiFi, Windows 11 Home, para oficina o estudiantes', 'Laptop Gamer HP Victus de 16.1\", modelo 16-d0507la, tarjeta gráfica NVIDIA GeForce RTX 3050, procesador Intel Core i5-11400H, 8GB RAM, disco sólido de 512GB, cámara web 720p HD, Bluetooth 5.2, entrada HDMI, Wifi, Windows 11, para gamers.', 'Laptop LG Gram Ultraligera de 16\", modelo 16Z90Q-G.AJ56B4, procesador Intel Core i5 Evo (12va generación), 8GB RAM, 512B de disco sólido, entrada USB, HDMI y tipo C, Windows 11, Bluetooth 5.1, cámara web FHD, para oficina o estudiante universitario.', 'Laptop Gamer MSI de 15.6\", modelo THIN GF63 12VE 409, tarjeta gráfica GeForce RTX 4050, procesador Intel Core i5-12450H, 16GB RAM, disco sólido de 512GB, cámara web 720p HD, entrada USB, HDMI y tipo C, Bluetooth 5.2, Wifi, para gamers.', 'Laptop HP de 13.5\", modelo Spectre x360 2-in-1 14-ef2000la, procesador Intel Core i7-1355U, 16GB RAM, disco sólido de 1TB, cámara web 5MP IR, Bluetooth 5.3, entrada USB, Wifi, Windows 11, para oficina o estudiantes.', 'Laptop Gamer Acer de 16\", modelo AN16-41-R2H5, tarjeta gráfica GeForce RTX 4050, procesador AMD Ryzen 5 7640HS, 8GB RAM, disco sólido de 512GB, cámara web 720px HD, entrada USB, HDMI y tipo C, Windows 11, Wifi, para gamers.', 'Laptop Gamer Lenovo LOQ de 15.6\", modelo 82XV00HVLM, tarjeta gráfica GeForce RTX 4060, procesador Intel Core i7-13620H, 16GB RAM, disco sólido de 512GB, cámara web 1080p FHD, entrada HDMI, USB, Bluetooth 5.1, Windows 11, para gamers.', 'Laptop Gamer ASUS ROG Zephyrus G15de 15.6\", modelo G15 GA503RM-LN118W, tarjeta gráfica GeForce RTX 3060, procesador AMD Ryzen 9 6900HS, 16GB RAM, disco sólido de 512GB, cámara web 720HD, entrada USB, HDMI y tipo C, Windows 11, Bluetooth 5.2, Wifi.', 'Laptop MSI de 15.6\", Modern 15 B7M, procesador AMD Ryzen 7 7730U, 16GB RAM, 512GB de disco sólido, entrada USB, HDMI, Windows 11, Bluetooth 5.2, Wifi, cámara web, para oficina o estudiantes universitarios.', 'Laptop Gamer Acer de 15.6\", modelo AN515-58-74RS, tarjeta gráfica GeForce RTX 4050, procesador Intel Core i7-12650H, 16GB RAM, disco sólido de 512GB, cámara web 720px HD, entrada USB, HDMI y tipo C, Windows 11, Wifi, para gamers.', 'Laptop Acer Aspire Vero de 15.6\", modelo AV15-51-50X9, procesador Intel Core i5 (11va generación), 8GB RAM, disco sólido de 512GB, cámara web 720HD, entrada HDMI y tipo C, Windows 11, Wifi, Bluetooth 5.0, incluye mouse.', 'Laptop Gamer MSI Katana 17 B13VFK 17.3\" Intel Core i7-13620H 512GB SSD 16GB RAM RTX4060', 'Laptop Gaming Asus TUF Dash F15 FX517ZM-HN001W 15.6\" Intel Core i7-12650H 12th Gen 512GB SSD 16GB RAM', 'Laptop Gamer Acer de 15.6\", modelo AN515-58-51HS, tarjeta gráfica GeForce RTX 4050, procesador Intel Core i5-12450H, 8GB RAM, disco sólido de 512GB, cámara web 720px HD, entrada USB, HDMI y tipo C, Windows 11, Wifi, para gamers.', 'Laptop Acer Aspire 3 de 15.6\", modelo A315-59-51A0, procesador Intel Core i5 (12va generación), 8GB RAM, 512GB de disco sólido, cámara web 720HD, entrada USB, HDMI, Windows 11, Wifi, Bluetooth 5.0, para oficina o estudiante universitario.', 'Laptop Lenovo IdeaPad 3i de 15.6\", modelo 82H803DSLM, procesador Intel Core i3-1115G4, 8GB RAM, disco sólido de 256GB, cámara web 720p HD, entrada USB, HDMI y tipo C, Bluetooth 5.1, WiFi, Windows 11 Home, para oficina o estudiantes', 'Laptop Lenovo IdeaPad Gaming 3i de 15.6\", modelo 82S9012QLM, tarjeta gráfica GeForce RTX 3050, procesador Intel Core i5 (12va generación), 8GB RAM, disco sólido de 512GB, cámara web 720p HD, entrada USB y HDMI, Bluetooth 5.1, WiFi, Windows 11, para Gamers', 'Laptop Huawei MateBook D15 de 15.6\", modelo BOHRE-WDH9AL, procesador Intel Core i5-1155G7, 8GB RAM, 512GB de disco sólido, entrada USB, HDMI y tipo C, Windows 11, Bluetooth 5.1, Wifi, cámara web 720p HD, para oficina o estudiante.', 'MacBook Pro 13.3\" M2 256GB SSD Gris Espacial', 'Laptop Asus Vivobook de 15.6\", modelo E1504GA-NJ006W, procesador Intel Core i3-N305, 8GB RAM, 256GB de disco sólido, entrada USB, HDMI y tipo C, Windows 11, Bluetooth 5.3, cámara web 720p HD para oficina o estudiante.', 'Laptop Lenovo Ideapad Flex 5 de 14\", modelo 82HU0148AR, procesador AMD Ryzen 3 5300U, 8GB RAM, disco sólido de 256GB, cámara web 720p HD, entrada USB, HDMI y tipo C, Bluetooth 5.0, WiFi, Windows 11 Home, color Platinum Grey, para oficina o estudiantes']\n"
     ]
    }
   ],
   "source": [
    "##Verificamos resultados de nombres\n",
    "\n",
    "print(namesList)"
   ]
  },
  {
   "cell_type": "code",
   "execution_count": 426,
   "id": "b39e16da",
   "metadata": {},
   "outputs": [
    {
     "name": "stdout",
     "output_type": "stream",
     "text": [
      "[[1949.0, 4199.0, 3299.0, 17999.0, 18999.0, 8699.0, 1299.0, 2099.0, 6499.0, 4299.0, 1949.0, 2799.0, 2299.0, 3099.0, 3749.0, 7899.0, 1999.0, 1499.0, 7299.0], [1899.0, 1599.0, 2699.0, 2599.0, 4399.0, 2099.0, 2399.0, 2249.0, 3149.0, 3099.0, 2899.0, 4249.0, 3099.0, 3999.0, 6299.0, 5799.0, 2549.0, 3099.0, 3299.0, 2899.0], [2799.0, 4199.0, 4199.0, 6499.0, 4899.0, 5399.0, 7199.0, 3899.0, 5199.0, 2399.0, 7099.0, 5699.0, 4299.0, 2199.0, 1399.0, 3299.0, 2299.0], [6499.0, 1399.0, 1749.0]]\n"
     ]
    }
   ],
   "source": [
    "###Verificamos resultados de precios\n",
    "print(pricesList)"
   ]
  },
  {
   "cell_type": "code",
   "execution_count": 427,
   "id": "a54a26d9",
   "metadata": {},
   "outputs": [
    {
     "name": "stdout",
     "output_type": "stream",
     "text": [
      "[1949.0, 4199.0, 3299.0, 17999.0, 18999.0, 8699.0, 1299.0, 2099.0, 6499.0, 4299.0, 1949.0, 2799.0, 2299.0, 3099.0, 3749.0, 7899.0, 1999.0, 1499.0, 7299.0, 1899.0, 1599.0, 2699.0, 2599.0, 4399.0, 2099.0, 2399.0, 2249.0, 3149.0, 3099.0, 2899.0, 4249.0, 3099.0, 3999.0, 6299.0, 5799.0, 2549.0, 3099.0, 3299.0, 2899.0, 2799.0, 4199.0, 4199.0, 6499.0, 4899.0, 5399.0, 7199.0, 3899.0, 5199.0, 2399.0, 7099.0, 5699.0, 4299.0, 2199.0, 1399.0, 3299.0, 2299.0, 6499.0, 1399.0, 1749.0]\n"
     ]
    }
   ],
   "source": [
    "###Ponemos en una única lista\n",
    "pricesList= [num for sublist in pricesList for num in sublist]\n",
    "print(pricesList)"
   ]
  },
  {
   "cell_type": "code",
   "execution_count": 430,
   "id": "3fa6ff16",
   "metadata": {},
   "outputs": [
    {
     "name": "stdout",
     "output_type": "stream",
     "text": [
      "(78, 78)\n"
     ]
    }
   ],
   "source": [
    "prices_final=prices+pricesList\n",
    "names_final= names+ namesList\n",
    "print((len(prices_final),len(names_final)))\n"
   ]
  },
  {
   "cell_type": "code",
   "execution_count": 431,
   "id": "0998aa19",
   "metadata": {},
   "outputs": [
    {
     "data": {
      "text/html": [
       "<div>\n",
       "<style scoped>\n",
       "    .dataframe tbody tr th:only-of-type {\n",
       "        vertical-align: middle;\n",
       "    }\n",
       "\n",
       "    .dataframe tbody tr th {\n",
       "        vertical-align: top;\n",
       "    }\n",
       "\n",
       "    .dataframe thead th {\n",
       "        text-align: right;\n",
       "    }\n",
       "</style>\n",
       "<table border=\"1\" class=\"dataframe\">\n",
       "  <thead>\n",
       "    <tr style=\"text-align: right;\">\n",
       "      <th></th>\n",
       "      <th>Nombres</th>\n",
       "      <th>Precios</th>\n",
       "    </tr>\n",
       "  </thead>\n",
       "  <tbody>\n",
       "    <tr>\n",
       "      <th>0</th>\n",
       "      <td>Laptop HP de 15.6\", modelo 15-dy5000la, proces...</td>\n",
       "      <td>1849.0</td>\n",
       "    </tr>\n",
       "    <tr>\n",
       "      <th>1</th>\n",
       "      <td>Laptop Gamer HP Victus de 15.6\", modelo 15-fb0...</td>\n",
       "      <td>2999.0</td>\n",
       "    </tr>\n",
       "    <tr>\n",
       "      <th>2</th>\n",
       "      <td>Laptop HP de 15.6\", modelo 15-fd0008la, proces...</td>\n",
       "      <td>3299.0</td>\n",
       "    </tr>\n",
       "    <tr>\n",
       "      <th>3</th>\n",
       "      <td>Laptop Gamer Acer de 18\", modelo PH18-71-72SW,...</td>\n",
       "      <td>9999.0</td>\n",
       "    </tr>\n",
       "    <tr>\n",
       "      <th>4</th>\n",
       "      <td>Laptop Lenovo IdeaPad 1 15.6\" AMD Ryzen 3 7320...</td>\n",
       "      <td>1599.0</td>\n",
       "    </tr>\n",
       "    <tr>\n",
       "      <th>...</th>\n",
       "      <td>...</td>\n",
       "      <td>...</td>\n",
       "    </tr>\n",
       "    <tr>\n",
       "      <th>73</th>\n",
       "      <td>Laptop Lenovo IdeaPad Gaming 3i de 15.6\", mode...</td>\n",
       "      <td>3299.0</td>\n",
       "    </tr>\n",
       "    <tr>\n",
       "      <th>74</th>\n",
       "      <td>Laptop Huawei MateBook D15 de 15.6\", modelo BO...</td>\n",
       "      <td>2299.0</td>\n",
       "    </tr>\n",
       "    <tr>\n",
       "      <th>75</th>\n",
       "      <td>MacBook Pro 13.3\" M2 256GB SSD Gris Espacial</td>\n",
       "      <td>6499.0</td>\n",
       "    </tr>\n",
       "    <tr>\n",
       "      <th>76</th>\n",
       "      <td>Laptop Asus Vivobook de 15.6\", modelo E1504GA-...</td>\n",
       "      <td>1399.0</td>\n",
       "    </tr>\n",
       "    <tr>\n",
       "      <th>77</th>\n",
       "      <td>Laptop Lenovo Ideapad Flex 5 de 14\", modelo 82...</td>\n",
       "      <td>1749.0</td>\n",
       "    </tr>\n",
       "  </tbody>\n",
       "</table>\n",
       "<p>78 rows × 2 columns</p>\n",
       "</div>"
      ],
      "text/plain": [
       "                                              Nombres  Precios\n",
       "0   Laptop HP de 15.6\", modelo 15-dy5000la, proces...   1849.0\n",
       "1   Laptop Gamer HP Victus de 15.6\", modelo 15-fb0...   2999.0\n",
       "2   Laptop HP de 15.6\", modelo 15-fd0008la, proces...   3299.0\n",
       "3   Laptop Gamer Acer de 18\", modelo PH18-71-72SW,...   9999.0\n",
       "4   Laptop Lenovo IdeaPad 1 15.6\" AMD Ryzen 3 7320...   1599.0\n",
       "..                                                ...      ...\n",
       "73  Laptop Lenovo IdeaPad Gaming 3i de 15.6\", mode...   3299.0\n",
       "74  Laptop Huawei MateBook D15 de 15.6\", modelo BO...   2299.0\n",
       "75       MacBook Pro 13.3\" M2 256GB SSD Gris Espacial   6499.0\n",
       "76  Laptop Asus Vivobook de 15.6\", modelo E1504GA-...   1399.0\n",
       "77  Laptop Lenovo Ideapad Flex 5 de 14\", modelo 82...   1749.0\n",
       "\n",
       "[78 rows x 2 columns]"
      ]
     },
     "execution_count": 431,
     "metadata": {},
     "output_type": "execute_result"
    }
   ],
   "source": [
    "df = pd.DataFrame({'Nombres': names_final, 'Precios': prices_final})\n",
    "df"
   ]
  },
  {
   "cell_type": "code",
   "execution_count": 432,
   "id": "01ae0379",
   "metadata": {},
   "outputs": [
    {
     "data": {
      "text/html": [
       "<div>\n",
       "<style scoped>\n",
       "    .dataframe tbody tr th:only-of-type {\n",
       "        vertical-align: middle;\n",
       "    }\n",
       "\n",
       "    .dataframe tbody tr th {\n",
       "        vertical-align: top;\n",
       "    }\n",
       "\n",
       "    .dataframe thead th {\n",
       "        text-align: right;\n",
       "    }\n",
       "</style>\n",
       "<table border=\"1\" class=\"dataframe\">\n",
       "  <thead>\n",
       "    <tr style=\"text-align: right;\">\n",
       "      <th></th>\n",
       "      <th>Nombres al 2023-09-09 23:40:02</th>\n",
       "      <th>Precio al 2023-09-09 23:40:02</th>\n",
       "    </tr>\n",
       "  </thead>\n",
       "  <tbody>\n",
       "    <tr>\n",
       "      <th>0</th>\n",
       "      <td>Laptop HP de 15.6\", modelo 15-dy5000la, proces...</td>\n",
       "      <td>1849.0</td>\n",
       "    </tr>\n",
       "    <tr>\n",
       "      <th>1</th>\n",
       "      <td>Laptop Gamer HP Victus de 15.6\", modelo 15-fb0...</td>\n",
       "      <td>2999.0</td>\n",
       "    </tr>\n",
       "    <tr>\n",
       "      <th>2</th>\n",
       "      <td>Laptop HP de 15.6\", modelo 15-fd0008la, proces...</td>\n",
       "      <td>3299.0</td>\n",
       "    </tr>\n",
       "    <tr>\n",
       "      <th>3</th>\n",
       "      <td>Laptop Gamer Acer de 18\", modelo PH18-71-72SW,...</td>\n",
       "      <td>9999.0</td>\n",
       "    </tr>\n",
       "    <tr>\n",
       "      <th>4</th>\n",
       "      <td>Laptop Lenovo IdeaPad 1 15.6\" AMD Ryzen 3 7320...</td>\n",
       "      <td>1599.0</td>\n",
       "    </tr>\n",
       "    <tr>\n",
       "      <th>...</th>\n",
       "      <td>...</td>\n",
       "      <td>...</td>\n",
       "    </tr>\n",
       "    <tr>\n",
       "      <th>73</th>\n",
       "      <td>Laptop Lenovo IdeaPad Gaming 3i de 15.6\", mode...</td>\n",
       "      <td>3299.0</td>\n",
       "    </tr>\n",
       "    <tr>\n",
       "      <th>74</th>\n",
       "      <td>Laptop Huawei MateBook D15 de 15.6\", modelo BO...</td>\n",
       "      <td>2299.0</td>\n",
       "    </tr>\n",
       "    <tr>\n",
       "      <th>75</th>\n",
       "      <td>MacBook Pro 13.3\" M2 256GB SSD Gris Espacial</td>\n",
       "      <td>6499.0</td>\n",
       "    </tr>\n",
       "    <tr>\n",
       "      <th>76</th>\n",
       "      <td>Laptop Asus Vivobook de 15.6\", modelo E1504GA-...</td>\n",
       "      <td>1399.0</td>\n",
       "    </tr>\n",
       "    <tr>\n",
       "      <th>77</th>\n",
       "      <td>Laptop Lenovo Ideapad Flex 5 de 14\", modelo 82...</td>\n",
       "      <td>1749.0</td>\n",
       "    </tr>\n",
       "  </tbody>\n",
       "</table>\n",
       "<p>78 rows × 2 columns</p>\n",
       "</div>"
      ],
      "text/plain": [
       "                       Nombres al 2023-09-09 23:40:02  \\\n",
       "0   Laptop HP de 15.6\", modelo 15-dy5000la, proces...   \n",
       "1   Laptop Gamer HP Victus de 15.6\", modelo 15-fb0...   \n",
       "2   Laptop HP de 15.6\", modelo 15-fd0008la, proces...   \n",
       "3   Laptop Gamer Acer de 18\", modelo PH18-71-72SW,...   \n",
       "4   Laptop Lenovo IdeaPad 1 15.6\" AMD Ryzen 3 7320...   \n",
       "..                                                ...   \n",
       "73  Laptop Lenovo IdeaPad Gaming 3i de 15.6\", mode...   \n",
       "74  Laptop Huawei MateBook D15 de 15.6\", modelo BO...   \n",
       "75       MacBook Pro 13.3\" M2 256GB SSD Gris Espacial   \n",
       "76  Laptop Asus Vivobook de 15.6\", modelo E1504GA-...   \n",
       "77  Laptop Lenovo Ideapad Flex 5 de 14\", modelo 82...   \n",
       "\n",
       "    Precio al 2023-09-09 23:40:02  \n",
       "0                          1849.0  \n",
       "1                          2999.0  \n",
       "2                          3299.0  \n",
       "3                          9999.0  \n",
       "4                          1599.0  \n",
       "..                            ...  \n",
       "73                         3299.0  \n",
       "74                         2299.0  \n",
       "75                         6499.0  \n",
       "76                         1399.0  \n",
       "77                         1749.0  \n",
       "\n",
       "[78 rows x 2 columns]"
      ]
     },
     "execution_count": 432,
     "metadata": {},
     "output_type": "execute_result"
    }
   ],
   "source": [
    "#ARMAMOS EL DATA FRAME\n",
    "fecha_actual = datetime.now().strftime(\"%Y-%m-%d %H:%M:%S\")\n",
    "fecha_actual_precios=\"Precio\"+\" al \" + fecha_actual\n",
    "fecha_actual_nombres=\"Nombres\"+ \" al \"+  fecha_actual\n",
    "#df_11nov = pd.DataFrame(prices, columns =['Precios al 12/11/2020']) \n",
    "df.rename(columns={'Nombres': fecha_actual_nombres, 'Precios': fecha_actual_precios }, inplace=True)\n",
    "df"
   ]
  },
  {
   "cell_type": "markdown",
   "id": "44520fe0",
   "metadata": {},
   "source": [
    "# Lo trabajamos como función"
   ]
  },
  {
   "cell_type": "code",
   "execution_count": 433,
   "id": "9a01144f",
   "metadata": {},
   "outputs": [],
   "source": [
    " def HiraokaScrap():\n",
    "        ##Página de entradad para precios\n",
    "        URL = 'https://hiraoka.com.pe/computo-y-tecnologia/computadoras/laptops'\n",
    "        page = requests.get(URL)\n",
    "        soup = BeautifulSoup(page.content)\n",
    "        prices_t = soup.find_all('span', {'class':\"special-price\"})\n",
    "        prices_text=[item.text for item in prices_t]\n",
    "        pattern = r'[\\d,]+(?:\\.\\d+)?'\n",
    "        prices = [float(re.search(pattern, item).group().replace(',', '')) for item in prices_text]\n",
    "        \n",
    "        ##Página de entrada para nombres\n",
    "        padres=[]\n",
    "        hermano_tercero=[]\n",
    "        for price in prices_t:\n",
    "            padre=price.parent\n",
    "            padres.append(padre)\n",
    "            hermanos=[]\n",
    "            for sibling in padre.previous_siblings:\n",
    "                 hermanos.append(sibling)\n",
    "            hermano_tercero.append(hermanos[3].text)\n",
    "        hermano_tercero = [t.strip() for t in hermano_tercero]\n",
    "        names=hermano_tercero\n",
    "\n",
    "        #### Páginas siguientes\n",
    "        pricesList=[]\n",
    "        namesList=[]\n",
    "        for i in range(2,6):#1,2,3,4\n",
    "            a=str(i)\n",
    "            URL = 'https://hiraoka.com.pe/tecnologia/computadoras/laptops'+'?p='+a\n",
    "            #print(URL)\n",
    "            page = requests.get(URL)\n",
    "            soup = BeautifulSoup(page.content, 'html.parser')\n",
    "            prices_soup = soup.find_all('span', {'class':\"special-price\"})\n",
    "            prices_text=[item.text for item in prices_soup]\n",
    "            prices_for = [float(re.search(pattern, item).group().replace(',', '')) for item in prices_text]\n",
    "        #print(prices)\n",
    "            pricesList.append(prices_for)\n",
    "        \n",
    "            padres=[]\n",
    "            hermano_tercero=[]\n",
    "            for price in prices_soup:\n",
    "                padre=price.parent\n",
    "                padres.append(padre)\n",
    "                hermanos=[]\n",
    "                for sibling in padre.previous_siblings:\n",
    "                    hermanos.append(sibling)\n",
    "                hermano_tercero.append(hermanos[3].text)\n",
    "            hermano_tercero = [t.strip() for t in hermano_tercero]\n",
    "            names_for=hermano_tercero\n",
    "            namesList=namesList+ names_for\n",
    "            \n",
    "        pricesList= [num for sublist in pricesList for num in sublist]\n",
    "        prices_final=prices+pricesList\n",
    "        names_final= names+ namesList\n",
    "        \n",
    "        ###Dataframe\n",
    "        prices_final=prices+pricesList\n",
    "        names_final= names+ namesList\n",
    "        df = pd.DataFrame({'Nombres': names_final, 'Precios': prices_final})\n",
    "        fecha_actual = datetime.now().strftime(\"%Y-%m-%d %H:%M:%S\")\n",
    "        fecha_actual_precios=\"Precio\"+\" al \" + fecha_actual\n",
    "        fecha_actual_nombres=\"Nombres\"+ \" al \"+  fecha_actual\n",
    "        #df_11nov = pd.DataFrame(prices, columns =['Precios al 12/11/2020']) \n",
    "        df.rename(columns={'Nombres': fecha_actual_nombres, 'Precios': fecha_actual_precios }, inplace=True)\n",
    "        return df\n",
    "\n",
    "            \n"
   ]
  },
  {
   "cell_type": "code",
   "execution_count": 434,
   "id": "b2485597",
   "metadata": {},
   "outputs": [
    {
     "data": {
      "text/html": [
       "<div>\n",
       "<style scoped>\n",
       "    .dataframe tbody tr th:only-of-type {\n",
       "        vertical-align: middle;\n",
       "    }\n",
       "\n",
       "    .dataframe tbody tr th {\n",
       "        vertical-align: top;\n",
       "    }\n",
       "\n",
       "    .dataframe thead th {\n",
       "        text-align: right;\n",
       "    }\n",
       "</style>\n",
       "<table border=\"1\" class=\"dataframe\">\n",
       "  <thead>\n",
       "    <tr style=\"text-align: right;\">\n",
       "      <th></th>\n",
       "      <th>Nombres al 2023-09-09 23:55:15</th>\n",
       "      <th>Precio al 2023-09-09 23:55:15</th>\n",
       "    </tr>\n",
       "  </thead>\n",
       "  <tbody>\n",
       "    <tr>\n",
       "      <th>0</th>\n",
       "      <td>Laptop HP de 15.6\", modelo 15-dy5000la, proces...</td>\n",
       "      <td>1849.0</td>\n",
       "    </tr>\n",
       "    <tr>\n",
       "      <th>1</th>\n",
       "      <td>Laptop Gamer HP Victus de 15.6\", modelo 15-fb0...</td>\n",
       "      <td>2999.0</td>\n",
       "    </tr>\n",
       "    <tr>\n",
       "      <th>2</th>\n",
       "      <td>Laptop HP de 15.6\", modelo 15-fd0008la, proces...</td>\n",
       "      <td>3299.0</td>\n",
       "    </tr>\n",
       "    <tr>\n",
       "      <th>3</th>\n",
       "      <td>Laptop Gamer Acer de 18\", modelo PH18-71-72SW,...</td>\n",
       "      <td>9999.0</td>\n",
       "    </tr>\n",
       "    <tr>\n",
       "      <th>4</th>\n",
       "      <td>Laptop Lenovo IdeaPad 1 15.6\" AMD Ryzen 3 7320...</td>\n",
       "      <td>1599.0</td>\n",
       "    </tr>\n",
       "    <tr>\n",
       "      <th>...</th>\n",
       "      <td>...</td>\n",
       "      <td>...</td>\n",
       "    </tr>\n",
       "    <tr>\n",
       "      <th>73</th>\n",
       "      <td>Laptop Lenovo IdeaPad Gaming 3i de 15.6\", mode...</td>\n",
       "      <td>3299.0</td>\n",
       "    </tr>\n",
       "    <tr>\n",
       "      <th>74</th>\n",
       "      <td>Laptop Huawei MateBook D15 de 15.6\", modelo BO...</td>\n",
       "      <td>2299.0</td>\n",
       "    </tr>\n",
       "    <tr>\n",
       "      <th>75</th>\n",
       "      <td>MacBook Pro 13.3\" M2 256GB SSD Gris Espacial</td>\n",
       "      <td>6499.0</td>\n",
       "    </tr>\n",
       "    <tr>\n",
       "      <th>76</th>\n",
       "      <td>Laptop Asus Vivobook de 15.6\", modelo E1504GA-...</td>\n",
       "      <td>1399.0</td>\n",
       "    </tr>\n",
       "    <tr>\n",
       "      <th>77</th>\n",
       "      <td>Laptop Lenovo Ideapad Flex 5 de 14\", modelo 82...</td>\n",
       "      <td>1749.0</td>\n",
       "    </tr>\n",
       "  </tbody>\n",
       "</table>\n",
       "<p>78 rows × 2 columns</p>\n",
       "</div>"
      ],
      "text/plain": [
       "                       Nombres al 2023-09-09 23:55:15  \\\n",
       "0   Laptop HP de 15.6\", modelo 15-dy5000la, proces...   \n",
       "1   Laptop Gamer HP Victus de 15.6\", modelo 15-fb0...   \n",
       "2   Laptop HP de 15.6\", modelo 15-fd0008la, proces...   \n",
       "3   Laptop Gamer Acer de 18\", modelo PH18-71-72SW,...   \n",
       "4   Laptop Lenovo IdeaPad 1 15.6\" AMD Ryzen 3 7320...   \n",
       "..                                                ...   \n",
       "73  Laptop Lenovo IdeaPad Gaming 3i de 15.6\", mode...   \n",
       "74  Laptop Huawei MateBook D15 de 15.6\", modelo BO...   \n",
       "75       MacBook Pro 13.3\" M2 256GB SSD Gris Espacial   \n",
       "76  Laptop Asus Vivobook de 15.6\", modelo E1504GA-...   \n",
       "77  Laptop Lenovo Ideapad Flex 5 de 14\", modelo 82...   \n",
       "\n",
       "    Precio al 2023-09-09 23:55:15  \n",
       "0                          1849.0  \n",
       "1                          2999.0  \n",
       "2                          3299.0  \n",
       "3                          9999.0  \n",
       "4                          1599.0  \n",
       "..                            ...  \n",
       "73                         3299.0  \n",
       "74                         2299.0  \n",
       "75                         6499.0  \n",
       "76                         1399.0  \n",
       "77                         1749.0  \n",
       "\n",
       "[78 rows x 2 columns]"
      ]
     },
     "execution_count": 434,
     "metadata": {},
     "output_type": "execute_result"
    }
   ],
   "source": [
    "HiraokaScrap()"
   ]
  },
  {
   "cell_type": "code",
   "execution_count": 435,
   "id": "cb811348",
   "metadata": {},
   "outputs": [],
   "source": [
    "Scrap09092023=HiraokaScrap()"
   ]
  },
  {
   "cell_type": "code",
   "execution_count": 436,
   "id": "57eecafa",
   "metadata": {},
   "outputs": [],
   "source": [
    "Scrap09092023_2=HiraokaScrap()\n"
   ]
  },
  {
   "cell_type": "code",
   "execution_count": 437,
   "id": "4b262579",
   "metadata": {},
   "outputs": [
    {
     "data": {
      "text/html": [
       "<div>\n",
       "<style scoped>\n",
       "    .dataframe tbody tr th:only-of-type {\n",
       "        vertical-align: middle;\n",
       "    }\n",
       "\n",
       "    .dataframe tbody tr th {\n",
       "        vertical-align: top;\n",
       "    }\n",
       "\n",
       "    .dataframe thead th {\n",
       "        text-align: right;\n",
       "    }\n",
       "</style>\n",
       "<table border=\"1\" class=\"dataframe\">\n",
       "  <thead>\n",
       "    <tr style=\"text-align: right;\">\n",
       "      <th></th>\n",
       "      <th>Nombres al 2023-09-09 23:55:51</th>\n",
       "      <th>Precio al 2023-09-09 23:55:51</th>\n",
       "      <th>Nombres al 2023-09-09 23:56:06</th>\n",
       "      <th>Precio al 2023-09-09 23:56:06</th>\n",
       "    </tr>\n",
       "  </thead>\n",
       "  <tbody>\n",
       "    <tr>\n",
       "      <th>0</th>\n",
       "      <td>Laptop HP de 15.6\", modelo 15-dy5000la, proces...</td>\n",
       "      <td>1849.0</td>\n",
       "      <td>Laptop HP de 15.6\", modelo 15-dy5000la, proces...</td>\n",
       "      <td>1849.0</td>\n",
       "    </tr>\n",
       "    <tr>\n",
       "      <th>1</th>\n",
       "      <td>Laptop Gamer HP Victus de 15.6\", modelo 15-fb0...</td>\n",
       "      <td>2999.0</td>\n",
       "      <td>Laptop Gamer HP Victus de 15.6\", modelo 15-fb0...</td>\n",
       "      <td>2999.0</td>\n",
       "    </tr>\n",
       "    <tr>\n",
       "      <th>2</th>\n",
       "      <td>Laptop HP de 15.6\", modelo 15-fd0008la, proces...</td>\n",
       "      <td>3299.0</td>\n",
       "      <td>Laptop HP de 15.6\", modelo 15-fd0008la, proces...</td>\n",
       "      <td>3299.0</td>\n",
       "    </tr>\n",
       "    <tr>\n",
       "      <th>3</th>\n",
       "      <td>Laptop Gamer Acer de 18\", modelo PH18-71-72SW,...</td>\n",
       "      <td>9999.0</td>\n",
       "      <td>Laptop Gamer Acer de 18\", modelo PH18-71-72SW,...</td>\n",
       "      <td>9999.0</td>\n",
       "    </tr>\n",
       "    <tr>\n",
       "      <th>4</th>\n",
       "      <td>Laptop Lenovo IdeaPad 1 15.6\" AMD Ryzen 3 7320...</td>\n",
       "      <td>1599.0</td>\n",
       "      <td>Laptop Lenovo IdeaPad 1 15.6\" AMD Ryzen 3 7320...</td>\n",
       "      <td>1599.0</td>\n",
       "    </tr>\n",
       "    <tr>\n",
       "      <th>...</th>\n",
       "      <td>...</td>\n",
       "      <td>...</td>\n",
       "      <td>...</td>\n",
       "      <td>...</td>\n",
       "    </tr>\n",
       "    <tr>\n",
       "      <th>73</th>\n",
       "      <td>Laptop Lenovo IdeaPad Gaming 3i de 15.6\", mode...</td>\n",
       "      <td>3299.0</td>\n",
       "      <td>Laptop Lenovo IdeaPad Gaming 3i de 15.6\", mode...</td>\n",
       "      <td>3299.0</td>\n",
       "    </tr>\n",
       "    <tr>\n",
       "      <th>74</th>\n",
       "      <td>Laptop Huawei MateBook D15 de 15.6\", modelo BO...</td>\n",
       "      <td>2299.0</td>\n",
       "      <td>Laptop Huawei MateBook D15 de 15.6\", modelo BO...</td>\n",
       "      <td>2299.0</td>\n",
       "    </tr>\n",
       "    <tr>\n",
       "      <th>75</th>\n",
       "      <td>MacBook Pro 13.3\" M2 256GB SSD Gris Espacial</td>\n",
       "      <td>6499.0</td>\n",
       "      <td>MacBook Pro 13.3\" M2 256GB SSD Gris Espacial</td>\n",
       "      <td>6499.0</td>\n",
       "    </tr>\n",
       "    <tr>\n",
       "      <th>76</th>\n",
       "      <td>Laptop Asus Vivobook de 15.6\", modelo E1504GA-...</td>\n",
       "      <td>1399.0</td>\n",
       "      <td>Laptop Asus Vivobook de 15.6\", modelo E1504GA-...</td>\n",
       "      <td>1399.0</td>\n",
       "    </tr>\n",
       "    <tr>\n",
       "      <th>77</th>\n",
       "      <td>Laptop Lenovo Ideapad Flex 5 de 14\", modelo 82...</td>\n",
       "      <td>1749.0</td>\n",
       "      <td>Laptop Lenovo Ideapad Flex 5 de 14\", modelo 82...</td>\n",
       "      <td>1749.0</td>\n",
       "    </tr>\n",
       "  </tbody>\n",
       "</table>\n",
       "<p>78 rows × 4 columns</p>\n",
       "</div>"
      ],
      "text/plain": [
       "                       Nombres al 2023-09-09 23:55:51  \\\n",
       "0   Laptop HP de 15.6\", modelo 15-dy5000la, proces...   \n",
       "1   Laptop Gamer HP Victus de 15.6\", modelo 15-fb0...   \n",
       "2   Laptop HP de 15.6\", modelo 15-fd0008la, proces...   \n",
       "3   Laptop Gamer Acer de 18\", modelo PH18-71-72SW,...   \n",
       "4   Laptop Lenovo IdeaPad 1 15.6\" AMD Ryzen 3 7320...   \n",
       "..                                                ...   \n",
       "73  Laptop Lenovo IdeaPad Gaming 3i de 15.6\", mode...   \n",
       "74  Laptop Huawei MateBook D15 de 15.6\", modelo BO...   \n",
       "75       MacBook Pro 13.3\" M2 256GB SSD Gris Espacial   \n",
       "76  Laptop Asus Vivobook de 15.6\", modelo E1504GA-...   \n",
       "77  Laptop Lenovo Ideapad Flex 5 de 14\", modelo 82...   \n",
       "\n",
       "    Precio al 2023-09-09 23:55:51  \\\n",
       "0                          1849.0   \n",
       "1                          2999.0   \n",
       "2                          3299.0   \n",
       "3                          9999.0   \n",
       "4                          1599.0   \n",
       "..                            ...   \n",
       "73                         3299.0   \n",
       "74                         2299.0   \n",
       "75                         6499.0   \n",
       "76                         1399.0   \n",
       "77                         1749.0   \n",
       "\n",
       "                       Nombres al 2023-09-09 23:56:06  \\\n",
       "0   Laptop HP de 15.6\", modelo 15-dy5000la, proces...   \n",
       "1   Laptop Gamer HP Victus de 15.6\", modelo 15-fb0...   \n",
       "2   Laptop HP de 15.6\", modelo 15-fd0008la, proces...   \n",
       "3   Laptop Gamer Acer de 18\", modelo PH18-71-72SW,...   \n",
       "4   Laptop Lenovo IdeaPad 1 15.6\" AMD Ryzen 3 7320...   \n",
       "..                                                ...   \n",
       "73  Laptop Lenovo IdeaPad Gaming 3i de 15.6\", mode...   \n",
       "74  Laptop Huawei MateBook D15 de 15.6\", modelo BO...   \n",
       "75       MacBook Pro 13.3\" M2 256GB SSD Gris Espacial   \n",
       "76  Laptop Asus Vivobook de 15.6\", modelo E1504GA-...   \n",
       "77  Laptop Lenovo Ideapad Flex 5 de 14\", modelo 82...   \n",
       "\n",
       "    Precio al 2023-09-09 23:56:06  \n",
       "0                          1849.0  \n",
       "1                          2999.0  \n",
       "2                          3299.0  \n",
       "3                          9999.0  \n",
       "4                          1599.0  \n",
       "..                            ...  \n",
       "73                         3299.0  \n",
       "74                         2299.0  \n",
       "75                         6499.0  \n",
       "76                         1399.0  \n",
       "77                         1749.0  \n",
       "\n",
       "[78 rows x 4 columns]"
      ]
     },
     "execution_count": 437,
     "metadata": {},
     "output_type": "execute_result"
    }
   ],
   "source": [
    "combined_df = pd.concat([Scrap09092023, Scrap09092023_2], axis=1)\n",
    "combined_df"
   ]
  },
  {
   "cell_type": "markdown",
   "id": "a155ebc7",
   "metadata": {},
   "source": [
    "# CHAT GPT"
   ]
  },
  {
   "cell_type": "code",
   "execution_count": 438,
   "id": "634a122a",
   "metadata": {},
   "outputs": [
    {
     "name": "stdout",
     "output_type": "stream",
     "text": [
      "\n",
      "\n",
      "Precio especial\n",
      "S/  1,849.00\n",
      "\n",
      "\n",
      "\n",
      "\n",
      "Precio especial\n",
      "S/  2,999.00\n",
      "\n",
      "\n",
      "\n",
      "\n",
      "Precio especial\n",
      "S/  3,299.00\n",
      "\n",
      "\n",
      "\n",
      "\n",
      "Precio especial\n",
      "S/  9,999.00\n",
      "\n",
      "\n",
      "\n",
      "\n",
      "Precio especial\n",
      "S/  1,599.00\n",
      "\n",
      "\n",
      "\n",
      "\n",
      "Precio especial\n",
      "S/  10,999.00\n",
      "\n",
      "\n",
      "\n",
      "\n",
      "Precio especial\n",
      "S/  2,399.00\n",
      "\n",
      "\n",
      "\n",
      "\n",
      "Precio especial\n",
      "S/  3,899.00\n",
      "\n",
      "\n",
      "\n",
      "\n",
      "Precio especial\n",
      "S/  4,899.00\n",
      "\n",
      "\n",
      "\n",
      "\n",
      "Precio especial\n",
      "S/  2,499.00\n",
      "\n",
      "\n",
      "\n",
      "\n",
      "Precio especial\n",
      "S/  4,599.00\n",
      "\n",
      "\n",
      "\n",
      "\n",
      "Precio especial\n",
      "S/  5,999.00\n",
      "\n",
      "\n",
      "\n",
      "\n",
      "Precio especial\n",
      "S/  2,299.00\n",
      "\n",
      "\n",
      "\n",
      "\n",
      "Precio especial\n",
      "S/  2,099.00\n",
      "\n",
      "\n",
      "\n",
      "\n",
      "Precio especial\n",
      "S/  2,599.00\n",
      "\n",
      "\n",
      "\n",
      "\n",
      "Precio especial\n",
      "S/  4,199.00\n",
      "\n",
      "\n",
      "\n",
      "\n",
      "Precio especial\n",
      "S/  1,699.00\n",
      "\n",
      "\n",
      "\n",
      "\n",
      "Precio especial\n",
      "S/  5,499.00\n",
      "\n",
      "\n",
      "\n",
      "\n",
      "Precio especial\n",
      "S/  4,299.00\n",
      "\n",
      "\n"
     ]
    }
   ],
   "source": [
    "import requests\n",
    "from bs4 import BeautifulSoup\n",
    "\n",
    "URL = 'https://hiraoka.com.pe/computo-y-tecnologia/computadoras/laptops'\n",
    "\n",
    "# Realizamos una solicitud GET para obtener el contenido de la página web\n",
    "response = requests.get(URL)\n",
    "\n",
    "# Verificamos si la solicitud fue exitosa (código de estado 200)\n",
    "if response.status_code == 200:\n",
    "    # Parseamos el contenido HTML de la página usando BeautifulSoup\n",
    "    soup = BeautifulSoup(response.text, 'html.parser')\n",
    "    \n",
    "    # Buscamos los nodos <span> con la clase 'special-price'\n",
    "    special_price_spans = soup.find_all('span', class_='special-price')\n",
    "    \n",
    "    # Iteramos sobre los resultados y extraemos el texto\n",
    "    for span in special_price_spans:\n",
    "        print(span.text)\n",
    "else:\n",
    "    print(f\"No se pudo obtener la página (Código de estado {response.status_code})\")"
   ]
  }
 ],
 "metadata": {
  "kernelspec": {
   "display_name": "Python 3 (ipykernel)",
   "language": "python",
   "name": "python3"
  },
  "language_info": {
   "codemirror_mode": {
    "name": "ipython",
    "version": 3
   },
   "file_extension": ".py",
   "mimetype": "text/x-python",
   "name": "python",
   "nbconvert_exporter": "python",
   "pygments_lexer": "ipython3",
   "version": "3.9.7"
  }
 },
 "nbformat": 4,
 "nbformat_minor": 5
}
